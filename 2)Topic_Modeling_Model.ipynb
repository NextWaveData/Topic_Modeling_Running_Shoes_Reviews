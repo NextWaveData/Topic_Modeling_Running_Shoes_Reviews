{
 "cells": [
  {
   "cell_type": "markdown",
   "metadata": {},
   "source": [
    "# RUNNING SHOES REVIEWS ANALYSIS - Part 2"
   ]
  },
  {
   "cell_type": "markdown",
   "metadata": {},
   "source": [
    "<div class=\"alert alert-block alert-info\">\n",
    "\n",
    "# Index | Notebook 2 – Topic Modeling with Sentence-BERT & BERTopic\n",
    "    \n",
    "[1. Dataset Overview](#1)<br>\n",
    "\n",
    "[2. Import Libraries & Load Preprocessed Dataset](#2)<br>\n",
    "\n",
    "[3. Light Preprocessing](#3)<br>\n",
    "- [3.1 Review Lenght](#3.1)<br>\n",
    "- [3.2 Tokenization](#3.2)<br>\n",
    "\n",
    "[4. Sentence-BERT (Generate Embeddings)](#4)<br>\n",
    "- [4.1 MiniLM](#4.1)<br>\n",
    "- [4.2 MPNet](#4.2)<br>\n",
    "\n",
    "[5. t-SNE & UMAP: Dimensionality Reduction ](#5)<br>\n",
    "\n",
    "[6. HDBSCAN](#6)<br>\n",
    "\n",
    "[7. BERTopic: Topic Modeling](#7)<br>\n",
    "\n",
    "[8. Visualize Topics](#8)<br>\n",
    "\n",
    "[9. Analyze Topic Distribution](#9)<br>\n",
    "\n",
    "[13. Hyperparamters Fine-Tuning](#13)\n",
    "\n",
    "</div>\n"
   ]
  },
  {
   "cell_type": "markdown",
   "metadata": {},
   "source": [
    "<a class=\"anchor\" id=\"2\">\n",
    "\n",
    "# 2. Import Libraries & Load Preprocessed Dataset\n",
    "    \n",
    "</a>"
   ]
  },
  {
   "cell_type": "code",
   "execution_count": 1,
   "metadata": {},
   "outputs": [],
   "source": [
    "# Import libraries\n",
    "\n",
    "import evaluate\n",
    "import ftfy\n",
    "import hdbscan\n",
    "import nltk\n",
    "import numpy as np\n",
    "import matplotlib.pyplot as plt\n",
    "import os\n",
    "import pandas as pd\n",
    "import re\n",
    "import seaborn as sns\n",
    "import string\n",
    "import torch\n",
    "import umap\n",
    "\n",
    "from bertopic import BERTopic\n",
    "from collections import Counter\n",
    "from gensim.corpora import Dictionary\n",
    "from gensim.models import CoherenceModel\n",
    "from gensim.utils import simple_preprocess\n",
    "from hdbscan import HDBSCAN\n",
    "from nltk.corpus import stopwords\n",
    "from sklearn.feature_extraction.text import CountVectorizer\n",
    "from sklearn.manifold import TSNE\n",
    "from sklearn.metrics import silhouette_score\n",
    "from sklearn.metrics.pairwise import cosine_distances\n",
    "from sklearn.pipeline import make_pipeline\n",
    "from sentence_transformers import SentenceTransformer\n",
    "from transformers import AutoTokenizer\n",
    "from umap import UMAP"
   ]
  },
  {
   "cell_type": "code",
   "execution_count": null,
   "metadata": {},
   "outputs": [],
   "source": [
    "# Import dataset\n",
    "file_path = \"/Users/giuliabovenga/Desktop/Preprocessed Dataset/DF Final Dataset.csv\"\n",
    "df = pd.read_csv(file_path)"
   ]
  },
  {
   "cell_type": "code",
   "execution_count": 3,
   "metadata": {},
   "outputs": [],
   "source": [
    "# Keep only necessary columns\n",
    "df = df[['Full_Review', 'sentiment_label', 'Language_review', 'Rating']]\n",
    "\n",
    "# Drop rows with missing or empty reviews\n",
    "df = df[df['Full_Review'].notna() & df['Full_Review'].str.strip().ne(\"\")]"
   ]
  },
  {
   "cell_type": "code",
   "execution_count": 4,
   "metadata": {},
   "outputs": [
    {
     "name": "stdout",
     "output_type": "stream",
     "text": [
      "Filtered dataset shape: (20076, 4)\n",
      "Languages in dataset:\n",
      " Language_review\n",
      "en    8465\n",
      "it    5926\n",
      "fr    5685\n",
      "Name: count, dtype: int64\n"
     ]
    }
   ],
   "source": [
    "# Filter only reviews written in Italian, English and French\n",
    "df = df[df['Language_review'].isin(['it', 'en', 'fr'])].reset_index(drop=True)\n",
    "\n",
    "print(\"Filtered dataset shape:\", df.shape)\n",
    "print(\"Languages in dataset:\\n\", df['Language_review'].value_counts())"
   ]
  },
  {
   "cell_type": "code",
   "execution_count": 5,
   "metadata": {},
   "outputs": [
    {
     "data": {
      "text/html": [
       "<div>\n",
       "<style scoped>\n",
       "    .dataframe tbody tr th:only-of-type {\n",
       "        vertical-align: middle;\n",
       "    }\n",
       "\n",
       "    .dataframe tbody tr th {\n",
       "        vertical-align: top;\n",
       "    }\n",
       "\n",
       "    .dataframe thead th {\n",
       "        text-align: right;\n",
       "    }\n",
       "</style>\n",
       "<table border=\"1\" class=\"dataframe\">\n",
       "  <thead>\n",
       "    <tr style=\"text-align: right;\">\n",
       "      <th></th>\n",
       "      <th>Full_Review</th>\n",
       "      <th>sentiment_label</th>\n",
       "      <th>Language_review</th>\n",
       "      <th>Rating</th>\n",
       "    </tr>\n",
       "  </thead>\n",
       "  <tbody>\n",
       "    <tr>\n",
       "      <th>4984</th>\n",
       "      <td>running running femme confortable et légère bo...</td>\n",
       "      <td>Positive</td>\n",
       "      <td>fr</td>\n",
       "      <td>5</td>\n",
       "    </tr>\n",
       "    <tr>\n",
       "      <th>12805</th>\n",
       "      <td>super chaussure Aprés 1 mois d'utilisation je ...</td>\n",
       "      <td>Positive</td>\n",
       "      <td>fr</td>\n",
       "      <td>5</td>\n",
       "    </tr>\n",
       "    <tr>\n",
       "      <th>15305</th>\n",
       "      <td>Not very comfortable shoes The sole is very ha...</td>\n",
       "      <td>Negative</td>\n",
       "      <td>en</td>\n",
       "      <td>2</td>\n",
       "    </tr>\n",
       "    <tr>\n",
       "      <th>15397</th>\n",
       "      <td>Great shoe for the active person! Lots of supp...</td>\n",
       "      <td>Positive</td>\n",
       "      <td>en</td>\n",
       "      <td>5</td>\n",
       "    </tr>\n",
       "    <tr>\n",
       "      <th>1793</th>\n",
       "      <td>Within 3 months, the shoes is cut from top see...</td>\n",
       "      <td>Negative</td>\n",
       "      <td>en</td>\n",
       "      <td>1</td>\n",
       "    </tr>\n",
       "    <tr>\n",
       "      <th>18226</th>\n",
       "      <td>Shoes are super comfortable and a great value!...</td>\n",
       "      <td>Positive</td>\n",
       "      <td>en</td>\n",
       "      <td>5</td>\n",
       "    </tr>\n",
       "    <tr>\n",
       "      <th>1889</th>\n",
       "      <td>Nice üëç Nice shoes</td>\n",
       "      <td>Positive</td>\n",
       "      <td>en</td>\n",
       "      <td>5</td>\n",
       "    </tr>\n",
       "    <tr>\n",
       "      <th>13012</th>\n",
       "      <td>Excellent marathon training shoes Durable and ...</td>\n",
       "      <td>Positive</td>\n",
       "      <td>en</td>\n",
       "      <td>5</td>\n",
       "    </tr>\n",
       "    <tr>\n",
       "      <th>4701</th>\n",
       "      <td>Je suis satisfaite de Je suis satisfaite de mo...</td>\n",
       "      <td>Positive</td>\n",
       "      <td>fr</td>\n",
       "      <td>5</td>\n",
       "    </tr>\n",
       "    <tr>\n",
       "      <th>17623</th>\n",
       "      <td>Softer, flashier, faster than ever! I did writ...</td>\n",
       "      <td>Positive</td>\n",
       "      <td>en</td>\n",
       "      <td>5</td>\n",
       "    </tr>\n",
       "  </tbody>\n",
       "</table>\n",
       "</div>"
      ],
      "text/plain": [
       "                                             Full_Review sentiment_label  \\\n",
       "4984   running running femme confortable et légère bo...        Positive   \n",
       "12805  super chaussure Aprés 1 mois d'utilisation je ...        Positive   \n",
       "15305  Not very comfortable shoes The sole is very ha...        Negative   \n",
       "15397  Great shoe for the active person! Lots of supp...        Positive   \n",
       "1793   Within 3 months, the shoes is cut from top see...        Negative   \n",
       "18226  Shoes are super comfortable and a great value!...        Positive   \n",
       "1889                                Nice üëç Nice shoes        Positive   \n",
       "13012  Excellent marathon training shoes Durable and ...        Positive   \n",
       "4701   Je suis satisfaite de Je suis satisfaite de mo...        Positive   \n",
       "17623  Softer, flashier, faster than ever! I did writ...        Positive   \n",
       "\n",
       "      Language_review  Rating  \n",
       "4984               fr       5  \n",
       "12805              fr       5  \n",
       "15305              en       2  \n",
       "15397              en       5  \n",
       "1793               en       1  \n",
       "18226              en       5  \n",
       "1889               en       5  \n",
       "13012              en       5  \n",
       "4701               fr       5  \n",
       "17623              en       5  "
      ]
     },
     "execution_count": 5,
     "metadata": {},
     "output_type": "execute_result"
    }
   ],
   "source": [
    "df.sample(10)"
   ]
  },
  {
   "cell_type": "markdown",
   "metadata": {},
   "source": [
    "<a class=\"anchor\" id=\"3\">\n",
    "\n",
    "# 3. Further Preprocessing\n",
    "    \n",
    "</a>"
   ]
  },
  {
   "cell_type": "markdown",
   "metadata": {},
   "source": [
    "As I am using BERTopic, which is a transformer algorithm, I will perform a light cleaning and I will keep the punctuation as it will be useful later for the tokenization part."
   ]
  },
  {
   "cell_type": "code",
   "execution_count": 6,
   "metadata": {},
   "outputs": [],
   "source": [
    "def light_cleaning_bert(text):\n",
    "    \"\"\"\n",
    "    Recommended light cleaning for BERT-based models:\n",
    "    - fix encoding\n",
    "    - lowercase\n",
    "    - removes URLs\n",
    "    - normalizes spaces\n",
    "    - leaves punctuation and accents\n",
    "    \"\"\"\n",
    "    text = ftfy.fix_text(str(text))                  # fix UTF encoding\n",
    "    text = text.lower()                              # lowercase\n",
    "    text = re.sub(r'http\\S+', '', text)              # remove URLs\n",
    "    text = re.sub(r'\\s+', ' ', text).strip()         # remove extra whitespace\n",
    "    return text\n"
   ]
  },
  {
   "cell_type": "code",
   "execution_count": 7,
   "metadata": {},
   "outputs": [],
   "source": [
    "df[\"Clean_Review\"] = df[\"Full_Review\"].apply(light_cleaning_bert)"
   ]
  },
  {
   "cell_type": "code",
   "execution_count": 8,
   "metadata": {},
   "outputs": [],
   "source": [
    "df[\"word_count\"] = df[\"Clean_Review\"].str.split().apply(len)"
   ]
  },
  {
   "cell_type": "code",
   "execution_count": 9,
   "metadata": {},
   "outputs": [],
   "source": [
    "# Calculate the length of comments\n",
    "comment_lengths = df['Clean_Review'].str.len()"
   ]
  },
  {
   "cell_type": "markdown",
   "metadata": {},
   "source": [
    "I am going to create a multilingual stop word list but I am going to use it in a later step because I will remove these words only in the visualization part but I will keep them during the embeddings"
   ]
  },
  {
   "cell_type": "markdown",
   "metadata": {},
   "source": [
    "### Stopwords"
   ]
  },
  {
   "cell_type": "code",
   "execution_count": 10,
   "metadata": {},
   "outputs": [],
   "source": [
    "# create  a multilingual stop word list\n",
    "stop_words_multilingual = list(set(\n",
    "    stopwords.words('english') +\n",
    "    stopwords.words('french') +\n",
    "    stopwords.words('italian')\n",
    "))"
   ]
  },
  {
   "cell_type": "code",
   "execution_count": 11,
   "metadata": {},
   "outputs": [],
   "source": [
    "# Add generic words to exclude (e.g. scarpe, shoes)\n",
    "custom_generic_words = [\n",
    "    \"scarpa\", \"scarpe\", \"chaussures\", \"chaussure\", \n",
    "    \"shoes\", \"shoe\", \"baskets\", \"basket\"\n",
    "]\n",
    "\n",
    "# Combine the stopwords\n",
    "filtered_stopwords = stop_words_multilingual + custom_generic_words"
   ]
  },
  {
   "cell_type": "markdown",
   "metadata": {},
   "source": [
    "<a class=\"anchor\" id=\"3.1\">\n",
    "\n",
    "## 3.1 Review Lenght\n",
    "    \n",
    "</a>"
   ]
  },
  {
   "cell_type": "markdown",
   "metadata": {},
   "source": [
    "### Remove short reviews"
   ]
  },
  {
   "cell_type": "code",
   "execution_count": 12,
   "metadata": {},
   "outputs": [],
   "source": [
    "# Drop short reviews as create noise in the model\n",
    "df[\"word_count\"] = df[\"Clean_Review\"].str.split().str.len()\n",
    "df = df[df[\"word_count\"] > 4].reset_index(drop=True)"
   ]
  },
  {
   "cell_type": "code",
   "execution_count": 13,
   "metadata": {},
   "outputs": [
    {
     "data": {
      "image/png": "[encoded data removed]",
      "text/plain": [
       "<Figure size 1000x500 with 1 Axes>"
      ]
     },
     "metadata": {},
     "output_type": "display_data"
    }
   ],
   "source": [
    "plt.figure(figsize=(10,5))\n",
    "df[\"word_count\"].hist(bins=100, log=True, color='skyblue')\n",
    "plt.title(\"Distribution of Comment Length (Words)\")\n",
    "plt.xlabel(\"Words per Review\")\n",
    "plt.ylabel(\"Log-scaled Frequency\")\n",
    "plt.yscale('log')\n",
    "plt.show()"
   ]
  },
  {
   "cell_type": "code",
   "execution_count": 14,
   "metadata": {},
   "outputs": [
    {
     "data": {
      "image/png": "[encoded data removed]",
      "text/plain": [
       "<Figure size 1000x600 with 1 Axes>"
      ]
     },
     "metadata": {},
     "output_type": "display_data"
    }
   ],
   "source": [
    "# Calculate the number of comments for each length\n",
    "comment_length_counts = comment_lengths.value_counts().sort_index()\n",
    "\n",
    "# Barplot\n",
    "plt.figure(figsize=(10, 6))\n",
    "plt.bar(comment_length_counts.index, comment_length_counts.values, color='blue')\n",
    "plt.xlabel('Words per Review')\n",
    "plt.ylabel('Number of Comments')\n",
    "plt.title('Distribution of the Length of the Comments (Words)')\n",
    "plt.yscale('log')\n",
    "plt.show()\n"
   ]
  },
  {
   "cell_type": "code",
   "execution_count": 15,
   "metadata": {},
   "outputs": [
    {
     "data": {
      "image/png": "[encoded data removed]",
      "text/plain": [
       "<Figure size 1000x600 with 1 Axes>"
      ]
     },
     "metadata": {},
     "output_type": "display_data"
    }
   ],
   "source": [
    "# Exclude reviews longer than 1000 words\n",
    "comment_lengths_1 = comment_lengths[comment_lengths <= 1200]\n",
    "\n",
    "# Count number of reviews per comment length\n",
    "comment_length_counts_1 = comment_lengths_1.value_counts().sort_index()\n",
    "\n",
    "# Plot\n",
    "plt.figure(figsize=(10, 6))\n",
    "plt.bar(comment_length_counts_1.index, comment_length_counts_1.values, color='blue')\n",
    "plt.xlabel('Words per Review')\n",
    "plt.ylabel('Number of Comments')\n",
    "plt.title('Distribution of the Length of the Comments')\n",
    "plt.yscale('log')\n",
    "plt.show()\n"
   ]
  },
  {
   "cell_type": "markdown",
   "metadata": {},
   "source": [
    "### Remove Length Bias | Maximum Sequence Lenght"
   ]
  },
  {
   "cell_type": "markdown",
   "metadata": {},
   "source": [
    "The maximum length in tokens manageable by a model (called maximum sequence length) is a key parameter in Transformer models. This maximum length in tokens depends on the configuration of the underlying BERT-like model (MiniLM, DistilBERT, MPNet, etc.). This information can be found in the max_seq_length field of the Hugging Face tokenizer configuration.\n",
    "\n",
    "The paraphrase-multilingual-MiniLM-L12-v2 model has a maximum length of 256 tokens while distiluse-base-multilingual-cased-v1 and paraphrase-multilingual-mpnet-base-v2 have it of 512 tokens. At the moment I will test these 3 models with a preprocessing that considers 256 tokens maximum length and then eventually I will do more tests for the other two models."
   ]
  },
  {
   "cell_type": "markdown",
   "metadata": {},
   "source": [
    "<a class=\"anchor\" id=\"3.2\">\n",
    "\n",
    "## 3.2 Tokenization\n",
    "    \n",
    "</a>"
   ]
  },
  {
   "cell_type": "markdown",
   "metadata": {},
   "source": [
    "<a class=\"anchor\" id=\"3.2.1\">\n",
    "\n",
    "### 3.2.1 sentence-transformers/paraphrase-multilingual-MiniLM-L12-v2\n",
    "    \n",
    "</a>"
   ]
  },
  {
   "cell_type": "code",
   "execution_count": 16,
   "metadata": {},
   "outputs": [],
   "source": [
    "# Load the multilingual Sentence-BERT model MiniLM-L12-v2\n",
    "model_miniLM = \"sentence-transformers/paraphrase-multilingual-MiniLM-L12-v2\"\n"
   ]
  },
  {
   "cell_type": "code",
   "execution_count": 17,
   "metadata": {},
   "outputs": [],
   "source": [
    "tokenizer_miniLM = AutoTokenizer.from_pretrained(model_miniLM)"
   ]
  },
  {
   "cell_type": "code",
   "execution_count": 18,
   "metadata": {},
   "outputs": [],
   "source": [
    "max_tokens = 256\n",
    "\n",
    "def split_into_token_chunks(text, tokenizer, max_tokens=256, min_words=10):\n",
    "    \"\"\"\n",
    "    Breaks text into chunks <= max_tokens (in tokens), joining sentences as long as possible.\n",
    "    Chunks that are too short are joined to the previous one if possible.\n",
    "    \"\"\"\n",
    "    sentences = re.split(r'(?<=[.!?])\\s+', text.strip())\n",
    "    \n",
    "    chunks = []\n",
    "    current_chunk = \"\"\n",
    "    \n",
    "    for sent in sentences:\n",
    "        candidate = (current_chunk + \" \" + sent).strip()\n",
    "        token_count = len(tokenizer.encode(candidate, truncation=False))\n",
    "\n",
    "        if token_count <= max_tokens:\n",
    "            current_chunk = candidate\n",
    "        else:\n",
    "            if current_chunk:\n",
    "                # Before adding, check if it is too short\n",
    "                if len(current_chunk.split()) < min_words and chunks:\n",
    "                    # Merge with previous chunk if possible\n",
    "                    chunks[-1] += \" \" + current_chunk\n",
    "                else:\n",
    "                    chunks.append(current_chunk.strip())\n",
    "            # Sentence too long by itself -> forcefully cut it out\n",
    "            tokens = tokenizer.encode(sent, truncation=False)\n",
    "            for i in range(0, len(tokens), max_tokens):\n",
    "                sub_chunk = tokenizer.decode(tokens[i:i+max_tokens], skip_special_tokens=True)\n",
    "                chunks.append(sub_chunk.strip())\n",
    "            current_chunk = \"\"\n",
    "    \n",
    "    if current_chunk:\n",
    "        if len(current_chunk.split()) < min_words and chunks:\n",
    "            chunks[-1] += \" \" + current_chunk\n",
    "        else:\n",
    "            chunks.append(current_chunk.strip())\n",
    "    \n",
    "    return chunks\n",
    "\n",
    "split_rows = []\n",
    "\n",
    "for idx, row in df.iterrows():\n",
    "    text = row[\"Clean_Review\"]\n",
    "    segments = split_into_token_chunks(text, tokenizer=tokenizer_miniLM, max_tokens=256, min_words=10)\n",
    "    \n",
    "    for chunk_id, segment in enumerate(segments):\n",
    "        new_row = row.copy()\n",
    "        new_row[\"Clean_Review\"] = segment\n",
    "        new_row[\"chunk_id\"] = chunk_id\n",
    "        new_row[\"word_count\"] = len(segment.split())\n",
    "        split_rows.append(new_row)\n"
   ]
  },
  {
   "cell_type": "code",
   "execution_count": 19,
   "metadata": {},
   "outputs": [],
   "source": [
    "# New dataframe with split reviews \n",
    "df_miniLM = pd.DataFrame(split_rows)\n",
    "df_miniLM.reset_index(drop=True, inplace=True)"
   ]
  },
  {
   "cell_type": "code",
   "execution_count": null,
   "metadata": {},
   "outputs": [],
   "source": [
    "# Filter again chunk too short\n",
    "df_miniLM = df_miniLM[df_miniLM[\"word_count\"] >= 10].reset_index(drop=True)"
   ]
  },
  {
   "cell_type": "code",
   "execution_count": 21,
   "metadata": {},
   "outputs": [
    {
     "data": {
      "text/html": [
       "<div>\n",
       "<style scoped>\n",
       "    .dataframe tbody tr th:only-of-type {\n",
       "        vertical-align: middle;\n",
       "    }\n",
       "\n",
       "    .dataframe tbody tr th {\n",
       "        vertical-align: top;\n",
       "    }\n",
       "\n",
       "    .dataframe thead th {\n",
       "        text-align: right;\n",
       "    }\n",
       "</style>\n",
       "<table border=\"1\" class=\"dataframe\">\n",
       "  <thead>\n",
       "    <tr style=\"text-align: right;\">\n",
       "      <th></th>\n",
       "      <th>Full_Review</th>\n",
       "      <th>sentiment_label</th>\n",
       "      <th>Language_review</th>\n",
       "      <th>Rating</th>\n",
       "      <th>Clean_Review</th>\n",
       "      <th>word_count</th>\n",
       "      <th>chunk_id</th>\n",
       "    </tr>\n",
       "  </thead>\n",
       "  <tbody>\n",
       "    <tr>\n",
       "      <th>12793</th>\n",
       "      <td>Different from PXS v1 But Still Great The firs...</td>\n",
       "      <td>Positive</td>\n",
       "      <td>en</td>\n",
       "      <td>5</td>\n",
       "      <td>i think tts will work fine for most people but...</td>\n",
       "      <td>20</td>\n",
       "      <td>2</td>\n",
       "    </tr>\n",
       "    <tr>\n",
       "      <th>6834</th>\n",
       "      <td>Best all around running shoe! Real ones know t...</td>\n",
       "      <td>Positive</td>\n",
       "      <td>en</td>\n",
       "      <td>5</td>\n",
       "      <td>best all around running shoe! real ones know t...</td>\n",
       "      <td>41</td>\n",
       "      <td>0</td>\n",
       "    </tr>\n",
       "    <tr>\n",
       "      <th>8718</th>\n",
       "      <td>they are comfy I like them, I'm using those sh...</td>\n",
       "      <td>Positive</td>\n",
       "      <td>en</td>\n",
       "      <td>5</td>\n",
       "      <td>they are comfy i like them, i'm using those sh...</td>\n",
       "      <td>14</td>\n",
       "      <td>0</td>\n",
       "    </tr>\n",
       "    <tr>\n",
       "      <th>9313</th>\n",
       "      <td>Very comfortable Runs a little bit bigger I co...</td>\n",
       "      <td>Positive</td>\n",
       "      <td>en</td>\n",
       "      <td>5</td>\n",
       "      <td>very comfortable runs a little bit bigger i co...</td>\n",
       "      <td>14</td>\n",
       "      <td>0</td>\n",
       "    </tr>\n",
       "    <tr>\n",
       "      <th>2323</th>\n",
       "      <td>Cet article ne convient Cet article ne convien...</td>\n",
       "      <td>Negative</td>\n",
       "      <td>fr</td>\n",
       "      <td>1</td>\n",
       "      <td>cet article ne convient cet article ne convien...</td>\n",
       "      <td>25</td>\n",
       "      <td>0</td>\n",
       "    </tr>\n",
       "  </tbody>\n",
       "</table>\n",
       "</div>"
      ],
      "text/plain": [
       "                                             Full_Review sentiment_label  \\\n",
       "12793  Different from PXS v1 But Still Great The firs...        Positive   \n",
       "6834   Best all around running shoe! Real ones know t...        Positive   \n",
       "8718   they are comfy I like them, I'm using those sh...        Positive   \n",
       "9313   Very comfortable Runs a little bit bigger I co...        Positive   \n",
       "2323   Cet article ne convient Cet article ne convien...        Negative   \n",
       "\n",
       "      Language_review  Rating  \\\n",
       "12793              en       5   \n",
       "6834               en       5   \n",
       "8718               en       5   \n",
       "9313               en       5   \n",
       "2323               fr       1   \n",
       "\n",
       "                                            Clean_Review  word_count  chunk_id  \n",
       "12793  i think tts will work fine for most people but...          20         2  \n",
       "6834   best all around running shoe! real ones know t...          41         0  \n",
       "8718   they are comfy i like them, i'm using those sh...          14         0  \n",
       "9313   very comfortable runs a little bit bigger i co...          14         0  \n",
       "2323   cet article ne convient cet article ne convien...          25         0  "
      ]
     },
     "execution_count": 21,
     "metadata": {},
     "output_type": "execute_result"
    }
   ],
   "source": [
    "df_miniLM.sample(5)"
   ]
  },
  {
   "cell_type": "code",
   "execution_count": 22,
   "metadata": {},
   "outputs": [
    {
     "data": {
      "text/plain": [
       "7"
      ]
     },
     "execution_count": 22,
     "metadata": {},
     "output_type": "execute_result"
    }
   ],
   "source": [
    "# Check unique chunks\n",
    "df_miniLM[\"chunk_id\"].nunique()"
   ]
  },
  {
   "cell_type": "code",
   "execution_count": 23,
   "metadata": {},
   "outputs": [
    {
     "data": {
      "text/plain": [
       "chunk_id\n",
       "0    13595\n",
       "1       78\n",
       "2       56\n",
       "3       10\n",
       "4        9\n",
       "5        2\n",
       "6        2\n",
       "Name: count, dtype: int64"
      ]
     },
     "execution_count": 23,
     "metadata": {},
     "output_type": "execute_result"
    }
   ],
   "source": [
    "# check the chunks\n",
    "df_miniLM[\"chunk_id\"].value_counts().sort_index()\n"
   ]
  },
  {
   "cell_type": "code",
   "execution_count": 24,
   "metadata": {},
   "outputs": [],
   "source": [
    "# Count how many records there are for every chunk\n",
    "chunk_counts = df_miniLM[\"chunk_id\"].value_counts()"
   ]
  },
  {
   "cell_type": "code",
   "execution_count": 25,
   "metadata": {},
   "outputs": [
    {
     "data": {
      "text/html": [
       "<div>\n",
       "<style scoped>\n",
       "    .dataframe tbody tr th:only-of-type {\n",
       "        vertical-align: middle;\n",
       "    }\n",
       "\n",
       "    .dataframe tbody tr th {\n",
       "        vertical-align: top;\n",
       "    }\n",
       "\n",
       "    .dataframe thead th {\n",
       "        text-align: right;\n",
       "    }\n",
       "</style>\n",
       "<table border=\"1\" class=\"dataframe\">\n",
       "  <thead>\n",
       "    <tr style=\"text-align: right;\">\n",
       "      <th></th>\n",
       "      <th>Full_Review</th>\n",
       "      <th>sentiment_label</th>\n",
       "      <th>Language_review</th>\n",
       "      <th>Rating</th>\n",
       "      <th>Clean_Review</th>\n",
       "      <th>word_count</th>\n",
       "      <th>chunk_id</th>\n",
       "    </tr>\n",
       "  </thead>\n",
       "  <tbody>\n",
       "    <tr>\n",
       "      <th>10248</th>\n",
       "      <td>Would recommend for trail-running X-country Fi...</td>\n",
       "      <td>Positive</td>\n",
       "      <td>en</td>\n",
       "      <td>4</td>\n",
       "      <td>i do wish they would make the soles perform ju...</td>\n",
       "      <td>31</td>\n",
       "      <td>5</td>\n",
       "    </tr>\n",
       "    <tr>\n",
       "      <th>10249</th>\n",
       "      <td>Would recommend for trail-running X-country Fi...</td>\n",
       "      <td>Positive</td>\n",
       "      <td>en</td>\n",
       "      <td>4</td>\n",
       "      <td>the ever so slightly softer sole seems like a ...</td>\n",
       "      <td>107</td>\n",
       "      <td>6</td>\n",
       "    </tr>\n",
       "    <tr>\n",
       "      <th>10265</th>\n",
       "      <td>Would recommend for X-country trainers First o...</td>\n",
       "      <td>Positive</td>\n",
       "      <td>en</td>\n",
       "      <td>4</td>\n",
       "      <td>anyhow, the terrex agravic 3 trail running sho...</td>\n",
       "      <td>65</td>\n",
       "      <td>5</td>\n",
       "    </tr>\n",
       "    <tr>\n",
       "      <th>10266</th>\n",
       "      <td>Would recommend for X-country trainers First o...</td>\n",
       "      <td>Positive</td>\n",
       "      <td>en</td>\n",
       "      <td>4</td>\n",
       "      <td>if you're not used to buying adidas running sh...</td>\n",
       "      <td>23</td>\n",
       "      <td>6</td>\n",
       "    </tr>\n",
       "  </tbody>\n",
       "</table>\n",
       "</div>"
      ],
      "text/plain": [
       "                                             Full_Review sentiment_label  \\\n",
       "10248  Would recommend for trail-running X-country Fi...        Positive   \n",
       "10249  Would recommend for trail-running X-country Fi...        Positive   \n",
       "10265  Would recommend for X-country trainers First o...        Positive   \n",
       "10266  Would recommend for X-country trainers First o...        Positive   \n",
       "\n",
       "      Language_review  Rating  \\\n",
       "10248              en       4   \n",
       "10249              en       4   \n",
       "10265              en       4   \n",
       "10266              en       4   \n",
       "\n",
       "                                            Clean_Review  word_count  chunk_id  \n",
       "10248  i do wish they would make the soles perform ju...          31         5  \n",
       "10249  the ever so slightly softer sole seems like a ...         107         6  \n",
       "10265  anyhow, the terrex agravic 3 trail running sho...          65         5  \n",
       "10266  if you're not used to buying adidas running sh...          23         6  "
      ]
     },
     "execution_count": 25,
     "metadata": {},
     "output_type": "execute_result"
    }
   ],
   "source": [
    "# Check the chunks with 5 or 6\n",
    "chunk_ids_5_6 = chunk_counts[chunk_counts.index.isin([5, 6])].index.tolist()\n",
    "df_miniLM[df_miniLM[\"chunk_id\"].isin(chunk_ids_5_6)]\n"
   ]
  },
  {
   "cell_type": "markdown",
   "metadata": {},
   "source": [
    "<a class=\"anchor\" id=\"4\">\n",
    "\n",
    "# 4. Sentence-BERT: (Generate Embeddings)\n",
    "    \n",
    "</a>"
   ]
  },
  {
   "cell_type": "markdown",
   "metadata": {},
   "source": [
    "<a class=\"anchor\" id=\"4.1\">\n",
    "\n",
    "### 4.1 Model sentence-transformers/paraphrase-multilingual-MiniLM-L12-v2\n",
    "    \n",
    "</a>"
   ]
  },
  {
   "cell_type": "markdown",
   "metadata": {},
   "source": [
    "`df_miniLM` is the dataset used in this section. "
   ]
  },
  {
   "cell_type": "markdown",
   "metadata": {},
   "source": [
    "In this section, I am loading a pretrained model that should be able to work with my crosslingual dataset. It returns a numerical representation of the meaning of each sentence (these numbers are called embeddings)."
   ]
  },
  {
   "cell_type": "code",
   "execution_count": 26,
   "metadata": {},
   "outputs": [
    {
     "data": {
      "text/plain": [
       "(13752, 7)"
      ]
     },
     "execution_count": 26,
     "metadata": {},
     "output_type": "execute_result"
    }
   ],
   "source": [
    "df_miniLM.shape"
   ]
  },
  {
   "cell_type": "code",
   "execution_count": 27,
   "metadata": {},
   "outputs": [
    {
     "name": "stderr",
     "output_type": "stream",
     "text": [
      "huggingface/tokenizers: The current process just got forked, after parallelism has already been used. Disabling parallelism to avoid deadlocks...\n",
      "To disable this warning, you can either:\n",
      "\t- Avoid using `tokenizers` before the fork if possible\n",
      "\t- Explicitly set the environment variable TOKENIZERS_PARALLELISM=(true | false)\n"
     ]
    },
    {
     "data": {
      "application/vnd.jupyter.widget-view+json": {
       "model_id": "d037ac73913049ed91f1ce7e69b39a45",
       "version_major": 2,
       "version_minor": 0
      },
      "text/plain": [
       "Batches:   0%|          | 0/430 [00:00<?, ?it/s]"
      ]
     },
     "metadata": {},
     "output_type": "display_data"
    }
   ],
   "source": [
    "# Define the input texts for the model \n",
    "texts_miniLM = df_miniLM['Clean_Review'].tolist()\n",
    "\n",
    "# Sentence model\n",
    "sentence_model_miniLM = SentenceTransformer(model_miniLM)\n",
    "\n",
    "# Generate embeddings\n",
    "embeddings_miniLM = sentence_model_miniLM.encode(texts_miniLM, show_progress_bar=True, batch_size=32)"
   ]
  },
  {
   "cell_type": "markdown",
   "metadata": {},
   "source": [
    "In this step, the model is extracting all the textual reviews from Clean_Review and putting them in a list where each review is converted to a numeric vector (embedding)."
   ]
  },
  {
   "cell_type": "code",
   "execution_count": 28,
   "metadata": {},
   "outputs": [
    {
     "data": {
      "text/plain": [
       "(13752, 384)"
      ]
     },
     "execution_count": 28,
     "metadata": {},
     "output_type": "execute_result"
    }
   ],
   "source": [
    "embeddings_miniLM.shape"
   ]
  },
  {
   "cell_type": "code",
   "execution_count": 29,
   "metadata": {},
   "outputs": [],
   "source": [
    "# CountVectorizer\n",
    "vectorizer_model = CountVectorizer(stop_words=filtered_stopwords)"
   ]
  },
  {
   "cell_type": "code",
   "execution_count": 30,
   "metadata": {},
   "outputs": [],
   "source": [
    "# UMAP\n",
    "umap_model_miniLM = UMAP(n_neighbors=15,\n",
    "                    n_components=5,\n",
    "                    min_dist=0.0,\n",
    "                    metric='cosine')"
   ]
  },
  {
   "cell_type": "code",
   "execution_count": 31,
   "metadata": {},
   "outputs": [],
   "source": [
    "# HDBSCAN\n",
    "hdbscan_model_miniLM = HDBSCAN(min_cluster_size=25,\n",
    "                          min_samples=3,\n",
    "                          metric='euclidean',\n",
    "                          cluster_selection_method='eom',\n",
    "                          prediction_data=True)"
   ]
  },
  {
   "cell_type": "code",
   "execution_count": 32,
   "metadata": {},
   "outputs": [],
   "source": [
    "topic_model_miniLM = BERTopic(\n",
    "    embedding_model=sentence_model_miniLM,\n",
    "    umap_model=umap_model_miniLM,\n",
    "    hdbscan_model=hdbscan_model_miniLM,\n",
    "    vectorizer_model=vectorizer_model,\n",
    "    calculate_probabilities=False,\n",
    "    verbose=True,\n",
    "    language=\"multilingual\"\n",
    ")"
   ]
  },
  {
   "cell_type": "code",
   "execution_count": 33,
   "metadata": {},
   "outputs": [],
   "source": [
    "reviews_miniLM = df_miniLM[\"Clean_Review\"].dropna().tolist()"
   ]
  },
  {
   "cell_type": "code",
   "execution_count": 34,
   "metadata": {},
   "outputs": [
    {
     "name": "stderr",
     "output_type": "stream",
     "text": [
      "2025-05-11 17:58:29,125 - BERTopic - Embedding - Transforming documents to embeddings.\n"
     ]
    },
    {
     "data": {
      "application/vnd.jupyter.widget-view+json": {
       "model_id": "2042c0fa84884e5c9c032b9113886691",
       "version_major": 2,
       "version_minor": 0
      },
      "text/plain": [
       "Batches:   0%|          | 0/430 [00:00<?, ?it/s]"
      ]
     },
     "metadata": {},
     "output_type": "display_data"
    },
    {
     "name": "stderr",
     "output_type": "stream",
     "text": [
      "2025-05-11 17:58:48,311 - BERTopic - Embedding - Completed ✓\n",
      "2025-05-11 17:58:48,311 - BERTopic - Dimensionality - Fitting the dimensionality reduction algorithm\n",
      "OMP: Info #276: omp_set_nested routine deprecated, please use omp_set_max_active_levels instead.\n",
      "2025-05-11 17:58:57,136 - BERTopic - Dimensionality - Completed ✓\n",
      "2025-05-11 17:58:57,137 - BERTopic - Cluster - Start clustering the reduced embeddings\n",
      "2025-05-11 17:58:57,416 - BERTopic - Cluster - Completed ✓\n",
      "2025-05-11 17:58:57,418 - BERTopic - Representation - Fine-tuning topics using representation models.\n",
      "2025-05-11 17:58:57,562 - BERTopic - Representation - Completed ✓\n"
     ]
    }
   ],
   "source": [
    "topics_miniLM, probs_miniLM = topic_model_miniLM.fit_transform(reviews_miniLM)"
   ]
  },
  {
   "cell_type": "code",
   "execution_count": 35,
   "metadata": {},
   "outputs": [
    {
     "name": "stderr",
     "output_type": "stream",
     "text": [
      "100%|██████████| 96/96 [00:00<00:00, 877.76it/s]\n"
     ]
    },
    {
     "data": {
      "application/vnd.plotly.v1+json": {
       "config": {
        "plotlyServerURL": "https://plot.ly"
       },
       "data": [
        {
         "hoverinfo": "text",
         "marker": {
          "color": "rgb(61,153,112)"
         },
         "mode": "lines",
         "type": "scatter",
         "x": {
          "bdata": "AAAAAAAAAAAwcv3+tnbtPzBy/f62du0/AAAAAAAAAAA=",
          "dtype": "f8"
         },
         "xaxis": "x",
         "y": {
          "bdata": "AAAAAAAALsAAAAAAAAAuwAAAAAAAADnAAAAAAAAAOcA=",
          "dtype": "f8"
         },
         "yaxis": "y"
        },
        {
         "hoverinfo": "text",
         "marker": {
          "color": "rgb(61,153,112)"
         },
         "mode": "lines",
         "type": "scatter",
         "x": {
          "bdata": "AAAAAAAAAACC9RIDNbnvP4L1EgM1ue8/MHL9/rZ27T8=",
          "dtype": "f8"
         },
         "xaxis": "x",
         "y": {
          "bdata": "AAAAAAAAFMAAAAAAAAAUwAAAAAAAADTAAAAAAAAANMA=",
          "dtype": "f8"
         },
         "yaxis": "y"
        },
        {
         "hoverinfo": "text",
         "marker": {
          "color": "rgb(255,65,54)"
         },
         "mode": "lines",
         "type": "scatter",
         "x": {
          "bdata": "AAAAAAAAAAB20nCDnvDqP3bScIOe8Oo/AAAAAAAAAAA=",
          "dtype": "f8"
         },
         "xaxis": "x",
         "y": {
          "bdata": "AAAAAACAQcAAAAAAAIBBwAAAAAAAgEbAAAAAAACARsA=",
          "dtype": "f8"
         },
         "yaxis": "y"
        },
        {
         "hoverinfo": "text",
         "marker": {
          "color": "rgb(0,116,217)"
         },
         "mode": "lines",
         "type": "scatter",
         "x": {
          "bdata": "gvUSAzW57z9ELsFASiHwP0QuwUBKIfA/dtJwg57w6j8=",
          "dtype": "f8"
         },
         "xaxis": "x",
         "y": {
          "bdata": "AAAAAAAAKcAAAAAAAAApwAAAAAAAAETAAAAAAAAARMA=",
          "dtype": "f8"
         },
         "yaxis": "y"
        },
        {
         "hoverinfo": "text",
         "marker": {
          "color": "rgb(35,205,205)"
         },
         "mode": "lines",
         "type": "scatter",
         "x": {
          "bdata": "AAAAAAAAAACMsCKcPjPfP4ywIpw+M98/AAAAAAAAAAA=",
          "dtype": "f8"
         },
         "xaxis": "x",
         "y": {
          "bdata": "AAAAAABAUMAAAAAAAEBQwAAAAAAAwFLAAAAAAADAUsA=",
          "dtype": "f8"
         },
         "yaxis": "y"
        },
        {
         "hoverinfo": "text",
         "marker": {
          "color": "rgb(35,205,205)"
         },
         "mode": "lines",
         "type": "scatter",
         "x": {
          "bdata": "jLAinD4z3z+TkJyW9YziP5OQnJb1jOI/AAAAAAAAAAA=",
          "dtype": "f8"
         },
         "xaxis": "x",
         "y": {
          "bdata": "AAAAAACAUcAAAAAAAIBRwAAAAAAAQFXAAAAAAABAVcA=",
          "dtype": "f8"
         },
         "yaxis": "y"
        },
        {
         "hoverinfo": "text",
         "marker": {
          "color": "rgb(35,205,205)"
         },
         "mode": "lines",
         "type": "scatter",
         "x": {
          "bdata": "AAAAAAAAAAAcHjEzVx7XPxweMTNXHtc/AAAAAAAAAAA=",
          "dtype": "f8"
         },
         "xaxis": "x",
         "y": {
          "bdata": "AAAAAABAWsAAAAAAAEBawAAAAAAAwFzAAAAAAADAXMA=",
          "dtype": "f8"
         },
         "yaxis": "y"
        },
        {
         "hoverinfo": "text",
         "marker": {
          "color": "rgb(35,205,205)"
         },
         "mode": "lines",
         "type": "scatter",
         "x": {
          "bdata": "AAAAAAAAAABjRaYFhp7iP2NFpgWGnuI/HB4xM1ce1z8=",
          "dtype": "f8"
         },
         "xaxis": "x",
         "y": {
          "bdata": "AAAAAADAV8AAAAAAAMBXwAAAAAAAgFvAAAAAAACAW8A=",
          "dtype": "f8"
         },
         "yaxis": "y"
        },
        {
         "hoverinfo": "text",
         "marker": {
          "color": "rgb(35,205,205)"
         },
         "mode": "lines",
         "type": "scatter",
         "x": {
          "bdata": "Y0WmBYae4j+6NQEIbQPnP7o1AQhtA+c/AAAAAAAAAAA=",
          "dtype": "f8"
         },
         "xaxis": "x",
         "y": {
          "bdata": "AAAAAACgWcAAAAAAAKBZwAAAAAAAQF/AAAAAAABAX8A=",
          "dtype": "f8"
         },
         "yaxis": "y"
        },
        {
         "hoverinfo": "text",
         "marker": {
          "color": "rgb(35,205,205)"
         },
         "mode": "lines",
         "type": "scatter",
         "x": {
          "bdata": "k5CclvWM4j9/e+4ZxZ/nP3977hnFn+c/ujUBCG0D5z8=",
          "dtype": "f8"
         },
         "xaxis": "x",
         "y": {
          "bdata": "AAAAAABgU8AAAAAAAGBTwAAAAAAAcFzAAAAAAABwXMA=",
          "dtype": "f8"
         },
         "yaxis": "y"
        },
        {
         "hoverinfo": "text",
         "marker": {
          "color": "rgb(35,205,205)"
         },
         "mode": "lines",
         "type": "scatter",
         "x": {
          "bdata": "AAAAAAAAAAAaMxFU8rXpPxozEVTytek/f3vuGcWf5z8=",
          "dtype": "f8"
         },
         "xaxis": "x",
         "y": {
          "bdata": "AAAAAACAS8AAAAAAAIBLwAAAAAAA6FfAAAAAAADoV8A=",
          "dtype": "f8"
         },
         "yaxis": "y"
        },
        {
         "hoverinfo": "text",
         "marker": {
          "color": "rgb(35,205,205)"
         },
         "mode": "lines",
         "type": "scatter",
         "x": {
          "bdata": "AAAAAAAAAAAIvYLAdWXlPwi9gsB1ZeU/AAAAAAAAAAA=",
          "dtype": "f8"
         },
         "xaxis": "x",
         "y": {
          "bdata": "AAAAAADgYMAAAAAAAOBgwAAAAAAAIGLAAAAAAAAgYsA=",
          "dtype": "f8"
         },
         "yaxis": "y"
        },
        {
         "hoverinfo": "text",
         "marker": {
          "color": "rgb(35,205,205)"
         },
         "mode": "lines",
         "type": "scatter",
         "x": {
          "bdata": "CL2CwHVl5T8yFVUpgCLoPzIVVSmAIug/AAAAAAAAAAA=",
          "dtype": "f8"
         },
         "xaxis": "x",
         "y": {
          "bdata": "AAAAAACAYcAAAAAAAIBhwAAAAAAAYGPAAAAAAABgY8A=",
          "dtype": "f8"
         },
         "yaxis": "y"
        },
        {
         "hoverinfo": "text",
         "marker": {
          "color": "rgb(35,205,205)"
         },
         "mode": "lines",
         "type": "scatter",
         "x": {
          "bdata": "MhVVKYAi6D//c1lz0OzsP/9zWXPQ7Ow/AAAAAAAAAAA=",
          "dtype": "f8"
         },
         "xaxis": "x",
         "y": {
          "bdata": "AAAAAABwYsAAAAAAAHBiwAAAAAAAoGTAAAAAAACgZMA=",
          "dtype": "f8"
         },
         "yaxis": "y"
        },
        {
         "hoverinfo": "text",
         "marker": {
          "color": "rgb(35,205,205)"
         },
         "mode": "lines",
         "type": "scatter",
         "x": {
          "bdata": "GjMRVPK16T8uCIh3u8btPy4IiHe7xu0//3NZc9Ds7D8=",
          "dtype": "f8"
         },
         "xaxis": "x",
         "y": {
          "bdata": "AAAAAADUUsAAAAAAANRSwAAAAAAAiGPAAAAAAACIY8A=",
          "dtype": "f8"
         },
         "yaxis": "y"
        },
        {
         "hoverinfo": "text",
         "marker": {
          "color": "rgb(0,116,217)"
         },
         "mode": "lines",
         "type": "scatter",
         "x": {
          "bdata": "RC7BQEoh8D8pGaaF5O7xPykZpoXk7vE/LgiId7vG7T8=",
          "dtype": "f8"
         },
         "xaxis": "x",
         "y": {
          "bdata": "AAAAAABAOsAAAAAAAEA6wAAAAAAA8lzAAAAAAADyXMA=",
          "dtype": "f8"
         },
         "yaxis": "y"
        },
        {
         "hoverinfo": "text",
         "marker": {
          "color": "rgb(133,20,75)"
         },
         "mode": "lines",
         "type": "scatter",
         "x": {
          "bdata": "AAAAAAAAAABUYqI/GLzeP1Rioj8YvN4/AAAAAAAAAAA=",
          "dtype": "f8"
         },
         "xaxis": "x",
         "y": {
          "bdata": "AAAAAABgaMAAAAAAAGBowAAAAAAAoGnAAAAAAACgacA=",
          "dtype": "f8"
         },
         "yaxis": "y"
        },
        {
         "hoverinfo": "text",
         "marker": {
          "color": "rgb(133,20,75)"
         },
         "mode": "lines",
         "type": "scatter",
         "x": {
          "bdata": "AAAAAAAAAABjf/nsTqriP2N/+exOquI/VGKiPxi83j8=",
          "dtype": "f8"
         },
         "xaxis": "x",
         "y": {
          "bdata": "AAAAAAAgZ8AAAAAAACBnwAAAAAAAAGnAAAAAAAAAacA=",
          "dtype": "f8"
         },
         "yaxis": "y"
        },
        {
         "hoverinfo": "text",
         "marker": {
          "color": "rgb(133,20,75)"
         },
         "mode": "lines",
         "type": "scatter",
         "x": {
          "bdata": "AAAAAAAAAACuqTG7oEDVP66pMbugQNU/AAAAAAAAAAA=",
          "dtype": "f8"
         },
         "xaxis": "x",
         "y": {
          "bdata": "AAAAAADgasAAAAAAAOBqwAAAAAAAIGzAAAAAAAAgbMA=",
          "dtype": "f8"
         },
         "yaxis": "y"
        },
        {
         "hoverinfo": "text",
         "marker": {
          "color": "rgb(133,20,75)"
         },
         "mode": "lines",
         "type": "scatter",
         "x": {
          "bdata": "Y3/57E6q4j+g5/HW0HblP6Dn8dbQduU/rqkxu6BA1T8=",
          "dtype": "f8"
         },
         "xaxis": "x",
         "y": {
          "bdata": "AAAAAAAQaMAAAAAAABBowAAAAAAAgGvAAAAAAACAa8A=",
          "dtype": "f8"
         },
         "yaxis": "y"
        },
        {
         "hoverinfo": "text",
         "marker": {
          "color": "rgb(133,20,75)"
         },
         "mode": "lines",
         "type": "scatter",
         "x": {
          "bdata": "oOfx1tB25T92I6en2v3mP3Yjp6fa/eY/AAAAAAAAAAA=",
          "dtype": "f8"
         },
         "xaxis": "x",
         "y": {
          "bdata": "AAAAAADIacAAAAAAAMhpwAAAAAAAYG3AAAAAAABgbcA=",
          "dtype": "f8"
         },
         "yaxis": "y"
        },
        {
         "hoverinfo": "text",
         "marker": {
          "color": "rgb(133,20,75)"
         },
         "mode": "lines",
         "type": "scatter",
         "x": {
          "bdata": "AAAAAAAAAAA4vaHS3HPqPzi9odLcc+o/diOnp9r95j8=",
          "dtype": "f8"
         },
         "xaxis": "x",
         "y": {
          "bdata": "AAAAAADgZcAAAAAAAOBlwAAAAAAAlGvAAAAAAACUa8A=",
          "dtype": "f8"
         },
         "yaxis": "y"
        },
        {
         "hoverinfo": "text",
         "marker": {
          "color": "rgb(133,20,75)"
         },
         "mode": "lines",
         "type": "scatter",
         "x": {
          "bdata": "AAAAAAAAAACQjwIA/ureP5CPAgD+6t4/AAAAAAAAAAA=",
          "dtype": "f8"
         },
         "xaxis": "x",
         "y": {
          "bdata": "AAAAAACgbsAAAAAAAKBuwAAAAAAA4G/AAAAAAADgb8A=",
          "dtype": "f8"
         },
         "yaxis": "y"
        },
        {
         "hoverinfo": "text",
         "marker": {
          "color": "rgb(133,20,75)"
         },
         "mode": "lines",
         "type": "scatter",
         "x": {
          "bdata": "kI8CAP7q3j8RBMbrPzzmPxEExus/POY/AAAAAAAAAAA=",
          "dtype": "f8"
         },
         "xaxis": "x",
         "y": {
          "bdata": "AAAAAABAb8AAAAAAAEBvwAAAAAAAkHDAAAAAAACQcMA=",
          "dtype": "f8"
         },
         "yaxis": "y"
        },
        {
         "hoverinfo": "text",
         "marker": {
          "color": "rgb(133,20,75)"
         },
         "mode": "lines",
         "type": "scatter",
         "x": {
          "bdata": "OL2h0txz6j9jE+nvzZ3uP2MT6e/Nne4/EQTG6z885j8=",
          "dtype": "f8"
         },
         "xaxis": "x",
         "y": {
          "bdata": "AAAAAAC6aMAAAAAAALpowAAAAAAAGHDAAAAAAAAYcMA=",
          "dtype": "f8"
         },
         "yaxis": "y"
        },
        {
         "hoverinfo": "text",
         "marker": {
          "color": "rgb(0,116,217)"
         },
         "mode": "lines",
         "type": "scatter",
         "x": {
          "bdata": "KRmmheTu8T9T6gjyYWr0P1PqCPJhavQ/YxPp782d7j8=",
          "dtype": "f8"
         },
         "xaxis": "x",
         "y": {
          "bdata": "AAAAAADBUcAAAAAAAMFRwAAAAAAAdWzAAAAAAAB1bMA=",
          "dtype": "f8"
         },
         "yaxis": "y"
        },
        {
         "hoverinfo": "text",
         "marker": {
          "color": "rgb(255,220,0)"
         },
         "mode": "lines",
         "type": "scatter",
         "x": {
          "bdata": "AAAAAAAAAABdGJZMBl7oP10YlkwGXug/AAAAAAAAAAA=",
          "dtype": "f8"
         },
         "xaxis": "x",
         "y": {
          "bdata": "AAAAAAAwccAAAAAAADBxwAAAAAAA0HHAAAAAAADQccA=",
          "dtype": "f8"
         },
         "yaxis": "y"
        },
        {
         "hoverinfo": "text",
         "marker": {
          "color": "rgb(255,220,0)"
         },
         "mode": "lines",
         "type": "scatter",
         "x": {
          "bdata": "AAAAAAAAAACAx6VWBTLkP4DHpVYFMuQ/AAAAAAAAAAA=",
          "dtype": "f8"
         },
         "xaxis": "x",
         "y": {
          "bdata": "AAAAAAAQc8AAAAAAABBzwAAAAAAAsHPAAAAAAACwc8A=",
          "dtype": "f8"
         },
         "yaxis": "y"
        },
        {
         "hoverinfo": "text",
         "marker": {
          "color": "rgb(255,220,0)"
         },
         "mode": "lines",
         "type": "scatter",
         "x": {
          "bdata": "AAAAAAAAAACbwy+Bh6PmP5vDL4GHo+Y/gMelVgUy5D8=",
          "dtype": "f8"
         },
         "xaxis": "x",
         "y": {
          "bdata": "AAAAAABwcsAAAAAAAHBywAAAAAAAYHPAAAAAAABgc8A=",
          "dtype": "f8"
         },
         "yaxis": "y"
        },
        {
         "hoverinfo": "text",
         "marker": {
          "color": "rgb(255,220,0)"
         },
         "mode": "lines",
         "type": "scatter",
         "x": {
          "bdata": "m8MvgYej5j8hgMDTV6PoPyGAwNNXo+g/AAAAAAAAAAA=",
          "dtype": "f8"
         },
         "xaxis": "x",
         "y": {
          "bdata": "AAAAAADocsAAAAAAAOhywAAAAAAAUHTAAAAAAABQdMA=",
          "dtype": "f8"
         },
         "yaxis": "y"
        },
        {
         "hoverinfo": "text",
         "marker": {
          "color": "rgb(255,220,0)"
         },
         "mode": "lines",
         "type": "scatter",
         "x": {
          "bdata": "IYDA01ej6D/ELLE7at/qP8QssTtq3+o/AAAAAAAAAAA=",
          "dtype": "f8"
         },
         "xaxis": "x",
         "y": {
          "bdata": "AAAAAACcc8AAAAAAAJxzwAAAAAAA8HTAAAAAAADwdMA=",
          "dtype": "f8"
         },
         "yaxis": "y"
        },
        {
         "hoverinfo": "text",
         "marker": {
          "color": "rgb(255,220,0)"
         },
         "mode": "lines",
         "type": "scatter",
         "x": {
          "bdata": "XRiWTAZe6D+cbJYNlKXvP5xslg2Upe8/xCyxO2rf6j8=",
          "dtype": "f8"
         },
         "xaxis": "x",
         "y": {
          "bdata": "AAAAAACAccAAAAAAAIBxwAAAAAAARnTAAAAAAABGdMA=",
          "dtype": "f8"
         },
         "yaxis": "y"
        },
        {
         "hoverinfo": "text",
         "marker": {
          "color": "rgb(40,35,35)"
         },
         "mode": "lines",
         "type": "scatter",
         "x": {
          "bdata": "AAAAAAAAAAC2Wbcm3onlP7ZZtybeieU/AAAAAAAAAAA=",
          "dtype": "f8"
         },
         "xaxis": "x",
         "y": {
          "bdata": "AAAAAACQdcAAAAAAAJB1wAAAAAAAMHbAAAAAAAAwdsA=",
          "dtype": "f8"
         },
         "yaxis": "y"
        },
        {
         "hoverinfo": "text",
         "marker": {
          "color": "rgb(40,35,35)"
         },
         "mode": "lines",
         "type": "scatter",
         "x": {
          "bdata": "tlm3Jt6J5T9aj2knlN7qP1qPaSeU3uo/AAAAAAAAAAA=",
          "dtype": "f8"
         },
         "xaxis": "x",
         "y": {
          "bdata": "AAAAAADgdcAAAAAAAOB1wAAAAAAA0HbAAAAAAADQdsA=",
          "dtype": "f8"
         },
         "yaxis": "y"
        },
        {
         "hoverinfo": "text",
         "marker": {
          "color": "rgb(0,116,217)"
         },
         "mode": "lines",
         "type": "scatter",
         "x": {
          "bdata": "nGyWDZSl7z+KMWqycSTwP4oxarJxJPA/Wo9pJ5Te6j8=",
          "dtype": "f8"
         },
         "xaxis": "x",
         "y": {
          "bdata": "AAAAAADjcsAAAAAAAONywAAAAAAAWHbAAAAAAABYdsA=",
          "dtype": "f8"
         },
         "yaxis": "y"
        },
        {
         "hoverinfo": "text",
         "marker": {
          "color": "rgb(0,116,217)"
         },
         "mode": "lines",
         "type": "scatter",
         "x": {
          "bdata": "U+oI8mFq9D8mV9F/cHL4PyZX0X9wcvg/ijFqsnEk8D8=",
          "dtype": "f8"
         },
         "xaxis": "x",
         "y": {
          "bdata": "AAAAAMCqYsAAAAAAwKpiwAAAAACAnXTAAAAAAICddMA=",
          "dtype": "f8"
         },
         "yaxis": "y"
        },
        {
         "hoverinfo": "text",
         "marker": {
          "color": "rgb(61,153,112)"
         },
         "mode": "lines",
         "type": "scatter",
         "x": {
          "bdata": "AAAAAAAAAAC0I+Jm5zviP7Qj4mbnO+I/AAAAAAAAAAA=",
          "dtype": "f8"
         },
         "xaxis": "x",
         "y": {
          "bdata": "AAAAAACweMAAAAAAALB4wAAAAAAAUHnAAAAAAABQecA=",
          "dtype": "f8"
         },
         "yaxis": "y"
        },
        {
         "hoverinfo": "text",
         "marker": {
          "color": "rgb(61,153,112)"
         },
         "mode": "lines",
         "type": "scatter",
         "x": {
          "bdata": "AAAAAAAAAAAnQzIyjWbmPydDMjKNZuY/tCPiZuc74j8=",
          "dtype": "f8"
         },
         "xaxis": "x",
         "y": {
          "bdata": "AAAAAAAQeMAAAAAAABB4wAAAAAAAAHnAAAAAAAAAecA=",
          "dtype": "f8"
         },
         "yaxis": "y"
        },
        {
         "hoverinfo": "text",
         "marker": {
          "color": "rgb(61,153,112)"
         },
         "mode": "lines",
         "type": "scatter",
         "x": {
          "bdata": "AAAAAAAAAADYXXop6DrtP9hdeinoOu0/J0MyMo1m5j8=",
          "dtype": "f8"
         },
         "xaxis": "x",
         "y": {
          "bdata": "AAAAAABwd8AAAAAAAHB3wAAAAAAAiHjAAAAAAACIeMA=",
          "dtype": "f8"
         },
         "yaxis": "y"
        },
        {
         "hoverinfo": "text",
         "marker": {
          "color": "rgb(255,65,54)"
         },
         "mode": "lines",
         "type": "scatter",
         "x": {
          "bdata": "AAAAAAAAAAB8tnp3OQLaP3y2enc5Ato/AAAAAAAAAAA=",
          "dtype": "f8"
         },
         "xaxis": "x",
         "y": {
          "bdata": "AAAAAACQesAAAAAAAJB6wAAAAAAAMHvAAAAAAAAwe8A=",
          "dtype": "f8"
         },
         "yaxis": "y"
        },
        {
         "hoverinfo": "text",
         "marker": {
          "color": "rgb(255,65,54)"
         },
         "mode": "lines",
         "type": "scatter",
         "x": {
          "bdata": "AAAAAAAAAABGVjliED7pP0ZWOWIQPuk/fLZ6dzkC2j8=",
          "dtype": "f8"
         },
         "xaxis": "x",
         "y": {
          "bdata": "AAAAAADwecAAAAAAAPB5wAAAAAAA4HrAAAAAAADgesA=",
          "dtype": "f8"
         },
         "yaxis": "y"
        },
        {
         "hoverinfo": "text",
         "marker": {
          "color": "rgb(35,205,205)"
         },
         "mode": "lines",
         "type": "scatter",
         "x": {
          "bdata": "AAAAAAAAAAD+n95JnQzjP/6f3kmdDOM/AAAAAAAAAAA=",
          "dtype": "f8"
         },
         "xaxis": "x",
         "y": {
          "bdata": "AAAAAADQe8AAAAAAANB7wAAAAAAAcHzAAAAAAABwfMA=",
          "dtype": "f8"
         },
         "yaxis": "y"
        },
        {
         "hoverinfo": "text",
         "marker": {
          "color": "rgb(0,116,217)"
         },
         "mode": "lines",
         "type": "scatter",
         "x": {
          "bdata": "RlY5YhA+6T+WcIf1JwTxP5Zwh/UnBPE//p/eSZ0M4z8=",
          "dtype": "f8"
         },
         "xaxis": "x",
         "y": {
          "bdata": "AAAAAABoesAAAAAAAGh6wAAAAAAAIHzAAAAAAAAgfMA=",
          "dtype": "f8"
         },
         "yaxis": "y"
        },
        {
         "hoverinfo": "text",
         "marker": {
          "color": "rgb(0,116,217)"
         },
         "mode": "lines",
         "type": "scatter",
         "x": {
          "bdata": "2F16Keg67T/5obNgFCjzP/mhs2AUKPM/lnCH9ScE8T8=",
          "dtype": "f8"
         },
         "xaxis": "x",
         "y": {
          "bdata": "AAAAAAD8d8AAAAAAAPx3wAAAAAAARHvAAAAAAABEe8A=",
          "dtype": "f8"
         },
         "yaxis": "y"
        },
        {
         "hoverinfo": "text",
         "marker": {
          "color": "rgb(61,153,112)"
         },
         "mode": "lines",
         "type": "scatter",
         "x": {
          "bdata": "AAAAAAAAAABkS22EyN/kP2RLbYTI3+Q/AAAAAAAAAAA=",
          "dtype": "f8"
         },
         "xaxis": "x",
         "y": {
          "bdata": "AAAAAAAQfcAAAAAAABB9wAAAAAAAsH3AAAAAAACwfcA=",
          "dtype": "f8"
         },
         "yaxis": "y"
        },
        {
         "hoverinfo": "text",
         "marker": {
          "color": "rgb(61,153,112)"
         },
         "mode": "lines",
         "type": "scatter",
         "x": {
          "bdata": "AAAAAAAAAAAM3zyQcvXkPwzfPJBy9eQ/AAAAAAAAAAA=",
          "dtype": "f8"
         },
         "xaxis": "x",
         "y": {
          "bdata": "AAAAAABQfsAAAAAAAFB+wAAAAAAA8H7AAAAAAADwfsA=",
          "dtype": "f8"
         },
         "yaxis": "y"
        },
        {
         "hoverinfo": "text",
         "marker": {
          "color": "rgb(61,153,112)"
         },
         "mode": "lines",
         "type": "scatter",
         "x": {
          "bdata": "ZEtthMjf5D87clRVcTnrPztyVFVxOes/DN88kHL15D8=",
          "dtype": "f8"
         },
         "xaxis": "x",
         "y": {
          "bdata": "AAAAAABgfcAAAAAAAGB9wAAAAAAAoH7AAAAAAACgfsA=",
          "dtype": "f8"
         },
         "yaxis": "y"
        },
        {
         "hoverinfo": "text",
         "marker": {
          "color": "rgb(255,65,54)"
         },
         "mode": "lines",
         "type": "scatter",
         "x": {
          "bdata": "AAAAAAAAAAAmf+X51vLXPyZ/5fnW8tc/AAAAAAAAAAA=",
          "dtype": "f8"
         },
         "xaxis": "x",
         "y": {
          "bdata": "AAAAAACQf8AAAAAAAJB/wAAAAAAAGIDAAAAAAAAYgMA=",
          "dtype": "f8"
         },
         "yaxis": "y"
        },
        {
         "hoverinfo": "text",
         "marker": {
          "color": "rgb(35,205,205)"
         },
         "mode": "lines",
         "type": "scatter",
         "x": {
          "bdata": "AAAAAAAAAAA2iBT3YVbUPzaIFPdhVtQ/AAAAAAAAAAA=",
          "dtype": "f8"
         },
         "xaxis": "x",
         "y": {
          "bdata": "AAAAAABogMAAAAAAAGiAwAAAAAAAuIDAAAAAAAC4gMA=",
          "dtype": "f8"
         },
         "yaxis": "y"
        },
        {
         "hoverinfo": "text",
         "marker": {
          "color": "rgb(0,116,217)"
         },
         "mode": "lines",
         "type": "scatter",
         "x": {
          "bdata": "Jn/l+dby1z9Z3uI2GFHyP1ne4jYYUfI/NogU92FW1D8=",
          "dtype": "f8"
         },
         "xaxis": "x",
         "y": {
          "bdata": "AAAAAADgf8AAAAAAAOB/wAAAAAAAkIDAAAAAAACQgMA=",
          "dtype": "f8"
         },
         "yaxis": "y"
        },
        {
         "hoverinfo": "text",
         "marker": {
          "color": "rgb(133,20,75)"
         },
         "mode": "lines",
         "type": "scatter",
         "x": {
          "bdata": "AAAAAAAAAAB8UHbNm3jsP3xQds2beOw/AAAAAAAAAAA=",
          "dtype": "f8"
         },
         "xaxis": "x",
         "y": {
          "bdata": "AAAAAAAIgcAAAAAAAAiBwAAAAAAAWIHAAAAAAABYgcA=",
          "dtype": "f8"
         },
         "yaxis": "y"
        },
        {
         "hoverinfo": "text",
         "marker": {
          "color": "rgb(133,20,75)"
         },
         "mode": "lines",
         "type": "scatter",
         "x": {
          "bdata": "fFB2zZt47D/FPqgFFSntP8U+qAUVKe0/AAAAAAAAAAA=",
          "dtype": "f8"
         },
         "xaxis": "x",
         "y": {
          "bdata": "AAAAAAAwgcAAAAAAADCBwAAAAAAAqIHAAAAAAACogcA=",
          "dtype": "f8"
         },
         "yaxis": "y"
        },
        {
         "hoverinfo": "text",
         "marker": {
          "color": "rgb(133,20,75)"
         },
         "mode": "lines",
         "type": "scatter",
         "x": {
          "bdata": "AAAAAAAAAABInXVEVfDhP0iddURV8OE/AAAAAAAAAAA=",
          "dtype": "f8"
         },
         "xaxis": "x",
         "y": {
          "bdata": "AAAAAAD4gcAAAAAAAPiBwAAAAAAASILAAAAAAABIgsA=",
          "dtype": "f8"
         },
         "yaxis": "y"
        },
        {
         "hoverinfo": "text",
         "marker": {
          "color": "rgb(133,20,75)"
         },
         "mode": "lines",
         "type": "scatter",
         "x": {
          "bdata": "xT6oBRUp7T8pGOf3nWnvPykY5/edae8/SJ11RFXw4T8=",
          "dtype": "f8"
         },
         "xaxis": "x",
         "y": {
          "bdata": "AAAAAABsgcAAAAAAAGyBwAAAAAAAIILAAAAAAAAggsA=",
          "dtype": "f8"
         },
         "yaxis": "y"
        },
        {
         "hoverinfo": "text",
         "marker": {
          "color": "rgb(255,220,0)"
         },
         "mode": "lines",
         "type": "scatter",
         "x": {
          "bdata": "AAAAAAAAAAByiO14oIPmP3KI7Xigg+Y/AAAAAAAAAAA=",
          "dtype": "f8"
         },
         "xaxis": "x",
         "y": {
          "bdata": "AAAAAACYgsAAAAAAAJiCwAAAAAAA6ILAAAAAAADogsA=",
          "dtype": "f8"
         },
         "yaxis": "y"
        },
        {
         "hoverinfo": "text",
         "marker": {
          "color": "rgb(255,220,0)"
         },
         "mode": "lines",
         "type": "scatter",
         "x": {
          "bdata": "AAAAAAAAAACt8BEhUzbsP63wESFTNuw/AAAAAAAAAAA=",
          "dtype": "f8"
         },
         "xaxis": "x",
         "y": {
          "bdata": "AAAAAAA4g8AAAAAAADiDwAAAAAAAiIPAAAAAAACIg8A=",
          "dtype": "f8"
         },
         "yaxis": "y"
        },
        {
         "hoverinfo": "text",
         "marker": {
          "color": "rgb(255,220,0)"
         },
         "mode": "lines",
         "type": "scatter",
         "x": {
          "bdata": "cojteKCD5j+arTGxQlPvP5qtMbFCU+8/rfARIVM27D8=",
          "dtype": "f8"
         },
         "xaxis": "x",
         "y": {
          "bdata": "AAAAAADAgsAAAAAAAMCCwAAAAAAAYIPAAAAAAABgg8A=",
          "dtype": "f8"
         },
         "yaxis": "y"
        },
        {
         "hoverinfo": "text",
         "marker": {
          "color": "rgb(0,116,217)"
         },
         "mode": "lines",
         "type": "scatter",
         "x": {
          "bdata": "KRjn951p7z9Qun7KpGnwP1C6fsqkafA/mq0xsUJT7z8=",
          "dtype": "f8"
         },
         "xaxis": "x",
         "y": {
          "bdata": "AAAAAADGgcAAAAAAAMaBwAAAAAAAEIPAAAAAAAAQg8A=",
          "dtype": "f8"
         },
         "yaxis": "y"
        },
        {
         "hoverinfo": "text",
         "marker": {
          "color": "rgb(40,35,35)"
         },
         "mode": "lines",
         "type": "scatter",
         "x": {
          "bdata": "AAAAAAAAAAApCI1+ThroPykIjX5OGug/AAAAAAAAAAA=",
          "dtype": "f8"
         },
         "xaxis": "x",
         "y": {
          "bdata": "AAAAAAAohMAAAAAAACiEwAAAAAAAeITAAAAAAAB4hMA=",
          "dtype": "f8"
         },
         "yaxis": "y"
        },
        {
         "hoverinfo": "text",
         "marker": {
          "color": "rgb(40,35,35)"
         },
         "mode": "lines",
         "type": "scatter",
         "x": {
          "bdata": "AAAAAAAAAAC5fzCJw8HpP7l/MInDwek/KQiNfk4a6D8=",
          "dtype": "f8"
         },
         "xaxis": "x",
         "y": {
          "bdata": "AAAAAADYg8AAAAAAANiDwAAAAAAAUITAAAAAAABQhMA=",
          "dtype": "f8"
         },
         "yaxis": "y"
        },
        {
         "hoverinfo": "text",
         "marker": {
          "color": "rgb(40,35,35)"
         },
         "mode": "lines",
         "type": "scatter",
         "x": {
          "bdata": "uX8wicPB6T94CXSQCZjtP3gJdJAJmO0/AAAAAAAAAAA=",
          "dtype": "f8"
         },
         "xaxis": "x",
         "y": {
          "bdata": "AAAAAAAUhMAAAAAAABSEwAAAAAAAyITAAAAAAADIhMA=",
          "dtype": "f8"
         },
         "yaxis": "y"
        },
        {
         "hoverinfo": "text",
         "marker": {
          "color": "rgb(0,116,217)"
         },
         "mode": "lines",
         "type": "scatter",
         "x": {
          "bdata": "ULp+yqRp8D/AnKNcrZPxP8Cco1ytk/E/eAl0kAmY7T8=",
          "dtype": "f8"
         },
         "xaxis": "x",
         "y": {
          "bdata": "AAAAAABrgsAAAAAAAGuCwAAAAAAAboTAAAAAAABuhMA=",
          "dtype": "f8"
         },
         "yaxis": "y"
        },
        {
         "hoverinfo": "text",
         "marker": {
          "color": "rgb(0,116,217)"
         },
         "mode": "lines",
         "type": "scatter",
         "x": {
          "bdata": "Wd7iNhhR8j+vzF6yMJ30P6/MXrIwnfQ/wJyjXK2T8T8=",
          "dtype": "f8"
         },
         "xaxis": "x",
         "y": {
          "bdata": "AAAAAABAgMAAAAAAAECAwAAAAACAbIPAAAAAAIBsg8A=",
          "dtype": "f8"
         },
         "yaxis": "y"
        },
        {
         "hoverinfo": "text",
         "marker": {
          "color": "rgb(0,116,217)"
         },
         "mode": "lines",
         "type": "scatter",
         "x": {
          "bdata": "O3JUVXE56z+PKeI6uqj1P48p4jq6qPU/r8xesjCd9D8=",
          "dtype": "f8"
         },
         "xaxis": "x",
         "y": {
          "bdata": "AAAAAAAAfsAAAAAAAAB+wAAAAABA1oHAAAAAAEDWgcA=",
          "dtype": "f8"
         },
         "yaxis": "y"
        },
        {
         "hoverinfo": "text",
         "marker": {
          "color": "rgb(0,116,217)"
         },
         "mode": "lines",
         "type": "scatter",
         "x": {
          "bdata": "+aGzYBQo8z/puImZi3D3P+m4iZmLcPc/jyniOrqo9T8=",
          "dtype": "f8"
         },
         "xaxis": "x",
         "y": {
          "bdata": "AAAAAACgecAAAAAAAKB5wAAAAAAga4DAAAAAACBrgMA=",
          "dtype": "f8"
         },
         "yaxis": "y"
        },
        {
         "hoverinfo": "text",
         "marker": {
          "color": "rgb(61,153,112)"
         },
         "mode": "lines",
         "type": "scatter",
         "x": {
          "bdata": "AAAAAAAAAAAW2DEwc+7bPxbYMTBz7ts/AAAAAAAAAAA=",
          "dtype": "f8"
         },
         "xaxis": "x",
         "y": {
          "bdata": "AAAAAAAYhcAAAAAAABiFwAAAAAAAaIXAAAAAAABohcA=",
          "dtype": "f8"
         },
         "yaxis": "y"
        },
        {
         "hoverinfo": "text",
         "marker": {
          "color": "rgb(255,65,54)"
         },
         "mode": "lines",
         "type": "scatter",
         "x": {
          "bdata": "AAAAAAAAAABIiN3b+HvoP0iI3dv4e+g/AAAAAAAAAAA=",
          "dtype": "f8"
         },
         "xaxis": "x",
         "y": {
          "bdata": "AAAAAAC4hcAAAAAAALiFwAAAAAAACIbAAAAAAAAIhsA=",
          "dtype": "f8"
         },
         "yaxis": "y"
        },
        {
         "hoverinfo": "text",
         "marker": {
          "color": "rgb(255,65,54)"
         },
         "mode": "lines",
         "type": "scatter",
         "x": {
          "bdata": "SIjd2/h76D8H1ua0iOPpPwfW5rSI4+k/AAAAAAAAAAA=",
          "dtype": "f8"
         },
         "xaxis": "x",
         "y": {
          "bdata": "AAAAAADghcAAAAAAAOCFwAAAAAAAWIbAAAAAAABYhsA=",
          "dtype": "f8"
         },
         "yaxis": "y"
        },
        {
         "hoverinfo": "text",
         "marker": {
          "color": "rgb(0,116,217)"
         },
         "mode": "lines",
         "type": "scatter",
         "x": {
          "bdata": "FtgxMHPu2z8W2+JviWvwPxbb4m+Ja/A/B9bmtIjj6T8=",
          "dtype": "f8"
         },
         "xaxis": "x",
         "y": {
          "bdata": "AAAAAABAhcAAAAAAAECFwAAAAAAAHIbAAAAAAAAchsA=",
          "dtype": "f8"
         },
         "yaxis": "y"
        },
        {
         "hoverinfo": "text",
         "marker": {
          "color": "rgb(35,205,205)"
         },
         "mode": "lines",
         "type": "scatter",
         "x": {
          "bdata": "AAAAAAAAAAAevMvalQfhPx68y9qVB+E/AAAAAAAAAAA=",
          "dtype": "f8"
         },
         "xaxis": "x",
         "y": {
          "bdata": "AAAAAACohsAAAAAAAKiGwAAAAAAA+IbAAAAAAAD4hsA=",
          "dtype": "f8"
         },
         "yaxis": "y"
        },
        {
         "hoverinfo": "text",
         "marker": {
          "color": "rgb(35,205,205)"
         },
         "mode": "lines",
         "type": "scatter",
         "x": {
          "bdata": "HrzL2pUH4T+ihF6q4H7rP6KEXqrgfus/AAAAAAAAAAA=",
          "dtype": "f8"
         },
         "xaxis": "x",
         "y": {
          "bdata": "AAAAAADQhsAAAAAAANCGwAAAAAAASIfAAAAAAABIh8A=",
          "dtype": "f8"
         },
         "yaxis": "y"
        },
        {
         "hoverinfo": "text",
         "marker": {
          "color": "rgb(0,116,217)"
         },
         "mode": "lines",
         "type": "scatter",
         "x": {
          "bdata": "Ftvib4lr8D+RuH4K6PH0P5G4fgro8fQ/ooRequB+6z8=",
          "dtype": "f8"
         },
         "xaxis": "x",
         "y": {
          "bdata": "AAAAAACuhcAAAAAAAK6FwAAAAAAADIfAAAAAAAAMh8A=",
          "dtype": "f8"
         },
         "yaxis": "y"
        },
        {
         "hoverinfo": "text",
         "marker": {
          "color": "rgb(0,116,217)"
         },
         "mode": "lines",
         "type": "scatter",
         "x": {
          "bdata": "6biJmYtw9z/ZfwWs+873P9l/Baz7zvc/kbh+Cujx9D8=",
          "dtype": "f8"
         },
         "xaxis": "x",
         "y": {
          "bdata": "AAAAACA7fcAAAAAAIDt9wAAAAAAAXYbAAAAAAABdhsA=",
          "dtype": "f8"
         },
         "yaxis": "y"
        },
        {
         "hoverinfo": "text",
         "marker": {
          "color": "rgb(61,153,112)"
         },
         "mode": "lines",
         "type": "scatter",
         "x": {
          "bdata": "AAAAAAAAAABWxv0UH6LfP1bG/RQfot8/AAAAAAAAAAA=",
          "dtype": "f8"
         },
         "xaxis": "x",
         "y": {
          "bdata": "AAAAAADoh8AAAAAAAOiHwAAAAAAAOIjAAAAAAAA4iMA=",
          "dtype": "f8"
         },
         "yaxis": "y"
        },
        {
         "hoverinfo": "text",
         "marker": {
          "color": "rgb(61,153,112)"
         },
         "mode": "lines",
         "type": "scatter",
         "x": {
          "bdata": "AAAAAAAAAAD8CmqvXgfqP/wKaq9eB+o/Vsb9FB+i3z8=",
          "dtype": "f8"
         },
         "xaxis": "x",
         "y": {
          "bdata": "AAAAAACYh8AAAAAAAJiHwAAAAAAAEIjAAAAAAAAQiMA=",
          "dtype": "f8"
         },
         "yaxis": "y"
        },
        {
         "hoverinfo": "text",
         "marker": {
          "color": "rgb(61,153,112)"
         },
         "mode": "lines",
         "type": "scatter",
         "x": {
          "bdata": "AAAAAAAAAAD+LCNodm7kP/4sI2h2buQ/AAAAAAAAAAA=",
          "dtype": "f8"
         },
         "xaxis": "x",
         "y": {
          "bdata": "AAAAAACIiMAAAAAAAIiIwAAAAAAA2IjAAAAAAADYiMA=",
          "dtype": "f8"
         },
         "yaxis": "y"
        },
        {
         "hoverinfo": "text",
         "marker": {
          "color": "rgb(61,153,112)"
         },
         "mode": "lines",
         "type": "scatter",
         "x": {
          "bdata": "/iwjaHZu5D/rzN6NJBHlP+vM3o0kEeU/AAAAAAAAAAA=",
          "dtype": "f8"
         },
         "xaxis": "x",
         "y": {
          "bdata": "AAAAAACwiMAAAAAAALCIwAAAAAAAKInAAAAAAAAoicA=",
          "dtype": "f8"
         },
         "yaxis": "y"
        },
        {
         "hoverinfo": "text",
         "marker": {
          "color": "rgb(61,153,112)"
         },
         "mode": "lines",
         "type": "scatter",
         "x": {
          "bdata": "AAAAAAAAAADwn5miYf/jP/CfmaJh/+M/AAAAAAAAAAA=",
          "dtype": "f8"
         },
         "xaxis": "x",
         "y": {
          "bdata": "AAAAAAB4icAAAAAAAHiJwAAAAAAAyInAAAAAAADIicA=",
          "dtype": "f8"
         },
         "yaxis": "y"
        },
        {
         "hoverinfo": "text",
         "marker": {
          "color": "rgb(61,153,112)"
         },
         "mode": "lines",
         "type": "scatter",
         "x": {
          "bdata": "68zejSQR5T8bFD8e+SXoPxsUPx75Jeg/8J+ZomH/4z8=",
          "dtype": "f8"
         },
         "xaxis": "x",
         "y": {
          "bdata": "AAAAAADsiMAAAAAAAOyIwAAAAAAAoInAAAAAAACgicA=",
          "dtype": "f8"
         },
         "yaxis": "y"
        },
        {
         "hoverinfo": "text",
         "marker": {
          "color": "rgb(61,153,112)"
         },
         "mode": "lines",
         "type": "scatter",
         "x": {
          "bdata": "/Apqr14H6j8Uac3dKo/tPxRpzd0qj+0/GxQ/Hvkl6D8=",
          "dtype": "f8"
         },
         "xaxis": "x",
         "y": {
          "bdata": "AAAAAADUh8AAAAAAANSHwAAAAAAARonAAAAAAABGicA=",
          "dtype": "f8"
         },
         "yaxis": "y"
        },
        {
         "hoverinfo": "text",
         "marker": {
          "color": "rgb(255,65,54)"
         },
         "mode": "lines",
         "type": "scatter",
         "x": {
          "bdata": "AAAAAAAAAABFN7xH93XoP0U3vEf3deg/AAAAAAAAAAA=",
          "dtype": "f8"
         },
         "xaxis": "x",
         "y": {
          "bdata": "AAAAAABoisAAAAAAAGiKwAAAAAAAuIrAAAAAAAC4isA=",
          "dtype": "f8"
         },
         "yaxis": "y"
        },
        {
         "hoverinfo": "text",
         "marker": {
          "color": "rgb(255,65,54)"
         },
         "mode": "lines",
         "type": "scatter",
         "x": {
          "bdata": "AAAAAAAAAADI14cFCADqP8jXhwUIAOo/RTe8R/d16D8=",
          "dtype": "f8"
         },
         "xaxis": "x",
         "y": {
          "bdata": "AAAAAAAYisAAAAAAABiKwAAAAAAAkIrAAAAAAACQisA=",
          "dtype": "f8"
         },
         "yaxis": "y"
        },
        {
         "hoverinfo": "text",
         "marker": {
          "color": "rgb(255,65,54)"
         },
         "mode": "lines",
         "type": "scatter",
         "x": {
          "bdata": "yNeHBQgA6j95IneCzIDrP3kid4LMgOs/AAAAAAAAAAA=",
          "dtype": "f8"
         },
         "xaxis": "x",
         "y": {
          "bdata": "AAAAAABUisAAAAAAAFSKwAAAAAAACIvAAAAAAAAIi8A=",
          "dtype": "f8"
         },
         "yaxis": "y"
        },
        {
         "hoverinfo": "text",
         "marker": {
          "color": "rgb(255,65,54)"
         },
         "mode": "lines",
         "type": "scatter",
         "x": {
          "bdata": "AAAAAAAAAACajMhwhzrgP5qMyHCHOuA/AAAAAAAAAAA=",
          "dtype": "f8"
         },
         "xaxis": "x",
         "y": {
          "bdata": "AAAAAABYi8AAAAAAAFiLwAAAAAAAqIvAAAAAAACoi8A=",
          "dtype": "f8"
         },
         "yaxis": "y"
        },
        {
         "hoverinfo": "text",
         "marker": {
          "color": "rgb(255,65,54)"
         },
         "mode": "lines",
         "type": "scatter",
         "x": {
          "bdata": "mozIcIc64D8Srsm9eMfiPxKuyb14x+I/AAAAAAAAAAA=",
          "dtype": "f8"
         },
         "xaxis": "x",
         "y": {
          "bdata": "AAAAAACAi8AAAAAAAICLwAAAAAAA+IvAAAAAAAD4i8A=",
          "dtype": "f8"
         },
         "yaxis": "y"
        },
        {
         "hoverinfo": "text",
         "marker": {
          "color": "rgb(255,65,54)"
         },
         "mode": "lines",
         "type": "scatter",
         "x": {
          "bdata": "eSJ3gsyA6z9xxEigMsPtP3HESKAyw+0/Eq7JvXjH4j8=",
          "dtype": "f8"
         },
         "xaxis": "x",
         "y": {
          "bdata": "AAAAAACuisAAAAAAAK6KwAAAAAAAvIvAAAAAAAC8i8A=",
          "dtype": "f8"
         },
         "yaxis": "y"
        },
        {
         "hoverinfo": "text",
         "marker": {
          "color": "rgb(35,205,205)"
         },
         "mode": "lines",
         "type": "scatter",
         "x": {
          "bdata": "AAAAAAAAAAD+5i4+nm7eP/7mLj6ebt4/AAAAAAAAAAA=",
          "dtype": "f8"
         },
         "xaxis": "x",
         "y": {
          "bdata": "AAAAAADojMAAAAAAAOiMwAAAAAAAOI3AAAAAAAA4jcA=",
          "dtype": "f8"
         },
         "yaxis": "y"
        },
        {
         "hoverinfo": "text",
         "marker": {
          "color": "rgb(35,205,205)"
         },
         "mode": "lines",
         "type": "scatter",
         "x": {
          "bdata": "AAAAAAAAAABzEMlPMMHlP3MQyU8wweU//uYuPp5u3j8=",
          "dtype": "f8"
         },
         "xaxis": "x",
         "y": {
          "bdata": "AAAAAACYjMAAAAAAAJiMwAAAAAAAEI3AAAAAAAAQjcA=",
          "dtype": "f8"
         },
         "yaxis": "y"
        },
        {
         "hoverinfo": "text",
         "marker": {
          "color": "rgb(35,205,205)"
         },
         "mode": "lines",
         "type": "scatter",
         "x": {
          "bdata": "AAAAAAAAAAANqNqPP4PrPw2o2o8/g+s/cxDJTzDB5T8=",
          "dtype": "f8"
         },
         "xaxis": "x",
         "y": {
          "bdata": "AAAAAABIjMAAAAAAAEiMwAAAAAAA1IzAAAAAAADUjMA=",
          "dtype": "f8"
         },
         "yaxis": "y"
        },
        {
         "hoverinfo": "text",
         "marker": {
          "color": "rgb(133,20,75)"
         },
         "mode": "lines",
         "type": "scatter",
         "x": {
          "bdata": "AAAAAAAAAAD9PkNeiw3rP/0+Q16LDes/AAAAAAAAAAA=",
          "dtype": "f8"
         },
         "xaxis": "x",
         "y": {
          "bdata": "AAAAAACIjcAAAAAAAIiNwAAAAAAA2I3AAAAAAADYjcA=",
          "dtype": "f8"
         },
         "yaxis": "y"
        },
        {
         "hoverinfo": "text",
         "marker": {
          "color": "rgb(133,20,75)"
         },
         "mode": "lines",
         "type": "scatter",
         "x": {
          "bdata": "/T5DXosN6z8K3Y0pv8LtPwrdjSm/wu0/AAAAAAAAAAA=",
          "dtype": "f8"
         },
         "xaxis": "x",
         "y": {
          "bdata": "AAAAAACwjcAAAAAAALCNwAAAAAAAKI7AAAAAAAAojsA=",
          "dtype": "f8"
         },
         "yaxis": "y"
        },
        {
         "hoverinfo": "text",
         "marker": {
          "color": "rgb(0,116,217)"
         },
         "mode": "lines",
         "type": "scatter",
         "x": {
          "bdata": "Dajajz+D6z8FPZTTLGTwPwU9lNMsZPA/Ct2NKb/C7T8=",
          "dtype": "f8"
         },
         "xaxis": "x",
         "y": {
          "bdata": "AAAAAACOjMAAAAAAAI6MwAAAAAAA7I3AAAAAAADsjcA=",
          "dtype": "f8"
         },
         "yaxis": "y"
        },
        {
         "hoverinfo": "text",
         "marker": {
          "color": "rgb(0,116,217)"
         },
         "mode": "lines",
         "type": "scatter",
         "x": {
          "bdata": "ccRIoDLD7T9MUxDYYkLxP0xTENhiQvE/BT2U0yxk8D8=",
          "dtype": "f8"
         },
         "xaxis": "x",
         "y": {
          "bdata": "AAAAAAA1i8AAAAAAADWLwAAAAAAAPY3AAAAAAAA9jcA=",
          "dtype": "f8"
         },
         "yaxis": "y"
        },
        {
         "hoverinfo": "text",
         "marker": {
          "color": "rgb(0,116,217)"
         },
         "mode": "lines",
         "type": "scatter",
         "x": {
          "bdata": "FGnN3SqP7T/zyWX9tUH2P/PJZf21QfY/TFMQ2GJC8T8=",
          "dtype": "f8"
         },
         "xaxis": "x",
         "y": {
          "bdata": "AAAAAACNiMAAAAAAAI2IwAAAAAAAOYzAAAAAAAA5jMA=",
          "dtype": "f8"
         },
         "yaxis": "y"
        },
        {
         "hoverinfo": "text",
         "marker": {
          "color": "rgb(0,116,217)"
         },
         "mode": "lines",
         "type": "scatter",
         "x": {
          "bdata": "2X8FrPvO9z/p4O4Mvpj8P+ng7gy+mPw/88ll/bVB9j8=",
          "dtype": "f8"
         },
         "xaxis": "x",
         "y": {
          "bdata": "AAAAAEh9gsAAAAAASH2CwAAAAAAAY4rAAAAAAABjisA=",
          "dtype": "f8"
         },
         "yaxis": "y"
        },
        {
         "hoverinfo": "text",
         "marker": {
          "color": "rgb(0,116,217)"
         },
         "mode": "lines",
         "type": "scatter",
         "x": {
          "bdata": "JlfRf3By+D/0RwCFNUIGQPRHAIU1QgZA6eDuDL6Y/D8=",
          "dtype": "f8"
         },
         "xaxis": "x",
         "y": {
          "bdata": "AAAAAODybcAAAAAA4PJtwAAAAAAkcIbAAAAAACRwhsA=",
          "dtype": "f8"
         },
         "yaxis": "y"
        }
       ],
       "layout": {
        "autosize": false,
        "height": 1655,
        "hoverlabel": {
         "bgcolor": "white",
         "font": {
          "family": "Rockwell",
          "size": 16
         }
        },
        "hovermode": "closest",
        "plot_bgcolor": "#ECEFF1",
        "showlegend": false,
        "template": {
         "data": {
          "bar": [
           {
            "error_x": {
             "color": "#2a3f5f"
            },
            "error_y": {
             "color": "#2a3f5f"
            },
            "marker": {
             "line": {
              "color": "white",
              "width": 0.5
             },
             "pattern": {
              "fillmode": "overlay",
              "size": 10,
              "solidity": 0.2
             }
            },
            "type": "bar"
           }
          ],
          "barpolar": [
           {
            "marker": {
             "line": {
              "color": "white",
              "width": 0.5
             },
             "pattern": {
              "fillmode": "overlay",
              "size": 10,
              "solidity": 0.2
             }
            },
            "type": "barpolar"
           }
          ],
          "carpet": [
           {
            "aaxis": {
             "endlinecolor": "#2a3f5f",
             "gridcolor": "#C8D4E3",
             "linecolor": "#C8D4E3",
             "minorgridcolor": "#C8D4E3",
             "startlinecolor": "#2a3f5f"
            },
            "baxis": {
             "endlinecolor": "#2a3f5f",
             "gridcolor": "#C8D4E3",
             "linecolor": "#C8D4E3",
             "minorgridcolor": "#C8D4E3",
             "startlinecolor": "#2a3f5f"
            },
            "type": "carpet"
           }
          ],
          "choropleth": [
           {
            "colorbar": {
             "outlinewidth": 0,
             "ticks": ""
            },
            "type": "choropleth"
           }
          ],
          "contour": [
           {
            "colorbar": {
             "outlinewidth": 0,
             "ticks": ""
            },
            "colorscale": [
             [
              0,
              "#0d0887"
             ],
             [
              0.1111111111111111,
              "#46039f"
             ],
             [
              0.2222222222222222,
              "#7201a8"
             ],
             [
              0.3333333333333333,
              "#9c179e"
             ],
             [
              0.4444444444444444,
              "#bd3786"
             ],
             [
              0.5555555555555556,
              "#d8576b"
             ],
             [
              0.6666666666666666,
              "#ed7953"
             ],
             [
              0.7777777777777778,
              "#fb9f3a"
             ],
             [
              0.8888888888888888,
              "#fdca26"
             ],
             [
              1,
              "#f0f921"
             ]
            ],
            "type": "contour"
           }
          ],
          "contourcarpet": [
           {
            "colorbar": {
             "outlinewidth": 0,
             "ticks": ""
            },
            "type": "contourcarpet"
           }
          ],
          "heatmap": [
           {
            "colorbar": {
             "outlinewidth": 0,
             "ticks": ""
            },
            "colorscale": [
             [
              0,
              "#0d0887"
             ],
             [
              0.1111111111111111,
              "#46039f"
             ],
             [
              0.2222222222222222,
              "#7201a8"
             ],
             [
              0.3333333333333333,
              "#9c179e"
             ],
             [
              0.4444444444444444,
              "#bd3786"
             ],
             [
              0.5555555555555556,
              "#d8576b"
             ],
             [
              0.6666666666666666,
              "#ed7953"
             ],
             [
              0.7777777777777778,
              "#fb9f3a"
             ],
             [
              0.8888888888888888,
              "#fdca26"
             ],
             [
              1,
              "#f0f921"
             ]
            ],
            "type": "heatmap"
           }
          ],
          "histogram": [
           {
            "marker": {
             "pattern": {
              "fillmode": "overlay",
              "size": 10,
              "solidity": 0.2
             }
            },
            "type": "histogram"
           }
          ],
          "histogram2d": [
           {
            "colorbar": {
             "outlinewidth": 0,
             "ticks": ""
            },
            "colorscale": [
             [
              0,
              "#0d0887"
             ],
             [
              0.1111111111111111,
              "#46039f"
             ],
             [
              0.2222222222222222,
              "#7201a8"
             ],
             [
              0.3333333333333333,
              "#9c179e"
             ],
             [
              0.4444444444444444,
              "#bd3786"
             ],
             [
              0.5555555555555556,
              "#d8576b"
             ],
             [
              0.6666666666666666,
              "#ed7953"
             ],
             [
              0.7777777777777778,
              "#fb9f3a"
             ],
             [
              0.8888888888888888,
              "#fdca26"
             ],
             [
              1,
              "#f0f921"
             ]
            ],
            "type": "histogram2d"
           }
          ],
          "histogram2dcontour": [
           {
            "colorbar": {
             "outlinewidth": 0,
             "ticks": ""
            },
            "colorscale": [
             [
              0,
              "#0d0887"
             ],
             [
              0.1111111111111111,
              "#46039f"
             ],
             [
              0.2222222222222222,
              "#7201a8"
             ],
             [
              0.3333333333333333,
              "#9c179e"
             ],
             [
              0.4444444444444444,
              "#bd3786"
             ],
             [
              0.5555555555555556,
              "#d8576b"
             ],
             [
              0.6666666666666666,
              "#ed7953"
             ],
             [
              0.7777777777777778,
              "#fb9f3a"
             ],
             [
              0.8888888888888888,
              "#fdca26"
             ],
             [
              1,
              "#f0f921"
             ]
            ],
            "type": "histogram2dcontour"
           }
          ],
          "mesh3d": [
           {
            "colorbar": {
             "outlinewidth": 0,
             "ticks": ""
            },
            "type": "mesh3d"
           }
          ],
          "parcoords": [
           {
            "line": {
             "colorbar": {
              "outlinewidth": 0,
              "ticks": ""
             }
            },
            "type": "parcoords"
           }
          ],
          "pie": [
           {
            "automargin": true,
            "type": "pie"
           }
          ],
          "scatter": [
           {
            "fillpattern": {
             "fillmode": "overlay",
             "size": 10,
             "solidity": 0.2
            },
            "type": "scatter"
           }
          ],
          "scatter3d": [
           {
            "line": {
             "colorbar": {
              "outlinewidth": 0,
              "ticks": ""
             }
            },
            "marker": {
             "colorbar": {
              "outlinewidth": 0,
              "ticks": ""
             }
            },
            "type": "scatter3d"
           }
          ],
          "scattercarpet": [
           {
            "marker": {
             "colorbar": {
              "outlinewidth": 0,
              "ticks": ""
             }
            },
            "type": "scattercarpet"
           }
          ],
          "scattergeo": [
           {
            "marker": {
             "colorbar": {
              "outlinewidth": 0,
              "ticks": ""
             }
            },
            "type": "scattergeo"
           }
          ],
          "scattergl": [
           {
            "marker": {
             "colorbar": {
              "outlinewidth": 0,
              "ticks": ""
             }
            },
            "type": "scattergl"
           }
          ],
          "scattermap": [
           {
            "marker": {
             "colorbar": {
              "outlinewidth": 0,
              "ticks": ""
             }
            },
            "type": "scattermap"
           }
          ],
          "scattermapbox": [
           {
            "marker": {
             "colorbar": {
              "outlinewidth": 0,
              "ticks": ""
             }
            },
            "type": "scattermapbox"
           }
          ],
          "scatterpolar": [
           {
            "marker": {
             "colorbar": {
              "outlinewidth": 0,
              "ticks": ""
             }
            },
            "type": "scatterpolar"
           }
          ],
          "scatterpolargl": [
           {
            "marker": {
             "colorbar": {
              "outlinewidth": 0,
              "ticks": ""
             }
            },
            "type": "scatterpolargl"
           }
          ],
          "scatterternary": [
           {
            "marker": {
             "colorbar": {
              "outlinewidth": 0,
              "ticks": ""
             }
            },
            "type": "scatterternary"
           }
          ],
          "surface": [
           {
            "colorbar": {
             "outlinewidth": 0,
             "ticks": ""
            },
            "colorscale": [
             [
              0,
              "#0d0887"
             ],
             [
              0.1111111111111111,
              "#46039f"
             ],
             [
              0.2222222222222222,
              "#7201a8"
             ],
             [
              0.3333333333333333,
              "#9c179e"
             ],
             [
              0.4444444444444444,
              "#bd3786"
             ],
             [
              0.5555555555555556,
              "#d8576b"
             ],
             [
              0.6666666666666666,
              "#ed7953"
             ],
             [
              0.7777777777777778,
              "#fb9f3a"
             ],
             [
              0.8888888888888888,
              "#fdca26"
             ],
             [
              1,
              "#f0f921"
             ]
            ],
            "type": "surface"
           }
          ],
          "table": [
           {
            "cells": {
             "fill": {
              "color": "#EBF0F8"
             },
             "line": {
              "color": "white"
             }
            },
            "header": {
             "fill": {
              "color": "#C8D4E3"
             },
             "line": {
              "color": "white"
             }
            },
            "type": "table"
           }
          ]
         },
         "layout": {
          "annotationdefaults": {
           "arrowcolor": "#2a3f5f",
           "arrowhead": 0,
           "arrowwidth": 1
          },
          "autotypenumbers": "strict",
          "coloraxis": {
           "colorbar": {
            "outlinewidth": 0,
            "ticks": ""
           }
          },
          "colorscale": {
           "diverging": [
            [
             0,
             "#8e0152"
            ],
            [
             0.1,
             "#c51b7d"
            ],
            [
             0.2,
             "#de77ae"
            ],
            [
             0.3,
             "#f1b6da"
            ],
            [
             0.4,
             "#fde0ef"
            ],
            [
             0.5,
             "#f7f7f7"
            ],
            [
             0.6,
             "#e6f5d0"
            ],
            [
             0.7,
             "#b8e186"
            ],
            [
             0.8,
             "#7fbc41"
            ],
            [
             0.9,
             "#4d9221"
            ],
            [
             1,
             "#276419"
            ]
           ],
           "sequential": [
            [
             0,
             "#0d0887"
            ],
            [
             0.1111111111111111,
             "#46039f"
            ],
            [
             0.2222222222222222,
             "#7201a8"
            ],
            [
             0.3333333333333333,
             "#9c179e"
            ],
            [
             0.4444444444444444,
             "#bd3786"
            ],
            [
             0.5555555555555556,
             "#d8576b"
            ],
            [
             0.6666666666666666,
             "#ed7953"
            ],
            [
             0.7777777777777778,
             "#fb9f3a"
            ],
            [
             0.8888888888888888,
             "#fdca26"
            ],
            [
             1,
             "#f0f921"
            ]
           ],
           "sequentialminus": [
            [
             0,
             "#0d0887"
            ],
            [
             0.1111111111111111,
             "#46039f"
            ],
            [
             0.2222222222222222,
             "#7201a8"
            ],
            [
             0.3333333333333333,
             "#9c179e"
            ],
            [
             0.4444444444444444,
             "#bd3786"
            ],
            [
             0.5555555555555556,
             "#d8576b"
            ],
            [
             0.6666666666666666,
             "#ed7953"
            ],
            [
             0.7777777777777778,
             "#fb9f3a"
            ],
            [
             0.8888888888888888,
             "#fdca26"
            ],
            [
             1,
             "#f0f921"
            ]
           ]
          },
          "colorway": [
           "#636efa",
           "#EF553B",
           "#00cc96",
           "#ab63fa",
           "#FFA15A",
           "#19d3f3",
           "#FF6692",
           "#B6E880",
           "#FF97FF",
           "#FECB52"
          ],
          "font": {
           "color": "#2a3f5f"
          },
          "geo": {
           "bgcolor": "white",
           "lakecolor": "white",
           "landcolor": "white",
           "showlakes": true,
           "showland": true,
           "subunitcolor": "#C8D4E3"
          },
          "hoverlabel": {
           "align": "left"
          },
          "hovermode": "closest",
          "mapbox": {
           "style": "light"
          },
          "paper_bgcolor": "white",
          "plot_bgcolor": "white",
          "polar": {
           "angularaxis": {
            "gridcolor": "#EBF0F8",
            "linecolor": "#EBF0F8",
            "ticks": ""
           },
           "bgcolor": "white",
           "radialaxis": {
            "gridcolor": "#EBF0F8",
            "linecolor": "#EBF0F8",
            "ticks": ""
           }
          },
          "scene": {
           "xaxis": {
            "backgroundcolor": "white",
            "gridcolor": "#DFE8F3",
            "gridwidth": 2,
            "linecolor": "#EBF0F8",
            "showbackground": true,
            "ticks": "",
            "zerolinecolor": "#EBF0F8"
           },
           "yaxis": {
            "backgroundcolor": "white",
            "gridcolor": "#DFE8F3",
            "gridwidth": 2,
            "linecolor": "#EBF0F8",
            "showbackground": true,
            "ticks": "",
            "zerolinecolor": "#EBF0F8"
           },
           "zaxis": {
            "backgroundcolor": "white",
            "gridcolor": "#DFE8F3",
            "gridwidth": 2,
            "linecolor": "#EBF0F8",
            "showbackground": true,
            "ticks": "",
            "zerolinecolor": "#EBF0F8"
           }
          },
          "shapedefaults": {
           "line": {
            "color": "#2a3f5f"
           }
          },
          "ternary": {
           "aaxis": {
            "gridcolor": "#DFE8F3",
            "linecolor": "#A2B1C6",
            "ticks": ""
           },
           "baxis": {
            "gridcolor": "#DFE8F3",
            "linecolor": "#A2B1C6",
            "ticks": ""
           },
           "bgcolor": "white",
           "caxis": {
            "gridcolor": "#DFE8F3",
            "linecolor": "#A2B1C6",
            "ticks": ""
           }
          },
          "title": {
           "x": 0.05
          },
          "xaxis": {
           "automargin": true,
           "gridcolor": "#EBF0F8",
           "linecolor": "#EBF0F8",
           "ticks": "",
           "title": {
            "standoff": 15
           },
           "zerolinecolor": "#EBF0F8",
           "zerolinewidth": 2
          },
          "yaxis": {
           "automargin": true,
           "gridcolor": "#EBF0F8",
           "linecolor": "#EBF0F8",
           "ticks": "",
           "title": {
            "standoff": 15
           },
           "zerolinecolor": "#EBF0F8",
           "zerolinewidth": 2
          }
         }
        },
        "title": {
         "font": {
          "color": "Black",
          "size": 22
         },
         "text": "<b>Hierarchical Clustering</b>",
         "x": 0.5,
         "xanchor": "center",
         "yanchor": "top"
        },
        "width": 1000,
        "xaxis": {
         "mirror": "allticks",
         "rangemode": "tozero",
         "showgrid": false,
         "showline": true,
         "showticklabels": true,
         "ticks": "outside",
         "type": "linear",
         "zeroline": false
        },
        "yaxis": {
         "mirror": "allticks",
         "range": [
          -970,
          0
         ],
         "rangemode": "tozero",
         "showgrid": false,
         "showline": true,
         "showticklabels": true,
         "tickmode": "array",
         "ticks": "outside",
         "ticktext": [
          "56_tennis_tenis_desserré",
          "66_sneaker_sweatsuits_lot",
          "81_clouds_cloud_feels",
          "65_cushion_cushioning_plate",
          "55_narrow_size_troppo",
          "11_trainers_trainer_colour",
          "15_running_love_run",
          "2_running_great_comfortable",
          "20_comfortable_run_walk",
          "43_wife_love_look",
          "4_comfortable_love_nice",
          "7_love_sneakers_comfortable",
          "68_wear_white_wore",
          "44_suggestion_size_comforta...",
          "74_satisfied_style_comforta...",
          "57_price_propel_value",
          "86_show_performing_provides",
          "96_sneakers_concept_purchase",
          "25_bought_loves_buy",
          "38_price_purchase_buy",
          "72_purchase_price_great",
          "24_purchase_best_ever",
          "58_purchase_best_ever",
          "79_purchase_robust_running",
          "62_great_colors_price",
          "33_purchase_color_colors",
          "10_color_couleur_couleurs",
          "35_pair_another_versions",
          "63_strung_prime_v1",
          "84_sen_takumi_fast",
          "27_fast_speed_pace",
          "67_training_lightstrike_tra...",
          "94_faster_recovery_training",
          "88_pronating_performence_road",
          "93_next_best_race",
          "31_best_ever_running",
          "64_race_reminds_expensive",
          "70_decathlon_products_sports",
          "83_product_quality_thanks",
          "48_product_prodotto_materiali",
          "8_prodotto_prezzo_ottimo",
          "52_sport_salle_article",
          "26_rapport_qualité_prix",
          "32_rapport_qualité_prix",
          "49_produit_bon_léger",
          "28_produit_attentes_corresp...",
          "71_fille_figlia_daughter",
          "53_scuola_collège_sport",
          "69_fils_fille_figlio",
          "21_fils_loves_figlio",
          "80_leggere_comode_molto",
          "40_leggere_comode_molto",
          "34_palestra_gym_renforcement",
          "51_palestra_gym_prezzo",
          "89_grip_ottimo_sterrata",
          "60_euros_meglio_costano",
          "50_déçu_300_articolo",
          "22_paio_fois_acquistato",
          "18_paio_deuxième_secondo",
          "77_acquisto_ottimo_miglior",
          "1_comoda_ottima_leggera",
          "92_anno_colori_problema",
          "59_donna_active_femme",
          "14_pied_talon_mal",
          "3_taille_peu_trop",
          "61_bagnato_wet_sol",
          "45_38_43_39",
          "13_adidas_sempre_garanzia",
          "17_adidas_love_line",
          "85_carbonio_rotta_piastra",
          "95_adidas_exchange_order",
          "82_servizio_service_personale",
          "30_months_torn_within",
          "47_bad_month_quality",
          "87_mois_semaines_gros",
          "73_km_distances_trail",
          "16_trail_accroche_bonne",
          "19_trail_terrex_bonne",
          "23_xt7_xt8_accroche",
          "39_km_semelle_après",
          "90_modèle_peut_paires",
          "36_kiprun_kd900_ks900",
          "76_kiprun_plus_km",
          "42_tho_bonne_route",
          "29_bonnes_bonne_très",
          "54_bonne_accroche_terrain",
          "78_nordique_marche_imperméa...",
          "5_très_sport_confortables",
          "6_agréable_confortable_porter",
          "75_confortable_légère_très",
          "41_utilise_travail_work",
          "9_agréables_légères_confort...",
          "0_camminata_camminare_marche",
          "12_walking_passeggiate_camm...",
          "37_course_comfort_courir",
          "46_course_flaws_endure",
          "91_scomoda_corsa_legs"
         ],
         "tickvals": [
          -5,
          -15,
          -25,
          -35,
          -45,
          -55,
          -65,
          -75,
          -85,
          -95,
          -105,
          -115,
          -125,
          -135,
          -145,
          -155,
          -165,
          -175,
          -185,
          -195,
          -205,
          -215,
          -225,
          -235,
          -245,
          -255,
          -265,
          -275,
          -285,
          -295,
          -305,
          -315,
          -325,
          -335,
          -345,
          -355,
          -365,
          -375,
          -385,
          -395,
          -405,
          -415,
          -425,
          -435,
          -445,
          -455,
          -465,
          -475,
          -485,
          -495,
          -505,
          -515,
          -525,
          -535,
          -545,
          -555,
          -565,
          -575,
          -585,
          -595,
          -605,
          -615,
          -625,
          -635,
          -645,
          -655,
          -665,
          -675,
          -685,
          -695,
          -705,
          -715,
          -725,
          -735,
          -745,
          -755,
          -765,
          -775,
          -785,
          -795,
          -805,
          -815,
          -825,
          -835,
          -845,
          -855,
          -865,
          -875,
          -885,
          -895,
          -905,
          -915,
          -925,
          -935,
          -945,
          -955,
          -965
         ],
         "type": "linear",
         "zeroline": false
        }
       }
      }
     },
     "metadata": {},
     "output_type": "display_data"
    }
   ],
   "source": [
    "# Visualize the hierarchical topics\n",
    "topic_model_miniLM.hierarchical_topics(reviews_miniLM)\n",
    "topic_model_miniLM.visualize_hierarchy()\n"
   ]
  },
  {
   "cell_type": "code",
   "execution_count": 36,
   "metadata": {},
   "outputs": [
    {
     "data": {
      "text/html": [
       "<div>\n",
       "<style scoped>\n",
       "    .dataframe tbody tr th:only-of-type {\n",
       "        vertical-align: middle;\n",
       "    }\n",
       "\n",
       "    .dataframe tbody tr th {\n",
       "        vertical-align: top;\n",
       "    }\n",
       "\n",
       "    .dataframe thead th {\n",
       "        text-align: right;\n",
       "    }\n",
       "</style>\n",
       "<table border=\"1\" class=\"dataframe\">\n",
       "  <thead>\n",
       "    <tr style=\"text-align: right;\">\n",
       "      <th></th>\n",
       "      <th>Topic</th>\n",
       "      <th>Count</th>\n",
       "      <th>Name</th>\n",
       "      <th>Representation</th>\n",
       "      <th>Representative_Docs</th>\n",
       "    </tr>\n",
       "  </thead>\n",
       "  <tbody>\n",
       "    <tr>\n",
       "      <th>0</th>\n",
       "      <td>-1</td>\n",
       "      <td>6119</td>\n",
       "      <td>-1_très_great_running_good</td>\n",
       "      <td>[très, great, running, good, comfortable, size...</td>\n",
       "      <td>[excellent running shoe the cushion is good an...</td>\n",
       "    </tr>\n",
       "    <tr>\n",
       "      <th>1</th>\n",
       "      <td>0</td>\n",
       "      <td>626</td>\n",
       "      <td>0_camminata_camminare_marche_corsa</td>\n",
       "      <td>[camminata, camminare, marche, corsa, running,...</td>\n",
       "      <td>[molto belle e comode, ottime per camminata e ...</td>\n",
       "    </tr>\n",
       "    <tr>\n",
       "      <th>2</th>\n",
       "      <td>1</td>\n",
       "      <td>585</td>\n",
       "      <td>1_comoda_ottima_leggera_molto</td>\n",
       "      <td>[comoda, ottima, leggera, molto, buona, prezzo...</td>\n",
       "      <td>[ottimo acquisto ottimo rapporto qualità/prezz...</td>\n",
       "    </tr>\n",
       "    <tr>\n",
       "      <th>3</th>\n",
       "      <td>2</td>\n",
       "      <td>374</td>\n",
       "      <td>2_running_great_comfortable_runs</td>\n",
       "      <td>[running, great, comfortable, runs, training, ...</td>\n",
       "      <td>[stable enough for an overpronator! fab shoe. ...</td>\n",
       "    </tr>\n",
       "    <tr>\n",
       "      <th>4</th>\n",
       "      <td>3</td>\n",
       "      <td>261</td>\n",
       "      <td>3_taille_peu_trop_manque</td>\n",
       "      <td>[taille, peu, trop, manque, semelle, troppo, h...</td>\n",
       "      <td>[bonne chaussure mais taille bonne chaussure m...</td>\n",
       "    </tr>\n",
       "    <tr>\n",
       "      <th>...</th>\n",
       "      <td>...</td>\n",
       "      <td>...</td>\n",
       "      <td>...</td>\n",
       "      <td>...</td>\n",
       "      <td>...</td>\n",
       "    </tr>\n",
       "    <tr>\n",
       "      <th>93</th>\n",
       "      <td>92</td>\n",
       "      <td>26</td>\n",
       "      <td>92_anno_colori_problema_noire</td>\n",
       "      <td>[anno, colori, problema, noire, femme, couleur...</td>\n",
       "      <td>[ogni anno compro per il mio lavoro queste sca...</td>\n",
       "    </tr>\n",
       "    <tr>\n",
       "      <th>94</th>\n",
       "      <td>93</td>\n",
       "      <td>25</td>\n",
       "      <td>93_next_best_race_ever</td>\n",
       "      <td>[next, best, race, ever, feeling, legs, unriva...</td>\n",
       "      <td>[my next race shoe i have a ton of shoes - mos...</td>\n",
       "    </tr>\n",
       "    <tr>\n",
       "      <th>95</th>\n",
       "      <td>94</td>\n",
       "      <td>25</td>\n",
       "      <td>94_faster_recovery_training_companion</td>\n",
       "      <td>[faster, recovery, training, companion, runs, ...</td>\n",
       "      <td>[amazing cushioning and propulsion i've now ru...</td>\n",
       "    </tr>\n",
       "    <tr>\n",
       "      <th>96</th>\n",
       "      <td>95</td>\n",
       "      <td>25</td>\n",
       "      <td>95_adidas_exchange_order_refund</td>\n",
       "      <td>[adidas, exchange, order, refund, service, los...</td>\n",
       "      <td>[dont order through adidas directly! i ordered...</td>\n",
       "    </tr>\n",
       "    <tr>\n",
       "      <th>97</th>\n",
       "      <td>96</td>\n",
       "      <td>25</td>\n",
       "      <td>96_sneakers_concept_purchase_happy</td>\n",
       "      <td>[sneakers, concept, purchase, happy, primes, a...</td>\n",
       "      <td>[innovative concept turned reality i have been...</td>\n",
       "    </tr>\n",
       "  </tbody>\n",
       "</table>\n",
       "<p>98 rows × 5 columns</p>\n",
       "</div>"
      ],
      "text/plain": [
       "    Topic  Count                                   Name  \\\n",
       "0      -1   6119             -1_très_great_running_good   \n",
       "1       0    626     0_camminata_camminare_marche_corsa   \n",
       "2       1    585          1_comoda_ottima_leggera_molto   \n",
       "3       2    374       2_running_great_comfortable_runs   \n",
       "4       3    261               3_taille_peu_trop_manque   \n",
       "..    ...    ...                                    ...   \n",
       "93     92     26          92_anno_colori_problema_noire   \n",
       "94     93     25                 93_next_best_race_ever   \n",
       "95     94     25  94_faster_recovery_training_companion   \n",
       "96     95     25        95_adidas_exchange_order_refund   \n",
       "97     96     25     96_sneakers_concept_purchase_happy   \n",
       "\n",
       "                                       Representation  \\\n",
       "0   [très, great, running, good, comfortable, size...   \n",
       "1   [camminata, camminare, marche, corsa, running,...   \n",
       "2   [comoda, ottima, leggera, molto, buona, prezzo...   \n",
       "3   [running, great, comfortable, runs, training, ...   \n",
       "4   [taille, peu, trop, manque, semelle, troppo, h...   \n",
       "..                                                ...   \n",
       "93  [anno, colori, problema, noire, femme, couleur...   \n",
       "94  [next, best, race, ever, feeling, legs, unriva...   \n",
       "95  [faster, recovery, training, companion, runs, ...   \n",
       "96  [adidas, exchange, order, refund, service, los...   \n",
       "97  [sneakers, concept, purchase, happy, primes, a...   \n",
       "\n",
       "                                  Representative_Docs  \n",
       "0   [excellent running shoe the cushion is good an...  \n",
       "1   [molto belle e comode, ottime per camminata e ...  \n",
       "2   [ottimo acquisto ottimo rapporto qualità/prezz...  \n",
       "3   [stable enough for an overpronator! fab shoe. ...  \n",
       "4   [bonne chaussure mais taille bonne chaussure m...  \n",
       "..                                                ...  \n",
       "93  [ogni anno compro per il mio lavoro queste sca...  \n",
       "94  [my next race shoe i have a ton of shoes - mos...  \n",
       "95  [amazing cushioning and propulsion i've now ru...  \n",
       "96  [dont order through adidas directly! i ordered...  \n",
       "97  [innovative concept turned reality i have been...  \n",
       "\n",
       "[98 rows x 5 columns]"
      ]
     },
     "execution_count": 36,
     "metadata": {},
     "output_type": "execute_result"
    }
   ],
   "source": [
    "topic_model_miniLM.get_topic_info()"
   ]
  },
  {
   "cell_type": "code",
   "execution_count": 37,
   "metadata": {},
   "outputs": [
    {
     "data": {
      "application/vnd.plotly.v1+json": {
       "config": {
        "plotlyServerURL": "https://plot.ly"
       },
       "data": [
        {
         "marker": {
          "color": "#D55E00"
         },
         "orientation": "h",
         "type": "bar",
         "x": [
          0.013862564862303734,
          0.014137686294378572,
          0.014516452144559485,
          0.016423657783360905,
          0.018171048163457097
         ],
         "xaxis": "x",
         "y": [
          "running  ",
          "corsa  ",
          "marche  ",
          "camminare  ",
          "camminata  "
         ],
         "yaxis": "y"
        },
        {
         "marker": {
          "color": "#0072B2"
         },
         "orientation": "h",
         "type": "bar",
         "x": [
          0.028831621501075554,
          0.031046617353538503,
          0.04412611557995204,
          0.04696507176990605,
          0.06522009941749465
         ],
         "xaxis": "x2",
         "y": [
          "buona  ",
          "molto  ",
          "leggera  ",
          "ottima  ",
          "comoda  "
         ],
         "yaxis": "y2"
        },
        {
         "marker": {
          "color": "#CC79A7"
         },
         "orientation": "h",
         "type": "bar",
         "x": [
          0.015297111153685644,
          0.015891397745147216,
          0.016856618323161578,
          0.019553896546374867,
          0.03785072476081829
         ],
         "xaxis": "x3",
         "y": [
          "training  ",
          "runs  ",
          "comfortable  ",
          "great  ",
          "running  "
         ],
         "yaxis": "y3"
        },
        {
         "marker": {
          "color": "#E69F00"
         },
         "orientation": "h",
         "type": "bar",
         "x": [
          0.020984228379758864,
          0.021391663335364897,
          0.022627735477668692,
          0.028549930407963272,
          0.032212042103221594
         ],
         "xaxis": "x4",
         "y": [
          "semelle  ",
          "manque  ",
          "trop  ",
          "peu  ",
          "taille  "
         ],
         "yaxis": "y4"
        },
        {
         "marker": {
          "color": "#56B4E9"
         },
         "orientation": "h",
         "type": "bar",
         "x": [
          0.026316681786971934,
          0.02868696807192749,
          0.03355783411447926,
          0.033756406465725905,
          0.04316384745823046
         ],
         "xaxis": "x5",
         "y": [
          "light  ",
          "color  ",
          "nice  ",
          "love  ",
          "comfortable  "
         ],
         "yaxis": "y5"
        },
        {
         "marker": {
          "color": "#009E73"
         },
         "orientation": "h",
         "type": "bar",
         "x": [
          0.025563470571845454,
          0.025781479120885416,
          0.027702674369394574,
          0.02784399745055625,
          0.036542387376541176
         ],
         "xaxis": "x6",
         "y": [
          "bonne  ",
          "légères  ",
          "confortables  ",
          "sport  ",
          "très  "
         ],
         "yaxis": "y6"
        },
        {
         "marker": {
          "color": "#F0E442"
         },
         "orientation": "h",
         "type": "bar",
         "x": [
          0.04064831258914231,
          0.04266019226491479,
          0.04337052937533801,
          0.044758663905675476,
          0.06740284440741362
         ],
         "xaxis": "x7",
         "y": [
          "très  ",
          "confort  ",
          "porter  ",
          "confortable  ",
          "agréable  "
         ],
         "yaxis": "y7"
        },
        {
         "marker": {
          "color": "#D55E00"
         },
         "orientation": "h",
         "type": "bar",
         "x": [
          0.030800452786505957,
          0.03244236002049677,
          0.03270882565199911,
          0.03819595113031439,
          0.058255885007269956
         ],
         "xaxis": "x8",
         "y": [
          "amazing  ",
          "awesome  ",
          "comfortable  ",
          "sneakers  ",
          "love  "
         ],
         "yaxis": "y8"
        }
       ],
       "layout": {
        "annotations": [
         {
          "font": {
           "size": 16
          },
          "showarrow": false,
          "text": "Topic 0",
          "x": 0.0875,
          "xanchor": "center",
          "xref": "paper",
          "y": 1,
          "yanchor": "bottom",
          "yref": "paper"
         },
         {
          "font": {
           "size": 16
          },
          "showarrow": false,
          "text": "Topic 1",
          "x": 0.36250000000000004,
          "xanchor": "center",
          "xref": "paper",
          "y": 1,
          "yanchor": "bottom",
          "yref": "paper"
         },
         {
          "font": {
           "size": 16
          },
          "showarrow": false,
          "text": "Topic 2",
          "x": 0.6375000000000001,
          "xanchor": "center",
          "xref": "paper",
          "y": 1,
          "yanchor": "bottom",
          "yref": "paper"
         },
         {
          "font": {
           "size": 16
          },
          "showarrow": false,
          "text": "Topic 3",
          "x": 0.9125,
          "xanchor": "center",
          "xref": "paper",
          "y": 1,
          "yanchor": "bottom",
          "yref": "paper"
         },
         {
          "font": {
           "size": 16
          },
          "showarrow": false,
          "text": "Topic 4",
          "x": 0.0875,
          "xanchor": "center",
          "xref": "paper",
          "y": 0.4,
          "yanchor": "bottom",
          "yref": "paper"
         },
         {
          "font": {
           "size": 16
          },
          "showarrow": false,
          "text": "Topic 5",
          "x": 0.36250000000000004,
          "xanchor": "center",
          "xref": "paper",
          "y": 0.4,
          "yanchor": "bottom",
          "yref": "paper"
         },
         {
          "font": {
           "size": 16
          },
          "showarrow": false,
          "text": "Topic 6",
          "x": 0.6375000000000001,
          "xanchor": "center",
          "xref": "paper",
          "y": 0.4,
          "yanchor": "bottom",
          "yref": "paper"
         },
         {
          "font": {
           "size": 16
          },
          "showarrow": false,
          "text": "Topic 7",
          "x": 0.9125,
          "xanchor": "center",
          "xref": "paper",
          "y": 0.4,
          "yanchor": "bottom",
          "yref": "paper"
         }
        ],
        "height": 500,
        "hoverlabel": {
         "bgcolor": "white",
         "font": {
          "family": "Rockwell",
          "size": 16
         }
        },
        "showlegend": false,
        "template": {
         "data": {
          "bar": [
           {
            "error_x": {
             "color": "#2a3f5f"
            },
            "error_y": {
             "color": "#2a3f5f"
            },
            "marker": {
             "line": {
              "color": "white",
              "width": 0.5
             },
             "pattern": {
              "fillmode": "overlay",
              "size": 10,
              "solidity": 0.2
             }
            },
            "type": "bar"
           }
          ],
          "barpolar": [
           {
            "marker": {
             "line": {
              "color": "white",
              "width": 0.5
             },
             "pattern": {
              "fillmode": "overlay",
              "size": 10,
              "solidity": 0.2
             }
            },
            "type": "barpolar"
           }
          ],
          "carpet": [
           {
            "aaxis": {
             "endlinecolor": "#2a3f5f",
             "gridcolor": "#C8D4E3",
             "linecolor": "#C8D4E3",
             "minorgridcolor": "#C8D4E3",
             "startlinecolor": "#2a3f5f"
            },
            "baxis": {
             "endlinecolor": "#2a3f5f",
             "gridcolor": "#C8D4E3",
             "linecolor": "#C8D4E3",
             "minorgridcolor": "#C8D4E3",
             "startlinecolor": "#2a3f5f"
            },
            "type": "carpet"
           }
          ],
          "choropleth": [
           {
            "colorbar": {
             "outlinewidth": 0,
             "ticks": ""
            },
            "type": "choropleth"
           }
          ],
          "contour": [
           {
            "colorbar": {
             "outlinewidth": 0,
             "ticks": ""
            },
            "colorscale": [
             [
              0,
              "#0d0887"
             ],
             [
              0.1111111111111111,
              "#46039f"
             ],
             [
              0.2222222222222222,
              "#7201a8"
             ],
             [
              0.3333333333333333,
              "#9c179e"
             ],
             [
              0.4444444444444444,
              "#bd3786"
             ],
             [
              0.5555555555555556,
              "#d8576b"
             ],
             [
              0.6666666666666666,
              "#ed7953"
             ],
             [
              0.7777777777777778,
              "#fb9f3a"
             ],
             [
              0.8888888888888888,
              "#fdca26"
             ],
             [
              1,
              "#f0f921"
             ]
            ],
            "type": "contour"
           }
          ],
          "contourcarpet": [
           {
            "colorbar": {
             "outlinewidth": 0,
             "ticks": ""
            },
            "type": "contourcarpet"
           }
          ],
          "heatmap": [
           {
            "colorbar": {
             "outlinewidth": 0,
             "ticks": ""
            },
            "colorscale": [
             [
              0,
              "#0d0887"
             ],
             [
              0.1111111111111111,
              "#46039f"
             ],
             [
              0.2222222222222222,
              "#7201a8"
             ],
             [
              0.3333333333333333,
              "#9c179e"
             ],
             [
              0.4444444444444444,
              "#bd3786"
             ],
             [
              0.5555555555555556,
              "#d8576b"
             ],
             [
              0.6666666666666666,
              "#ed7953"
             ],
             [
              0.7777777777777778,
              "#fb9f3a"
             ],
             [
              0.8888888888888888,
              "#fdca26"
             ],
             [
              1,
              "#f0f921"
             ]
            ],
            "type": "heatmap"
           }
          ],
          "histogram": [
           {
            "marker": {
             "pattern": {
              "fillmode": "overlay",
              "size": 10,
              "solidity": 0.2
             }
            },
            "type": "histogram"
           }
          ],
          "histogram2d": [
           {
            "colorbar": {
             "outlinewidth": 0,
             "ticks": ""
            },
            "colorscale": [
             [
              0,
              "#0d0887"
             ],
             [
              0.1111111111111111,
              "#46039f"
             ],
             [
              0.2222222222222222,
              "#7201a8"
             ],
             [
              0.3333333333333333,
              "#9c179e"
             ],
             [
              0.4444444444444444,
              "#bd3786"
             ],
             [
              0.5555555555555556,
              "#d8576b"
             ],
             [
              0.6666666666666666,
              "#ed7953"
             ],
             [
              0.7777777777777778,
              "#fb9f3a"
             ],
             [
              0.8888888888888888,
              "#fdca26"
             ],
             [
              1,
              "#f0f921"
             ]
            ],
            "type": "histogram2d"
           }
          ],
          "histogram2dcontour": [
           {
            "colorbar": {
             "outlinewidth": 0,
             "ticks": ""
            },
            "colorscale": [
             [
              0,
              "#0d0887"
             ],
             [
              0.1111111111111111,
              "#46039f"
             ],
             [
              0.2222222222222222,
              "#7201a8"
             ],
             [
              0.3333333333333333,
              "#9c179e"
             ],
             [
              0.4444444444444444,
              "#bd3786"
             ],
             [
              0.5555555555555556,
              "#d8576b"
             ],
             [
              0.6666666666666666,
              "#ed7953"
             ],
             [
              0.7777777777777778,
              "#fb9f3a"
             ],
             [
              0.8888888888888888,
              "#fdca26"
             ],
             [
              1,
              "#f0f921"
             ]
            ],
            "type": "histogram2dcontour"
           }
          ],
          "mesh3d": [
           {
            "colorbar": {
             "outlinewidth": 0,
             "ticks": ""
            },
            "type": "mesh3d"
           }
          ],
          "parcoords": [
           {
            "line": {
             "colorbar": {
              "outlinewidth": 0,
              "ticks": ""
             }
            },
            "type": "parcoords"
           }
          ],
          "pie": [
           {
            "automargin": true,
            "type": "pie"
           }
          ],
          "scatter": [
           {
            "fillpattern": {
             "fillmode": "overlay",
             "size": 10,
             "solidity": 0.2
            },
            "type": "scatter"
           }
          ],
          "scatter3d": [
           {
            "line": {
             "colorbar": {
              "outlinewidth": 0,
              "ticks": ""
             }
            },
            "marker": {
             "colorbar": {
              "outlinewidth": 0,
              "ticks": ""
             }
            },
            "type": "scatter3d"
           }
          ],
          "scattercarpet": [
           {
            "marker": {
             "colorbar": {
              "outlinewidth": 0,
              "ticks": ""
             }
            },
            "type": "scattercarpet"
           }
          ],
          "scattergeo": [
           {
            "marker": {
             "colorbar": {
              "outlinewidth": 0,
              "ticks": ""
             }
            },
            "type": "scattergeo"
           }
          ],
          "scattergl": [
           {
            "marker": {
             "colorbar": {
              "outlinewidth": 0,
              "ticks": ""
             }
            },
            "type": "scattergl"
           }
          ],
          "scattermap": [
           {
            "marker": {
             "colorbar": {
              "outlinewidth": 0,
              "ticks": ""
             }
            },
            "type": "scattermap"
           }
          ],
          "scattermapbox": [
           {
            "marker": {
             "colorbar": {
              "outlinewidth": 0,
              "ticks": ""
             }
            },
            "type": "scattermapbox"
           }
          ],
          "scatterpolar": [
           {
            "marker": {
             "colorbar": {
              "outlinewidth": 0,
              "ticks": ""
             }
            },
            "type": "scatterpolar"
           }
          ],
          "scatterpolargl": [
           {
            "marker": {
             "colorbar": {
              "outlinewidth": 0,
              "ticks": ""
             }
            },
            "type": "scatterpolargl"
           }
          ],
          "scatterternary": [
           {
            "marker": {
             "colorbar": {
              "outlinewidth": 0,
              "ticks": ""
             }
            },
            "type": "scatterternary"
           }
          ],
          "surface": [
           {
            "colorbar": {
             "outlinewidth": 0,
             "ticks": ""
            },
            "colorscale": [
             [
              0,
              "#0d0887"
             ],
             [
              0.1111111111111111,
              "#46039f"
             ],
             [
              0.2222222222222222,
              "#7201a8"
             ],
             [
              0.3333333333333333,
              "#9c179e"
             ],
             [
              0.4444444444444444,
              "#bd3786"
             ],
             [
              0.5555555555555556,
              "#d8576b"
             ],
             [
              0.6666666666666666,
              "#ed7953"
             ],
             [
              0.7777777777777778,
              "#fb9f3a"
             ],
             [
              0.8888888888888888,
              "#fdca26"
             ],
             [
              1,
              "#f0f921"
             ]
            ],
            "type": "surface"
           }
          ],
          "table": [
           {
            "cells": {
             "fill": {
              "color": "#EBF0F8"
             },
             "line": {
              "color": "white"
             }
            },
            "header": {
             "fill": {
              "color": "#C8D4E3"
             },
             "line": {
              "color": "white"
             }
            },
            "type": "table"
           }
          ]
         },
         "layout": {
          "annotationdefaults": {
           "arrowcolor": "#2a3f5f",
           "arrowhead": 0,
           "arrowwidth": 1
          },
          "autotypenumbers": "strict",
          "coloraxis": {
           "colorbar": {
            "outlinewidth": 0,
            "ticks": ""
           }
          },
          "colorscale": {
           "diverging": [
            [
             0,
             "#8e0152"
            ],
            [
             0.1,
             "#c51b7d"
            ],
            [
             0.2,
             "#de77ae"
            ],
            [
             0.3,
             "#f1b6da"
            ],
            [
             0.4,
             "#fde0ef"
            ],
            [
             0.5,
             "#f7f7f7"
            ],
            [
             0.6,
             "#e6f5d0"
            ],
            [
             0.7,
             "#b8e186"
            ],
            [
             0.8,
             "#7fbc41"
            ],
            [
             0.9,
             "#4d9221"
            ],
            [
             1,
             "#276419"
            ]
           ],
           "sequential": [
            [
             0,
             "#0d0887"
            ],
            [
             0.1111111111111111,
             "#46039f"
            ],
            [
             0.2222222222222222,
             "#7201a8"
            ],
            [
             0.3333333333333333,
             "#9c179e"
            ],
            [
             0.4444444444444444,
             "#bd3786"
            ],
            [
             0.5555555555555556,
             "#d8576b"
            ],
            [
             0.6666666666666666,
             "#ed7953"
            ],
            [
             0.7777777777777778,
             "#fb9f3a"
            ],
            [
             0.8888888888888888,
             "#fdca26"
            ],
            [
             1,
             "#f0f921"
            ]
           ],
           "sequentialminus": [
            [
             0,
             "#0d0887"
            ],
            [
             0.1111111111111111,
             "#46039f"
            ],
            [
             0.2222222222222222,
             "#7201a8"
            ],
            [
             0.3333333333333333,
             "#9c179e"
            ],
            [
             0.4444444444444444,
             "#bd3786"
            ],
            [
             0.5555555555555556,
             "#d8576b"
            ],
            [
             0.6666666666666666,
             "#ed7953"
            ],
            [
             0.7777777777777778,
             "#fb9f3a"
            ],
            [
             0.8888888888888888,
             "#fdca26"
            ],
            [
             1,
             "#f0f921"
            ]
           ]
          },
          "colorway": [
           "#636efa",
           "#EF553B",
           "#00cc96",
           "#ab63fa",
           "#FFA15A",
           "#19d3f3",
           "#FF6692",
           "#B6E880",
           "#FF97FF",
           "#FECB52"
          ],
          "font": {
           "color": "#2a3f5f"
          },
          "geo": {
           "bgcolor": "white",
           "lakecolor": "white",
           "landcolor": "white",
           "showlakes": true,
           "showland": true,
           "subunitcolor": "#C8D4E3"
          },
          "hoverlabel": {
           "align": "left"
          },
          "hovermode": "closest",
          "mapbox": {
           "style": "light"
          },
          "paper_bgcolor": "white",
          "plot_bgcolor": "white",
          "polar": {
           "angularaxis": {
            "gridcolor": "#EBF0F8",
            "linecolor": "#EBF0F8",
            "ticks": ""
           },
           "bgcolor": "white",
           "radialaxis": {
            "gridcolor": "#EBF0F8",
            "linecolor": "#EBF0F8",
            "ticks": ""
           }
          },
          "scene": {
           "xaxis": {
            "backgroundcolor": "white",
            "gridcolor": "#DFE8F3",
            "gridwidth": 2,
            "linecolor": "#EBF0F8",
            "showbackground": true,
            "ticks": "",
            "zerolinecolor": "#EBF0F8"
           },
           "yaxis": {
            "backgroundcolor": "white",
            "gridcolor": "#DFE8F3",
            "gridwidth": 2,
            "linecolor": "#EBF0F8",
            "showbackground": true,
            "ticks": "",
            "zerolinecolor": "#EBF0F8"
           },
           "zaxis": {
            "backgroundcolor": "white",
            "gridcolor": "#DFE8F3",
            "gridwidth": 2,
            "linecolor": "#EBF0F8",
            "showbackground": true,
            "ticks": "",
            "zerolinecolor": "#EBF0F8"
           }
          },
          "shapedefaults": {
           "line": {
            "color": "#2a3f5f"
           }
          },
          "ternary": {
           "aaxis": {
            "gridcolor": "#DFE8F3",
            "linecolor": "#A2B1C6",
            "ticks": ""
           },
           "baxis": {
            "gridcolor": "#DFE8F3",
            "linecolor": "#A2B1C6",
            "ticks": ""
           },
           "bgcolor": "white",
           "caxis": {
            "gridcolor": "#DFE8F3",
            "linecolor": "#A2B1C6",
            "ticks": ""
           }
          },
          "title": {
           "x": 0.05
          },
          "xaxis": {
           "automargin": true,
           "gridcolor": "#EBF0F8",
           "linecolor": "#EBF0F8",
           "ticks": "",
           "title": {
            "standoff": 15
           },
           "zerolinecolor": "#EBF0F8",
           "zerolinewidth": 2
          },
          "yaxis": {
           "automargin": true,
           "gridcolor": "#EBF0F8",
           "linecolor": "#EBF0F8",
           "ticks": "",
           "title": {
            "standoff": 15
           },
           "zerolinecolor": "#EBF0F8",
           "zerolinewidth": 2
          }
         }
        },
        "title": {
         "font": {
          "color": "Black",
          "size": 22
         },
         "text": "Topic Word Scores",
         "x": 0.5,
         "xanchor": "center",
         "yanchor": "top"
        },
        "width": 1000,
        "xaxis": {
         "anchor": "y",
         "domain": [
          0,
          0.175
         ],
         "showgrid": true
        },
        "xaxis2": {
         "anchor": "y2",
         "domain": [
          0.275,
          0.45
         ],
         "showgrid": true
        },
        "xaxis3": {
         "anchor": "y3",
         "domain": [
          0.55,
          0.7250000000000001
         ],
         "showgrid": true
        },
        "xaxis4": {
         "anchor": "y4",
         "domain": [
          0.825,
          1
         ],
         "showgrid": true
        },
        "xaxis5": {
         "anchor": "y5",
         "domain": [
          0,
          0.175
         ],
         "showgrid": true
        },
        "xaxis6": {
         "anchor": "y6",
         "domain": [
          0.275,
          0.45
         ],
         "showgrid": true
        },
        "xaxis7": {
         "anchor": "y7",
         "domain": [
          0.55,
          0.7250000000000001
         ],
         "showgrid": true
        },
        "xaxis8": {
         "anchor": "y8",
         "domain": [
          0.825,
          1
         ],
         "showgrid": true
        },
        "yaxis": {
         "anchor": "x",
         "domain": [
          0.6000000000000001,
          1
         ],
         "showgrid": true
        },
        "yaxis2": {
         "anchor": "x2",
         "domain": [
          0.6000000000000001,
          1
         ],
         "showgrid": true
        },
        "yaxis3": {
         "anchor": "x3",
         "domain": [
          0.6000000000000001,
          1
         ],
         "showgrid": true
        },
        "yaxis4": {
         "anchor": "x4",
         "domain": [
          0.6000000000000001,
          1
         ],
         "showgrid": true
        },
        "yaxis5": {
         "anchor": "x5",
         "domain": [
          0,
          0.4
         ],
         "showgrid": true
        },
        "yaxis6": {
         "anchor": "x6",
         "domain": [
          0,
          0.4
         ],
         "showgrid": true
        },
        "yaxis7": {
         "anchor": "x7",
         "domain": [
          0,
          0.4
         ],
         "showgrid": true
        },
        "yaxis8": {
         "anchor": "x8",
         "domain": [
          0,
          0.4
         ],
         "showgrid": true
        }
       }
      }
     },
     "metadata": {},
     "output_type": "display_data"
    }
   ],
   "source": [
    "topic_model_miniLM.visualize_barchart()"
   ]
  },
  {
   "cell_type": "markdown",
   "metadata": {},
   "source": [
    "<a class=\"anchor\" id=\"4.2\">\n",
    "\n",
    "### 4.2  MPNet\n",
    "    \n",
    "</a>"
   ]
  },
  {
   "cell_type": "code",
   "execution_count": 39,
   "metadata": {},
   "outputs": [],
   "source": [
    "# Load MPNet model and tokenizer\n",
    "model_mpnet = \"sentence-transformers/paraphrase-multilingual-mpnet-base-v2\"\n",
    "tokenizer_mpnet = AutoTokenizer.from_pretrained(model_mpnet)\n",
    "sentence_model_mpnet = SentenceTransformer(model_mpnet)"
   ]
  },
  {
   "cell_type": "code",
   "execution_count": 40,
   "metadata": {},
   "outputs": [],
   "source": [
    "# Define max tokens and minimum word threshold\n",
    "max_tokens = 256\n",
    "min_words = 10\n",
    "\n",
    "# Function to split long reviews into token-limited chunks\n",
    "def split_into_token_chunks(text, tokenizer, max_tokens=256, min_words=10):\n",
    "    sentences = re.split(r'(?<=[.!?])\\s+', text.strip())\n",
    "    chunks = []\n",
    "    current_chunk = \"\"\n",
    "    for sent in sentences:\n",
    "        candidate = (current_chunk + \" \" + sent).strip()\n",
    "        token_count = len(tokenizer.encode(candidate, truncation=False))\n",
    "        if token_count <= max_tokens:\n",
    "            current_chunk = candidate\n",
    "        else:\n",
    "            if current_chunk:\n",
    "                if len(current_chunk.split()) < min_words and chunks:\n",
    "                    chunks[-1] += \" \" + current_chunk\n",
    "                else:\n",
    "                    chunks.append(current_chunk.strip())\n",
    "            tokens = tokenizer.encode(sent, truncation=False)\n",
    "            for i in range(0, len(tokens), max_tokens):\n",
    "                sub_chunk = tokenizer.decode(tokens[i:i+max_tokens], skip_special_tokens=True)\n",
    "                chunks.append(sub_chunk.strip())\n",
    "            current_chunk = \"\"\n",
    "    if current_chunk:\n",
    "        if len(current_chunk.split()) < min_words and chunks:\n",
    "            chunks[-1] += \" \" + current_chunk\n",
    "        else:\n",
    "            chunks.append(current_chunk.strip())\n",
    "    return chunks\n",
    "\n",
    "# Apply chunking to all reviews in the dataframe\n",
    "split_rows = []\n",
    "for idx, row in df.iterrows():\n",
    "    text = row[\"Clean_Review\"]\n",
    "    segments = split_into_token_chunks(text, tokenizer=tokenizer_mpnet, max_tokens=max_tokens, min_words=min_words)\n",
    "    for chunk_id, segment in enumerate(segments):\n",
    "        new_row = row.copy()\n",
    "        new_row[\"Clean_Review\"] = segment\n",
    "        new_row[\"chunk_id\"] = chunk_id\n",
    "        new_row[\"word_count\"] = len(segment.split())\n",
    "        split_rows.append(new_row)"
   ]
  },
  {
   "cell_type": "code",
   "execution_count": 41,
   "metadata": {},
   "outputs": [],
   "source": [
    "# Create a new DataFrame from the chunks\n",
    "df_mpnet = pd.DataFrame(split_rows)\n",
    "df_mpnet = df_mpnet[df_mpnet[\"word_count\"] >= min_words].reset_index(drop=True)"
   ]
  },
  {
   "cell_type": "code",
   "execution_count": 42,
   "metadata": {},
   "outputs": [
    {
     "data": {
      "application/vnd.jupyter.widget-view+json": {
       "model_id": "af51c871f30e4f269f89e89dda789fef",
       "version_major": 2,
       "version_minor": 0
      },
      "text/plain": [
       "Batches:   0%|          | 0/430 [00:00<?, ?it/s]"
      ]
     },
     "metadata": {},
     "output_type": "display_data"
    }
   ],
   "source": [
    "# Generate embeddings\n",
    "texts_mpnet = df_mpnet[\"Clean_Review\"].tolist()\n",
    "embeddings_mpnet = sentence_model_mpnet.encode(texts_mpnet, show_progress_bar=True, batch_size=32)"
   ]
  },
  {
   "cell_type": "code",
   "execution_count": 43,
   "metadata": {},
   "outputs": [],
   "source": [
    "vectorizer_model = CountVectorizer(stop_words=filtered_stopwords)"
   ]
  },
  {
   "cell_type": "code",
   "execution_count": 44,
   "metadata": {},
   "outputs": [],
   "source": [
    "# Define UMAP \n",
    "umap_model_mpnet = UMAP(\n",
    "    n_neighbors=5, \n",
    "    n_components=8, \n",
    "    min_dist=0.0, \n",
    "    metric='cosine')\n",
    "\n",
    "# HDBSCAN models\n",
    "hdbscan_model_mpnet = HDBSCAN(\n",
    "    min_cluster_size=15, \n",
    "    min_samples=3, \n",
    "    metric='euclidean', \n",
    "    prediction_data=True)\n",
    "\n",
    "# Train BERTopic\n",
    "topic_model_mpnet = BERTopic(\n",
    "    embedding_model=sentence_model_mpnet,\n",
    "    umap_model=umap_model_mpnet,\n",
    "    hdbscan_model=hdbscan_model_mpnet,\n",
    "    vectorizer_model=vectorizer_model,\n",
    "    calculate_probabilities=False,\n",
    "    verbose=True,\n",
    "    language=\"multilingual\"\n",
    ")"
   ]
  },
  {
   "cell_type": "code",
   "execution_count": 45,
   "metadata": {},
   "outputs": [
    {
     "name": "stderr",
     "output_type": "stream",
     "text": [
      "2025-05-11 18:00:14,461 - BERTopic - Dimensionality - Fitting the dimensionality reduction algorithm\n",
      "2025-05-11 18:00:17,020 - BERTopic - Dimensionality - Completed ✓\n",
      "2025-05-11 18:00:17,021 - BERTopic - Cluster - Start clustering the reduced embeddings\n",
      "2025-05-11 18:00:17,334 - BERTopic - Cluster - Completed ✓\n",
      "2025-05-11 18:00:17,337 - BERTopic - Representation - Fine-tuning topics using representation models.\n",
      "2025-05-11 18:00:17,542 - BERTopic - Representation - Completed ✓\n"
     ]
    }
   ],
   "source": [
    "topics_mpnet, probs_mpnet = topic_model_mpnet.fit_transform(texts_mpnet, embeddings_mpnet)"
   ]
  },
  {
   "cell_type": "code",
   "execution_count": 46,
   "metadata": {},
   "outputs": [
    {
     "data": {
      "text/html": [
       "<div>\n",
       "<style scoped>\n",
       "    .dataframe tbody tr th:only-of-type {\n",
       "        vertical-align: middle;\n",
       "    }\n",
       "\n",
       "    .dataframe tbody tr th {\n",
       "        vertical-align: top;\n",
       "    }\n",
       "\n",
       "    .dataframe thead th {\n",
       "        text-align: right;\n",
       "    }\n",
       "</style>\n",
       "<table border=\"1\" class=\"dataframe\">\n",
       "  <thead>\n",
       "    <tr style=\"text-align: right;\">\n",
       "      <th></th>\n",
       "      <th>Topic</th>\n",
       "      <th>Count</th>\n",
       "      <th>Name</th>\n",
       "      <th>Representation</th>\n",
       "      <th>Representative_Docs</th>\n",
       "    </tr>\n",
       "  </thead>\n",
       "  <tbody>\n",
       "    <tr>\n",
       "      <th>0</th>\n",
       "      <td>-1</td>\n",
       "      <td>4631</td>\n",
       "      <td>-1_great_très_comfortable_good</td>\n",
       "      <td>[great, très, comfortable, good, super, size, ...</td>\n",
       "      <td>[surprisingly fast for the size and weight i h...</td>\n",
       "    </tr>\n",
       "    <tr>\n",
       "      <th>1</th>\n",
       "      <td>0</td>\n",
       "      <td>213</td>\n",
       "      <td>0_running_prezzo_corsa_purchase</td>\n",
       "      <td>[running, prezzo, corsa, purchase, rapporto, d...</td>\n",
       "      <td>[scarpe da donna jogging leggera e confortevol...</td>\n",
       "    </tr>\n",
       "    <tr>\n",
       "      <th>2</th>\n",
       "      <td>1</td>\n",
       "      <td>176</td>\n",
       "      <td>1_color_colors_love_colore</td>\n",
       "      <td>[color, colors, love, colore, design, looks, c...</td>\n",
       "      <td>[worth to buy nice design &amp; color; very light ...</td>\n",
       "    </tr>\n",
       "    <tr>\n",
       "      <th>3</th>\n",
       "      <td>2</td>\n",
       "      <td>158</td>\n",
       "      <td>2_trail_accroche_excellente_bonne</td>\n",
       "      <td>[trail, accroche, excellente, bonne, terrain, ...</td>\n",
       "      <td>[excellente chaussure de trail excellente chau...</td>\n",
       "    </tr>\n",
       "    <tr>\n",
       "      <th>4</th>\n",
       "      <td>3</td>\n",
       "      <td>115</td>\n",
       "      <td>3_trail_montagne_randonnée_utilisé</td>\n",
       "      <td>[trail, montagne, randonnée, utilisé, forêt, t...</td>\n",
       "      <td>[très bon produit, je très bon produit, je l'a...</td>\n",
       "    </tr>\n",
       "    <tr>\n",
       "      <th>...</th>\n",
       "      <td>...</td>\n",
       "      <td>...</td>\n",
       "      <td>...</td>\n",
       "      <td>...</td>\n",
       "      <td>...</td>\n",
       "    </tr>\n",
       "    <tr>\n",
       "      <th>257</th>\n",
       "      <td>256</td>\n",
       "      <td>15</td>\n",
       "      <td>256_runnings_courrir_sûrement_parfaite</td>\n",
       "      <td>[runnings, courrir, sûrement, parfaite, ras, g...</td>\n",
       "      <td>[super confortables sûrement les runnings supe...</td>\n",
       "    </tr>\n",
       "    <tr>\n",
       "      <th>258</th>\n",
       "      <td>257</td>\n",
       "      <td>15</td>\n",
       "      <td>257_podiatrist_175lbs_alien_lol</td>\n",
       "      <td>[podiatrist, 175lbs, alien, lol, 20s, scambio,...</td>\n",
       "      <td>[alien tech in this shoe helps get through tra...</td>\n",
       "    </tr>\n",
       "    <tr>\n",
       "      <th>259</th>\n",
       "      <td>258</td>\n",
       "      <td>15</td>\n",
       "      <td>258_sconto_costano_economica_usare</td>\n",
       "      <td>[sconto, costano, economica, usare, economiche...</td>\n",
       "      <td>[buoni e costano poco. presi anche in sconto, ...</td>\n",
       "    </tr>\n",
       "    <tr>\n",
       "      <th>260</th>\n",
       "      <td>259</td>\n",
       "      <td>15</td>\n",
       "      <td>259_souples_amorties_absorber_permettant</td>\n",
       "      <td>[souples, amorties, absorber, permettant, dyna...</td>\n",
       "      <td>[chaussures très souples et chaussures très so...</td>\n",
       "    </tr>\n",
       "    <tr>\n",
       "      <th>261</th>\n",
       "      <td>260</td>\n",
       "      <td>15</td>\n",
       "      <td>260_protrusion_kg_acquistero_fortuna</td>\n",
       "      <td>[protrusion, kg, acquistero, fortuna, bruciata...</td>\n",
       "      <td>[confortable et catastrophique pour plus de 80...</td>\n",
       "    </tr>\n",
       "  </tbody>\n",
       "</table>\n",
       "<p>262 rows × 5 columns</p>\n",
       "</div>"
      ],
      "text/plain": [
       "     Topic  Count                                      Name  \\\n",
       "0       -1   4631            -1_great_très_comfortable_good   \n",
       "1        0    213           0_running_prezzo_corsa_purchase   \n",
       "2        1    176                1_color_colors_love_colore   \n",
       "3        2    158         2_trail_accroche_excellente_bonne   \n",
       "4        3    115        3_trail_montagne_randonnée_utilisé   \n",
       "..     ...    ...                                       ...   \n",
       "257    256     15    256_runnings_courrir_sûrement_parfaite   \n",
       "258    257     15           257_podiatrist_175lbs_alien_lol   \n",
       "259    258     15        258_sconto_costano_economica_usare   \n",
       "260    259     15  259_souples_amorties_absorber_permettant   \n",
       "261    260     15      260_protrusion_kg_acquistero_fortuna   \n",
       "\n",
       "                                        Representation  \\\n",
       "0    [great, très, comfortable, good, super, size, ...   \n",
       "1    [running, prezzo, corsa, purchase, rapporto, d...   \n",
       "2    [color, colors, love, colore, design, looks, c...   \n",
       "3    [trail, accroche, excellente, bonne, terrain, ...   \n",
       "4    [trail, montagne, randonnée, utilisé, forêt, t...   \n",
       "..                                                 ...   \n",
       "257  [runnings, courrir, sûrement, parfaite, ras, g...   \n",
       "258  [podiatrist, 175lbs, alien, lol, 20s, scambio,...   \n",
       "259  [sconto, costano, economica, usare, economiche...   \n",
       "260  [souples, amorties, absorber, permettant, dyna...   \n",
       "261  [protrusion, kg, acquistero, fortuna, bruciata...   \n",
       "\n",
       "                                   Representative_Docs  \n",
       "0    [surprisingly fast for the size and weight i h...  \n",
       "1    [scarpe da donna jogging leggera e confortevol...  \n",
       "2    [worth to buy nice design & color; very light ...  \n",
       "3    [excellente chaussure de trail excellente chau...  \n",
       "4    [très bon produit, je très bon produit, je l'a...  \n",
       "..                                                 ...  \n",
       "257  [super confortables sûrement les runnings supe...  \n",
       "258  [alien tech in this shoe helps get through tra...  \n",
       "259  [buoni e costano poco. presi anche in sconto, ...  \n",
       "260  [chaussures très souples et chaussures très so...  \n",
       "261  [confortable et catastrophique pour plus de 80...  \n",
       "\n",
       "[262 rows x 5 columns]"
      ]
     },
     "execution_count": 46,
     "metadata": {},
     "output_type": "execute_result"
    }
   ],
   "source": [
    "# View topic summary MPNet\n",
    "topic_model_mpnet.get_topic_info()"
   ]
  },
  {
   "cell_type": "code",
   "execution_count": 47,
   "metadata": {},
   "outputs": [
    {
     "name": "stderr",
     "output_type": "stream",
     "text": [
      "100%|██████████| 260/260 [00:00<00:00, 813.59it/s]\n"
     ]
    },
    {
     "data": {
      "application/vnd.plotly.v1+json": {
       "config": {
        "plotlyServerURL": "https://plot.ly"
       },
       "data": [
        {
         "hoverinfo": "text",
         "marker": {
          "color": "rgb(61,153,112)"
         },
         "mode": "lines",
         "type": "scatter",
         "x": {
          "bdata": "AAAAAAAAAAB7pKOEi17nP3uko4SLXuc/AAAAAAAAAAA=",
          "dtype": "f8"
         },
         "xaxis": "x",
         "y": {
          "bdata": "AAAAAAAALsAAAAAAAAAuwAAAAAAAADnAAAAAAAAAOcA=",
          "dtype": "f8"
         },
         "yaxis": "y"
        },
        {
         "hoverinfo": "text",
         "marker": {
          "color": "rgb(61,153,112)"
         },
         "mode": "lines",
         "type": "scatter",
         "x": {
          "bdata": "e6SjhIte5z9s3PUVX5/oP2zc9RVfn+g/AAAAAAAAAAA=",
          "dtype": "f8"
         },
         "xaxis": "x",
         "y": {
          "bdata": "AAAAAAAANMAAAAAAAAA0wAAAAAAAgEHAAAAAAACAQcA=",
          "dtype": "f8"
         },
         "yaxis": "y"
        },
        {
         "hoverinfo": "text",
         "marker": {
          "color": "rgb(61,153,112)"
         },
         "mode": "lines",
         "type": "scatter",
         "x": {
          "bdata": "AAAAAAAAAABoxeuFJf7qP2jF64Ul/uo/bNz1FV+f6D8=",
          "dtype": "f8"
         },
         "xaxis": "x",
         "y": {
          "bdata": "AAAAAAAAFMAAAAAAAAAUwAAAAAAAgDvAAAAAAACAO8A=",
          "dtype": "f8"
         },
         "yaxis": "y"
        },
        {
         "hoverinfo": "text",
         "marker": {
          "color": "rgb(255,65,54)"
         },
         "mode": "lines",
         "type": "scatter",
         "x": {
          "bdata": "AAAAAAAAAAAkhQ3/OkXiPySFDf86ReI/AAAAAAAAAAA=",
          "dtype": "f8"
         },
         "xaxis": "x",
         "y": {
          "bdata": "AAAAAACAS8AAAAAAAIBLwAAAAAAAQFDAAAAAAABAUMA=",
          "dtype": "f8"
         },
         "yaxis": "y"
        },
        {
         "hoverinfo": "text",
         "marker": {
          "color": "rgb(255,65,54)"
         },
         "mode": "lines",
         "type": "scatter",
         "x": {
          "bdata": "AAAAAAAAAACe4AbbgPTlP57gBtuA9OU/JIUN/zpF4j8=",
          "dtype": "f8"
         },
         "xaxis": "x",
         "y": {
          "bdata": "AAAAAACARsAAAAAAAIBGwAAAAAAAAE7AAAAAAAAATsA=",
          "dtype": "f8"
         },
         "yaxis": "y"
        },
        {
         "hoverinfo": "text",
         "marker": {
          "color": "rgb(255,65,54)"
         },
         "mode": "lines",
         "type": "scatter",
         "x": {
          "bdata": "nuAG24D05T8KBhZLtqjnPwoGFku2qOc/AAAAAAAAAAA=",
          "dtype": "f8"
         },
         "xaxis": "x",
         "y": {
          "bdata": "AAAAAABASsAAAAAAAEBKwAAAAAAAwFLAAAAAAADAUsA=",
          "dtype": "f8"
         },
         "yaxis": "y"
        },
        {
         "hoverinfo": "text",
         "marker": {
          "color": "rgb(0,116,217)"
         },
         "mode": "lines",
         "type": "scatter",
         "x": {
          "bdata": "aMXrhSX+6j/EkYyY1T7wP8SRjJjVPvA/CgYWS7ao5z8=",
          "dtype": "f8"
         },
         "xaxis": "x",
         "y": {
          "bdata": "AAAAAABAMMAAAAAAAEAwwAAAAAAA4E/AAAAAAADgT8A=",
          "dtype": "f8"
         },
         "yaxis": "y"
        },
        {
         "hoverinfo": "text",
         "marker": {
          "color": "rgb(35,205,205)"
         },
         "mode": "lines",
         "type": "scatter",
         "x": {
          "bdata": "AAAAAAAAAABVx+nMPwXsP1XH6cw/Bew/AAAAAAAAAAA=",
          "dtype": "f8"
         },
         "xaxis": "x",
         "y": {
          "bdata": "AAAAAABAVcAAAAAAAEBVwAAAAAAAwFfAAAAAAADAV8A=",
          "dtype": "f8"
         },
         "yaxis": "y"
        },
        {
         "hoverinfo": "text",
         "marker": {
          "color": "rgb(133,20,75)"
         },
         "mode": "lines",
         "type": "scatter",
         "x": {
          "bdata": "AAAAAAAAAAC422dbVgflP7jbZ1tWB+U/AAAAAAAAAAA=",
          "dtype": "f8"
         },
         "xaxis": "x",
         "y": {
          "bdata": "AAAAAADAXMAAAAAAAMBcwAAAAAAAQF/AAAAAAABAX8A=",
          "dtype": "f8"
         },
         "yaxis": "y"
        },
        {
         "hoverinfo": "text",
         "marker": {
          "color": "rgb(133,20,75)"
         },
         "mode": "lines",
         "type": "scatter",
         "x": {
          "bdata": "AAAAAAAAAACPWZyLXc3lP49ZnItdzeU/uNtnW1YH5T8=",
          "dtype": "f8"
         },
         "xaxis": "x",
         "y": {
          "bdata": "AAAAAABAWsAAAAAAAEBawAAAAAAAAF7AAAAAAAAAXsA=",
          "dtype": "f8"
         },
         "yaxis": "y"
        },
        {
         "hoverinfo": "text",
         "marker": {
          "color": "rgb(133,20,75)"
         },
         "mode": "lines",
         "type": "scatter",
         "x": {
          "bdata": "AAAAAAAAAADY576UsUznP9jnvpSxTOc/AAAAAAAAAAA=",
          "dtype": "f8"
         },
         "xaxis": "x",
         "y": {
          "bdata": "AAAAAADgYMAAAAAAAOBgwAAAAAAAIGLAAAAAAAAgYsA=",
          "dtype": "f8"
         },
         "yaxis": "y"
        },
        {
         "hoverinfo": "text",
         "marker": {
          "color": "rgb(133,20,75)"
         },
         "mode": "lines",
         "type": "scatter",
         "x": {
          "bdata": "AAAAAAAAAABN7xRxsQfpP03vFHGxB+k/AAAAAAAAAAA=",
          "dtype": "f8"
         },
         "xaxis": "x",
         "y": {
          "bdata": "AAAAAABgY8AAAAAAAGBjwAAAAAAAoGTAAAAAAACgZMA=",
          "dtype": "f8"
         },
         "yaxis": "y"
        },
        {
         "hoverinfo": "text",
         "marker": {
          "color": "rgb(133,20,75)"
         },
         "mode": "lines",
         "type": "scatter",
         "x": {
          "bdata": "2Oe+lLFM5z9ON9KQVcfqP0430pBVx+o/Te8UcbEH6T8=",
          "dtype": "f8"
         },
         "xaxis": "x",
         "y": {
          "bdata": "AAAAAACAYcAAAAAAAIBhwAAAAAAAAGTAAAAAAAAAZMA=",
          "dtype": "f8"
         },
         "yaxis": "y"
        },
        {
         "hoverinfo": "text",
         "marker": {
          "color": "rgb(133,20,75)"
         },
         "mode": "lines",
         "type": "scatter",
         "x": {
          "bdata": "j1mci13N5T/GaiHnLDruP8ZqIecsOu4/TjfSkFXH6j8=",
          "dtype": "f8"
         },
         "xaxis": "x",
         "y": {
          "bdata": "AAAAAAAgXMAAAAAAACBcwAAAAAAAwGLAAAAAAADAYsA=",
          "dtype": "f8"
         },
         "yaxis": "y"
        },
        {
         "hoverinfo": "text",
         "marker": {
          "color": "rgb(0,116,217)"
         },
         "mode": "lines",
         "type": "scatter",
         "x": {
          "bdata": "VcfpzD8F7D8hS/xSCzXwPyFL/FILNfA/xmoh5yw67j8=",
          "dtype": "f8"
         },
         "xaxis": "x",
         "y": {
          "bdata": "AAAAAACAVsAAAAAAAIBWwAAAAAAAaGDAAAAAAABoYMA=",
          "dtype": "f8"
         },
         "yaxis": "y"
        },
        {
         "hoverinfo": "text",
         "marker": {
          "color": "rgb(255,220,0)"
         },
         "mode": "lines",
         "type": "scatter",
         "x": {
          "bdata": "AAAAAAAAAABEdztJ967oP0R3O0n3rug/AAAAAAAAAAA=",
          "dtype": "f8"
         },
         "xaxis": "x",
         "y": {
          "bdata": "AAAAAAAgZ8AAAAAAACBnwAAAAAAAYGjAAAAAAABgaMA=",
          "dtype": "f8"
         },
         "yaxis": "y"
        },
        {
         "hoverinfo": "text",
         "marker": {
          "color": "rgb(255,220,0)"
         },
         "mode": "lines",
         "type": "scatter",
         "x": {
          "bdata": "RHc7Sfeu6D/t/dgQDF3rP+392BAMXes/AAAAAAAAAAA=",
          "dtype": "f8"
         },
         "xaxis": "x",
         "y": {
          "bdata": "AAAAAADAZ8AAAAAAAMBnwAAAAAAAoGnAAAAAAACgacA=",
          "dtype": "f8"
         },
         "yaxis": "y"
        },
        {
         "hoverinfo": "text",
         "marker": {
          "color": "rgb(255,220,0)"
         },
         "mode": "lines",
         "type": "scatter",
         "x": {
          "bdata": "AAAAAAAAAAB/QazI+e7sP39BrMj57uw/7f3YEAxd6z8=",
          "dtype": "f8"
         },
         "xaxis": "x",
         "y": {
          "bdata": "AAAAAADgZcAAAAAAAOBlwAAAAAAAsGjAAAAAAACwaMA=",
          "dtype": "f8"
         },
         "yaxis": "y"
        },
        {
         "hoverinfo": "text",
         "marker": {
          "color": "rgb(40,35,35)"
         },
         "mode": "lines",
         "type": "scatter",
         "x": {
          "bdata": "AAAAAAAAAACo5pbVk1/kP6jmltWTX+Q/AAAAAAAAAAA=",
          "dtype": "f8"
         },
         "xaxis": "x",
         "y": {
          "bdata": "AAAAAAAgbMAAAAAAACBswAAAAAAAYG3AAAAAAABgbcA=",
          "dtype": "f8"
         },
         "yaxis": "y"
        },
        {
         "hoverinfo": "text",
         "marker": {
          "color": "rgb(40,35,35)"
         },
         "mode": "lines",
         "type": "scatter",
         "x": {
          "bdata": "qOaW1ZNf5D+wvCU4b6roP7C8JThvqug/AAAAAAAAAAA=",
          "dtype": "f8"
         },
         "xaxis": "x",
         "y": {
          "bdata": "AAAAAADAbMAAAAAAAMBswAAAAAAAoG7AAAAAAACgbsA=",
          "dtype": "f8"
         },
         "yaxis": "y"
        },
        {
         "hoverinfo": "text",
         "marker": {
          "color": "rgb(40,35,35)"
         },
         "mode": "lines",
         "type": "scatter",
         "x": {
          "bdata": "AAAAAAAAAAD+A3TStL7iP/4DdNK0vuI/AAAAAAAAAAA=",
          "dtype": "f8"
         },
         "xaxis": "x",
         "y": {
          "bdata": "AAAAAADgb8AAAAAAAOBvwAAAAAAAkHDAAAAAAACQcMA=",
          "dtype": "f8"
         },
         "yaxis": "y"
        },
        {
         "hoverinfo": "text",
         "marker": {
          "color": "rgb(40,35,35)"
         },
         "mode": "lines",
         "type": "scatter",
         "x": {
          "bdata": "sLwlOG+q6D/K56wNKFzpP8rnrA0oXOk//gN00rS+4j8=",
          "dtype": "f8"
         },
         "xaxis": "x",
         "y": {
          "bdata": "AAAAAACwbcAAAAAAALBtwAAAAAAAQHDAAAAAAABAcMA=",
          "dtype": "f8"
         },
         "yaxis": "y"
        },
        {
         "hoverinfo": "text",
         "marker": {
          "color": "rgb(40,35,35)"
         },
         "mode": "lines",
         "type": "scatter",
         "x": {
          "bdata": "AAAAAAAAAAAXphJRvLDqPxemElG8sOo/yuesDShc6T8=",
          "dtype": "f8"
         },
         "xaxis": "x",
         "y": {
          "bdata": "AAAAAADgasAAAAAAAOBqwAAAAAAAGG/AAAAAAAAYb8A=",
          "dtype": "f8"
         },
         "yaxis": "y"
        },
        {
         "hoverinfo": "text",
         "marker": {
          "color": "rgb(40,35,35)"
         },
         "mode": "lines",
         "type": "scatter",
         "x": {
          "bdata": "F6YSUbyw6j/bXrVNWQfrP9tetU1ZB+s/AAAAAAAAAAA=",
          "dtype": "f8"
         },
         "xaxis": "x",
         "y": {
          "bdata": "AAAAAAD8bMAAAAAAAPxswAAAAAAAMHHAAAAAAAAwccA=",
          "dtype": "f8"
         },
         "yaxis": "y"
        },
        {
         "hoverinfo": "text",
         "marker": {
          "color": "rgb(40,35,35)"
         },
         "mode": "lines",
         "type": "scatter",
         "x": {
          "bdata": "AAAAAAAAAAAziMxF61bsPzOIzEXrVuw/AAAAAAAAAAA=",
          "dtype": "f8"
         },
         "xaxis": "x",
         "y": {
          "bdata": "AAAAAADQccAAAAAAANBxwAAAAAAAcHLAAAAAAABwcsA=",
          "dtype": "f8"
         },
         "yaxis": "y"
        },
        {
         "hoverinfo": "text",
         "marker": {
          "color": "rgb(40,35,35)"
         },
         "mode": "lines",
         "type": "scatter",
         "x": {
          "bdata": "2161TVkH6z/oBdXg1yDvP+gF1eDXIO8/M4jMRetW7D8=",
          "dtype": "f8"
         },
         "xaxis": "x",
         "y": {
          "bdata": "AAAAAACub8AAAAAAAK5vwAAAAAAAIHLAAAAAAAAgcsA=",
          "dtype": "f8"
         },
         "yaxis": "y"
        },
        {
         "hoverinfo": "text",
         "marker": {
          "color": "rgb(0,116,217)"
         },
         "mode": "lines",
         "type": "scatter",
         "x": {
          "bdata": "f0GsyPnu7D/K2OZNpFDxP8rY5k2kUPE/6AXV4Ncg7z8=",
          "dtype": "f8"
         },
         "xaxis": "x",
         "y": {
          "bdata": "AAAAAABIZ8AAAAAAAEhnwAAAAACA+3DAAAAAAID7cMA=",
          "dtype": "f8"
         },
         "yaxis": "y"
        },
        {
         "hoverinfo": "text",
         "marker": {
          "color": "rgb(0,116,217)"
         },
         "mode": "lines",
         "type": "scatter",
         "x": {
          "bdata": "IUv8Ugs18D/BtWt8mJTzP8G1a3yYlPM/ytjmTaRQ8T8=",
          "dtype": "f8"
         },
         "xaxis": "x",
         "y": {
          "bdata": "AAAAAACoW8AAAAAAAKhbwAAAAACAn2zAAAAAAICfbMA=",
          "dtype": "f8"
         },
         "yaxis": "y"
        },
        {
         "hoverinfo": "text",
         "marker": {
          "color": "rgb(61,153,112)"
         },
         "mode": "lines",
         "type": "scatter",
         "x": {
          "bdata": "AAAAAAAAAABmTw9KucHmP2ZPD0q5weY/AAAAAAAAAAA=",
          "dtype": "f8"
         },
         "xaxis": "x",
         "y": {
          "bdata": "AAAAAAAQc8AAAAAAABBzwAAAAAAAsHPAAAAAAACwc8A=",
          "dtype": "f8"
         },
         "yaxis": "y"
        },
        {
         "hoverinfo": "text",
         "marker": {
          "color": "rgb(61,153,112)"
         },
         "mode": "lines",
         "type": "scatter",
         "x": {
          "bdata": "AAAAAAAAAAAY/m9QGEroPxj+b1AYSug/AAAAAAAAAAA=",
          "dtype": "f8"
         },
         "xaxis": "x",
         "y": {
          "bdata": "AAAAAABQdMAAAAAAAFB0wAAAAAAA8HTAAAAAAADwdMA=",
          "dtype": "f8"
         },
         "yaxis": "y"
        },
        {
         "hoverinfo": "text",
         "marker": {
          "color": "rgb(61,153,112)"
         },
         "mode": "lines",
         "type": "scatter",
         "x": {
          "bdata": "Zk8PSrnB5j8VgXd+/27pPxWBd37/buk/GP5vUBhK6D8=",
          "dtype": "f8"
         },
         "xaxis": "x",
         "y": {
          "bdata": "AAAAAABgc8AAAAAAAGBzwAAAAAAAoHTAAAAAAACgdMA=",
          "dtype": "f8"
         },
         "yaxis": "y"
        },
        {
         "hoverinfo": "text",
         "marker": {
          "color": "rgb(61,153,112)"
         },
         "mode": "lines",
         "type": "scatter",
         "x": {
          "bdata": "FYF3fv9u6T8GltTQ6WrqPwaW1NDpauo/AAAAAAAAAAA=",
          "dtype": "f8"
         },
         "xaxis": "x",
         "y": {
          "bdata": "AAAAAAAAdMAAAAAAAAB0wAAAAAAAkHXAAAAAAACQdcA=",
          "dtype": "f8"
         },
         "yaxis": "y"
        },
        {
         "hoverinfo": "text",
         "marker": {
          "color": "rgb(0,116,217)"
         },
         "mode": "lines",
         "type": "scatter",
         "x": {
          "bdata": "wbVrfJiU8z/1Bw/wvSD1P/UHD/C9IPU/BpbU0Olq6j8=",
          "dtype": "f8"
         },
         "xaxis": "x",
         "y": {
          "bdata": "AAAAAMA5ZcAAAAAAwDllwAAAAAAAyHTAAAAAAADIdMA=",
          "dtype": "f8"
         },
         "yaxis": "y"
        },
        {
         "hoverinfo": "text",
         "marker": {
          "color": "rgb(255,65,54)"
         },
         "mode": "lines",
         "type": "scatter",
         "x": {
          "bdata": "AAAAAAAAAAC0fkTtULflP7R+RO1Qt+U/AAAAAAAAAAA=",
          "dtype": "f8"
         },
         "xaxis": "x",
         "y": {
          "bdata": "AAAAAAAwdsAAAAAAADB2wAAAAAAA0HbAAAAAAADQdsA=",
          "dtype": "f8"
         },
         "yaxis": "y"
        },
        {
         "hoverinfo": "text",
         "marker": {
          "color": "rgb(255,65,54)"
         },
         "mode": "lines",
         "type": "scatter",
         "x": {
          "bdata": "AAAAAAAAAADeCXeC+njlP94Jd4L6eOU/AAAAAAAAAAA=",
          "dtype": "f8"
         },
         "xaxis": "x",
         "y": {
          "bdata": "AAAAAABwd8AAAAAAAHB3wAAAAAAAEHjAAAAAAAAQeMA=",
          "dtype": "f8"
         },
         "yaxis": "y"
        },
        {
         "hoverinfo": "text",
         "marker": {
          "color": "rgb(255,65,54)"
         },
         "mode": "lines",
         "type": "scatter",
         "x": {
          "bdata": "tH5E7VC35T8jR69bBK3tPyNHr1sEre0/3gl3gvp45T8=",
          "dtype": "f8"
         },
         "xaxis": "x",
         "y": {
          "bdata": "AAAAAACAdsAAAAAAAIB2wAAAAAAAwHfAAAAAAADAd8A=",
          "dtype": "f8"
         },
         "yaxis": "y"
        },
        {
         "hoverinfo": "text",
         "marker": {
          "color": "rgb(0,116,217)"
         },
         "mode": "lines",
         "type": "scatter",
         "x": {
          "bdata": "9QcP8L0g9T9ixqzCdoP2P2LGrMJ2g/Y/I0evWwSt7T8=",
          "dtype": "f8"
         },
         "xaxis": "x",
         "y": {
          "bdata": "AAAAAOBkb8AAAAAA4GRvwAAAAAAAIHfAAAAAAAAgd8A=",
          "dtype": "f8"
         },
         "yaxis": "y"
        },
        {
         "hoverinfo": "text",
         "marker": {
          "color": "rgb(0,116,217)"
         },
         "mode": "lines",
         "type": "scatter",
         "x": {
          "bdata": "xJGMmNU+8D9U93VmzdH2P1T3dWbN0fY/YsaswnaD9j8=",
          "dtype": "f8"
         },
         "xaxis": "x",
         "y": {
          "bdata": "AAAAAAAARMAAAAAAAABEwAAAAAA4aXPAAAAAADhpc8A=",
          "dtype": "f8"
         },
         "yaxis": "y"
        },
        {
         "hoverinfo": "text",
         "marker": {
          "color": "rgb(35,205,205)"
         },
         "mode": "lines",
         "type": "scatter",
         "x": {
          "bdata": "AAAAAAAAAABT44hjI1TnP1PjiGMjVOc/AAAAAAAAAAA=",
          "dtype": "f8"
         },
         "xaxis": "x",
         "y": {
          "bdata": "AAAAAACweMAAAAAAALB4wAAAAAAAUHnAAAAAAABQecA=",
          "dtype": "f8"
         },
         "yaxis": "y"
        },
        {
         "hoverinfo": "text",
         "marker": {
          "color": "rgb(35,205,205)"
         },
         "mode": "lines",
         "type": "scatter",
         "x": {
          "bdata": "U+OIYyNU5z97h+x8o6LrP3uH7Hyjous/AAAAAAAAAAA=",
          "dtype": "f8"
         },
         "xaxis": "x",
         "y": {
          "bdata": "AAAAAAAAecAAAAAAAAB5wAAAAAAA8HnAAAAAAADwecA=",
          "dtype": "f8"
         },
         "yaxis": "y"
        },
        {
         "hoverinfo": "text",
         "marker": {
          "color": "rgb(61,153,112)"
         },
         "mode": "lines",
         "type": "scatter",
         "x": {
          "bdata": "AAAAAAAAAACg/i1+5JfnP6D+LX7kl+c/AAAAAAAAAAA=",
          "dtype": "f8"
         },
         "xaxis": "x",
         "y": {
          "bdata": "AAAAAAAwe8AAAAAAADB7wAAAAAAA0HvAAAAAAADQe8A=",
          "dtype": "f8"
         },
         "yaxis": "y"
        },
        {
         "hoverinfo": "text",
         "marker": {
          "color": "rgb(61,153,112)"
         },
         "mode": "lines",
         "type": "scatter",
         "x": {
          "bdata": "oP4tfuSX5z8o0b5UhH3qPyjRvlSEfeo/AAAAAAAAAAA=",
          "dtype": "f8"
         },
         "xaxis": "x",
         "y": {
          "bdata": "AAAAAACAe8AAAAAAAIB7wAAAAAAAcHzAAAAAAABwfMA=",
          "dtype": "f8"
         },
         "yaxis": "y"
        },
        {
         "hoverinfo": "text",
         "marker": {
          "color": "rgb(61,153,112)"
         },
         "mode": "lines",
         "type": "scatter",
         "x": {
          "bdata": "AAAAAAAAAABP4mxadwvsP0/ibFp3C+w/KNG+VIR96j8=",
          "dtype": "f8"
         },
         "xaxis": "x",
         "y": {
          "bdata": "AAAAAACQesAAAAAAAJB6wAAAAAAA+HvAAAAAAAD4e8A=",
          "dtype": "f8"
         },
         "yaxis": "y"
        },
        {
         "hoverinfo": "text",
         "marker": {
          "color": "rgb(255,65,54)"
         },
         "mode": "lines",
         "type": "scatter",
         "x": {
          "bdata": "AAAAAAAAAAA4HMyX9LfoPzgczJf0t+g/AAAAAAAAAAA=",
          "dtype": "f8"
         },
         "xaxis": "x",
         "y": {
          "bdata": "AAAAAAAQfcAAAAAAABB9wAAAAAAAsH3AAAAAAACwfcA=",
          "dtype": "f8"
         },
         "yaxis": "y"
        },
        {
         "hoverinfo": "text",
         "marker": {
          "color": "rgb(255,65,54)"
         },
         "mode": "lines",
         "type": "scatter",
         "x": {
          "bdata": "AAAAAAAAAACiQC4goojqP6JALiCiiOo/AAAAAAAAAAA=",
          "dtype": "f8"
         },
         "xaxis": "x",
         "y": {
          "bdata": "AAAAAABQfsAAAAAAAFB+wAAAAAAA8H7AAAAAAADwfsA=",
          "dtype": "f8"
         },
         "yaxis": "y"
        },
        {
         "hoverinfo": "text",
         "marker": {
          "color": "rgb(255,65,54)"
         },
         "mode": "lines",
         "type": "scatter",
         "x": {
          "bdata": "okAuIKKI6j+Te6XpAPbrP5N7pekA9us/AAAAAAAAAAA=",
          "dtype": "f8"
         },
         "xaxis": "x",
         "y": {
          "bdata": "AAAAAACgfsAAAAAAAKB+wAAAAAAAkH/AAAAAAACQf8A=",
          "dtype": "f8"
         },
         "yaxis": "y"
        },
        {
         "hoverinfo": "text",
         "marker": {
          "color": "rgb(255,65,54)"
         },
         "mode": "lines",
         "type": "scatter",
         "x": {
          "bdata": "OBzMl/S36D82Rhu2Kq7sPzZGG7Yqruw/k3ul6QD26z8=",
          "dtype": "f8"
         },
         "xaxis": "x",
         "y": {
          "bdata": "AAAAAABgfcAAAAAAAGB9wAAAAAAAGH/AAAAAAAAYf8A=",
          "dtype": "f8"
         },
         "yaxis": "y"
        },
        {
         "hoverinfo": "text",
         "marker": {
          "color": "rgb(255,65,54)"
         },
         "mode": "lines",
         "type": "scatter",
         "x": {
          "bdata": "AAAAAAAAAAA9uC3MS4DsPz24LcxLgOw/AAAAAAAAAAA=",
          "dtype": "f8"
         },
         "xaxis": "x",
         "y": {
          "bdata": "AAAAAAAYgMAAAAAAABiAwAAAAAAAaIDAAAAAAABogMA=",
          "dtype": "f8"
         },
         "yaxis": "y"
        },
        {
         "hoverinfo": "text",
         "marker": {
          "color": "rgb(255,65,54)"
         },
         "mode": "lines",
         "type": "scatter",
         "x": {
          "bdata": "NkYbtiqu7D+GJ9JlHrXuP4Yn0mUete4/PbgtzEuA7D8=",
          "dtype": "f8"
         },
         "xaxis": "x",
         "y": {
          "bdata": "AAAAAAA8fsAAAAAAADx+wAAAAAAAQIDAAAAAAABAgMA=",
          "dtype": "f8"
         },
         "yaxis": "y"
        },
        {
         "hoverinfo": "text",
         "marker": {
          "color": "rgb(35,205,205)"
         },
         "mode": "lines",
         "type": "scatter",
         "x": {
          "bdata": "AAAAAAAAAABqQzN4zMLsP2pDM3jMwuw/AAAAAAAAAAA=",
          "dtype": "f8"
         },
         "xaxis": "x",
         "y": {
          "bdata": "AAAAAAC4gMAAAAAAALiAwAAAAAAACIHAAAAAAAAIgcA=",
          "dtype": "f8"
         },
         "yaxis": "y"
        },
        {
         "hoverinfo": "text",
         "marker": {
          "color": "rgb(35,205,205)"
         },
         "mode": "lines",
         "type": "scatter",
         "x": {
          "bdata": "AAAAAAAAAAD09EXHJhXrP/T0RccmFes/AAAAAAAAAAA=",
          "dtype": "f8"
         },
         "xaxis": "x",
         "y": {
          "bdata": "AAAAAABYgcAAAAAAAFiBwAAAAAAAqIHAAAAAAACogcA=",
          "dtype": "f8"
         },
         "yaxis": "y"
        },
        {
         "hoverinfo": "text",
         "marker": {
          "color": "rgb(35,205,205)"
         },
         "mode": "lines",
         "type": "scatter",
         "x": {
          "bdata": "9PRFxyYV6z87AjATnRfsPzsCMBOdF+w/AAAAAAAAAAA=",
          "dtype": "f8"
         },
         "xaxis": "x",
         "y": {
          "bdata": "AAAAAACAgcAAAAAAAICBwAAAAAAA+IHAAAAAAAD4gcA=",
          "dtype": "f8"
         },
         "yaxis": "y"
        },
        {
         "hoverinfo": "text",
         "marker": {
          "color": "rgb(35,205,205)"
         },
         "mode": "lines",
         "type": "scatter",
         "x": {
          "bdata": "akMzeMzC7D98sYC0oBXvP3yxgLSgFe8/OwIwE50X7D8=",
          "dtype": "f8"
         },
         "xaxis": "x",
         "y": {
          "bdata": "AAAAAADggMAAAAAAAOCAwAAAAAAAvIHAAAAAAAC8gcA=",
          "dtype": "f8"
         },
         "yaxis": "y"
        },
        {
         "hoverinfo": "text",
         "marker": {
          "color": "rgb(35,205,205)"
         },
         "mode": "lines",
         "type": "scatter",
         "x": {
          "bdata": "AAAAAAAAAADJhGiyIUrqP8mEaLIhSuo/AAAAAAAAAAA=",
          "dtype": "f8"
         },
         "xaxis": "x",
         "y": {
          "bdata": "AAAAAABIgsAAAAAAAEiCwAAAAAAAmILAAAAAAACYgsA=",
          "dtype": "f8"
         },
         "yaxis": "y"
        },
        {
         "hoverinfo": "text",
         "marker": {
          "color": "rgb(35,205,205)"
         },
         "mode": "lines",
         "type": "scatter",
         "x": {
          "bdata": "yYRosiFK6j/U8x4G/zTtP9TzHgb/NO0/AAAAAAAAAAA=",
          "dtype": "f8"
         },
         "xaxis": "x",
         "y": {
          "bdata": "AAAAAABwgsAAAAAAAHCCwAAAAAAA6ILAAAAAAADogsA=",
          "dtype": "f8"
         },
         "yaxis": "y"
        },
        {
         "hoverinfo": "text",
         "marker": {
          "color": "rgb(35,205,205)"
         },
         "mode": "lines",
         "type": "scatter",
         "x": {
          "bdata": "fLGAtKAV7z+M98+76KvvP4z3z7voq+8/1PMeBv807T8=",
          "dtype": "f8"
         },
         "xaxis": "x",
         "y": {
          "bdata": "AAAAAABOgcAAAAAAAE6BwAAAAAAArILAAAAAAACsgsA=",
          "dtype": "f8"
         },
         "yaxis": "y"
        },
        {
         "hoverinfo": "text",
         "marker": {
          "color": "rgb(0,116,217)"
         },
         "mode": "lines",
         "type": "scatter",
         "x": {
          "bdata": "hifSZR617j+Mska0GY7wP4yyRrQZjvA/jPfPu+ir7z8=",
          "dtype": "f8"
         },
         "xaxis": "x",
         "y": {
          "bdata": "AAAAAABef8AAAAAAAF5/wAAAAAAA/YHAAAAAAAD9gcA=",
          "dtype": "f8"
         },
         "yaxis": "y"
        },
        {
         "hoverinfo": "text",
         "marker": {
          "color": "rgb(133,20,75)"
         },
         "mode": "lines",
         "type": "scatter",
         "x": {
          "bdata": "AAAAAAAAAABWiFT1yC/tP1aIVPXIL+0/AAAAAAAAAAA=",
          "dtype": "f8"
         },
         "xaxis": "x",
         "y": {
          "bdata": "AAAAAAA4g8AAAAAAADiDwAAAAAAAiIPAAAAAAACIg8A=",
          "dtype": "f8"
         },
         "yaxis": "y"
        },
        {
         "hoverinfo": "text",
         "marker": {
          "color": "rgb(133,20,75)"
         },
         "mode": "lines",
         "type": "scatter",
         "x": {
          "bdata": "AAAAAAAAAACNG90eMdDrP40b3R4x0Os/AAAAAAAAAAA=",
          "dtype": "f8"
         },
         "xaxis": "x",
         "y": {
          "bdata": "AAAAAADYg8AAAAAAANiDwAAAAAAAKITAAAAAAAAohMA=",
          "dtype": "f8"
         },
         "yaxis": "y"
        },
        {
         "hoverinfo": "text",
         "marker": {
          "color": "rgb(133,20,75)"
         },
         "mode": "lines",
         "type": "scatter",
         "x": {
          "bdata": "AAAAAAAAAADi4C07iHPrP+LgLTuIc+s/AAAAAAAAAAA=",
          "dtype": "f8"
         },
         "xaxis": "x",
         "y": {
          "bdata": "AAAAAADIhMAAAAAAAMiEwAAAAAAAGIXAAAAAAAAYhcA=",
          "dtype": "f8"
         },
         "yaxis": "y"
        },
        {
         "hoverinfo": "text",
         "marker": {
          "color": "rgb(133,20,75)"
         },
         "mode": "lines",
         "type": "scatter",
         "x": {
          "bdata": "4uAtO4hz6z/GfVjvqpfsP8Z9WO+ql+w/AAAAAAAAAAA=",
          "dtype": "f8"
         },
         "xaxis": "x",
         "y": {
          "bdata": "AAAAAADwhMAAAAAAAPCEwAAAAAAAaIXAAAAAAABohcA=",
          "dtype": "f8"
         },
         "yaxis": "y"
        },
        {
         "hoverinfo": "text",
         "marker": {
          "color": "rgb(133,20,75)"
         },
         "mode": "lines",
         "type": "scatter",
         "x": {
          "bdata": "AAAAAAAAAACm0x/79iHtP6bTH/v2Ie0/xn1Y76qX7D8=",
          "dtype": "f8"
         },
         "xaxis": "x",
         "y": {
          "bdata": "AAAAAAB4hMAAAAAAAHiEwAAAAAAALIXAAAAAAAAshcA=",
          "dtype": "f8"
         },
         "yaxis": "y"
        },
        {
         "hoverinfo": "text",
         "marker": {
          "color": "rgb(133,20,75)"
         },
         "mode": "lines",
         "type": "scatter",
         "x": {
          "bdata": "AAAAAAAAAAD0XbwBrWPsP/RdvAGtY+w/AAAAAAAAAAA=",
          "dtype": "f8"
         },
         "xaxis": "x",
         "y": {
          "bdata": "AAAAAAC4hcAAAAAAALiFwAAAAAAACIbAAAAAAAAIhsA=",
          "dtype": "f8"
         },
         "yaxis": "y"
        },
        {
         "hoverinfo": "text",
         "marker": {
          "color": "rgb(133,20,75)"
         },
         "mode": "lines",
         "type": "scatter",
         "x": {
          "bdata": "ptMf+/Yh7T9GfmQDUDzuP0Z+ZANQPO4/9F28Aa1j7D8=",
          "dtype": "f8"
         },
         "xaxis": "x",
         "y": {
          "bdata": "AAAAAADShMAAAAAAANKEwAAAAAAA4IXAAAAAAADghcA=",
          "dtype": "f8"
         },
         "yaxis": "y"
        },
        {
         "hoverinfo": "text",
         "marker": {
          "color": "rgb(133,20,75)"
         },
         "mode": "lines",
         "type": "scatter",
         "x": {
          "bdata": "jRvdHjHQ6z9TyzfIAg3vP1PLN8gCDe8/Rn5kA1A87j8=",
          "dtype": "f8"
         },
         "xaxis": "x",
         "y": {
          "bdata": "AAAAAAAAhMAAAAAAAACEwAAAAAAAWYXAAAAAAABZhcA=",
          "dtype": "f8"
         },
         "yaxis": "y"
        },
        {
         "hoverinfo": "text",
         "marker": {
          "color": "rgb(133,20,75)"
         },
         "mode": "lines",
         "type": "scatter",
         "x": {
          "bdata": "VohU9cgv7T/LdR3W+8vvP8t1Hdb7y+8/U8s3yAIN7z8=",
          "dtype": "f8"
         },
         "xaxis": "x",
         "y": {
          "bdata": "AAAAAABgg8AAAAAAAGCDwAAAAACArITAAAAAAICshMA=",
          "dtype": "f8"
         },
         "yaxis": "y"
        },
        {
         "hoverinfo": "text",
         "marker": {
          "color": "rgb(255,220,0)"
         },
         "mode": "lines",
         "type": "scatter",
         "x": {
          "bdata": "AAAAAAAAAAAd/8K2KK/sPx3/wrYor+w/AAAAAAAAAAA=",
          "dtype": "f8"
         },
         "xaxis": "x",
         "y": {
          "bdata": "AAAAAACohsAAAAAAAKiGwAAAAAAA+IbAAAAAAAD4hsA=",
          "dtype": "f8"
         },
         "yaxis": "y"
        },
        {
         "hoverinfo": "text",
         "marker": {
          "color": "rgb(255,220,0)"
         },
         "mode": "lines",
         "type": "scatter",
         "x": {
          "bdata": "AAAAAAAAAABSKOU0AUHuP1Io5TQBQe4/Hf/Ctiiv7D8=",
          "dtype": "f8"
         },
         "xaxis": "x",
         "y": {
          "bdata": "AAAAAABYhsAAAAAAAFiGwAAAAAAA0IbAAAAAAADQhsA=",
          "dtype": "f8"
         },
         "yaxis": "y"
        },
        {
         "hoverinfo": "text",
         "marker": {
          "color": "rgb(40,35,35)"
         },
         "mode": "lines",
         "type": "scatter",
         "x": {
          "bdata": "AAAAAAAAAABpTA1KyMbpP2lMDUrIxuk/AAAAAAAAAAA=",
          "dtype": "f8"
         },
         "xaxis": "x",
         "y": {
          "bdata": "AAAAAABIh8AAAAAAAEiHwAAAAAAAmIfAAAAAAACYh8A=",
          "dtype": "f8"
         },
         "yaxis": "y"
        },
        {
         "hoverinfo": "text",
         "marker": {
          "color": "rgb(40,35,35)"
         },
         "mode": "lines",
         "type": "scatter",
         "x": {
          "bdata": "aUwNSsjG6T85AXmCkg7rPzkBeYKSDus/AAAAAAAAAAA=",
          "dtype": "f8"
         },
         "xaxis": "x",
         "y": {
          "bdata": "AAAAAABwh8AAAAAAAHCHwAAAAAAA6IfAAAAAAADoh8A=",
          "dtype": "f8"
         },
         "yaxis": "y"
        },
        {
         "hoverinfo": "text",
         "marker": {
          "color": "rgb(40,35,35)"
         },
         "mode": "lines",
         "type": "scatter",
         "x": {
          "bdata": "OQF5gpIO6z/qW0u4MXruP+pbS7gxeu4/AAAAAAAAAAA=",
          "dtype": "f8"
         },
         "xaxis": "x",
         "y": {
          "bdata": "AAAAAACsh8AAAAAAAKyHwAAAAAAAOIjAAAAAAAA4iMA=",
          "dtype": "f8"
         },
         "yaxis": "y"
        },
        {
         "hoverinfo": "text",
         "marker": {
          "color": "rgb(0,116,217)"
         },
         "mode": "lines",
         "type": "scatter",
         "x": {
          "bdata": "UijlNAFB7j+CVKpRfifwP4JUqlF+J/A/6ltLuDF67j8=",
          "dtype": "f8"
         },
         "xaxis": "x",
         "y": {
          "bdata": "AAAAAACUhsAAAAAAAJSGwAAAAAAA8ofAAAAAAADyh8A=",
          "dtype": "f8"
         },
         "yaxis": "y"
        },
        {
         "hoverinfo": "text",
         "marker": {
          "color": "rgb(0,116,217)"
         },
         "mode": "lines",
         "type": "scatter",
         "x": {
          "bdata": "y3Ud1vvL7z9NMqfsIV3xP00yp+whXfE/glSqUX4n8D8=",
          "dtype": "f8"
         },
         "xaxis": "x",
         "y": {
          "bdata": "AAAAAEAGhMAAAAAAQAaEwAAAAAAAQ4fAAAAAAABDh8A=",
          "dtype": "f8"
         },
         "yaxis": "y"
        },
        {
         "hoverinfo": "text",
         "marker": {
          "color": "rgb(0,116,217)"
         },
         "mode": "lines",
         "type": "scatter",
         "x": {
          "bdata": "jLJGtBmO8D/0FM+y48bxP/QUz7LjxvE/TTKn7CFd8T8=",
          "dtype": "f8"
         },
         "xaxis": "x",
         "y": {
          "bdata": "AAAAAADWgMAAAAAAANaAwAAAAACgpIXAAAAAAKCkhcA=",
          "dtype": "f8"
         },
         "yaxis": "y"
        },
        {
         "hoverinfo": "text",
         "marker": {
          "color": "rgb(0,116,217)"
         },
         "mode": "lines",
         "type": "scatter",
         "x": {
          "bdata": "T+JsWncL7D/C78fQ9YTyP8Lvx9D1hPI/9BTPsuPG8T8=",
          "dtype": "f8"
         },
         "xaxis": "x",
         "y": {
          "bdata": "AAAAAABEe8AAAAAAAER7wAAAAABQPYPAAAAAAFA9g8A=",
          "dtype": "f8"
         },
         "yaxis": "y"
        },
        {
         "hoverinfo": "text",
         "marker": {
          "color": "rgb(61,153,112)"
         },
         "mode": "lines",
         "type": "scatter",
         "x": {
          "bdata": "AAAAAAAAAABBtdZMSF/pP0G11kxIX+k/AAAAAAAAAAA=",
          "dtype": "f8"
         },
         "xaxis": "x",
         "y": {
          "bdata": "AAAAAACIiMAAAAAAAIiIwAAAAAAA2IjAAAAAAADYiMA=",
          "dtype": "f8"
         },
         "yaxis": "y"
        },
        {
         "hoverinfo": "text",
         "marker": {
          "color": "rgb(61,153,112)"
         },
         "mode": "lines",
         "type": "scatter",
         "x": {
          "bdata": "AAAAAAAAAABgYPbinE3nP2Bg9uKcTec/AAAAAAAAAAA=",
          "dtype": "f8"
         },
         "xaxis": "x",
         "y": {
          "bdata": "AAAAAAAoicAAAAAAACiJwAAAAAAAeInAAAAAAAB4icA=",
          "dtype": "f8"
         },
         "yaxis": "y"
        },
        {
         "hoverinfo": "text",
         "marker": {
          "color": "rgb(61,153,112)"
         },
         "mode": "lines",
         "type": "scatter",
         "x": {
          "bdata": "AAAAAAAAAADgLDFwiNbpP+AsMXCI1uk/AAAAAAAAAAA=",
          "dtype": "f8"
         },
         "xaxis": "x",
         "y": {
          "bdata": "AAAAAADIicAAAAAAAMiJwAAAAAAAGIrAAAAAAAAYisA=",
          "dtype": "f8"
         },
         "yaxis": "y"
        },
        {
         "hoverinfo": "text",
         "marker": {
          "color": "rgb(61,153,112)"
         },
         "mode": "lines",
         "type": "scatter",
         "x": {
          "bdata": "YGD24pxN5z+st1fas1rrP6y3V9qzWus/4CwxcIjW6T8=",
          "dtype": "f8"
         },
         "xaxis": "x",
         "y": {
          "bdata": "AAAAAABQicAAAAAAAFCJwAAAAAAA8InAAAAAAADwicA=",
          "dtype": "f8"
         },
         "yaxis": "y"
        },
        {
         "hoverinfo": "text",
         "marker": {
          "color": "rgb(61,153,112)"
         },
         "mode": "lines",
         "type": "scatter",
         "x": {
          "bdata": "QbXWTEhf6T9FsXy4pj3vP0WxfLimPe8/rLdX2rNa6z8=",
          "dtype": "f8"
         },
         "xaxis": "x",
         "y": {
          "bdata": "AAAAAACwiMAAAAAAALCIwAAAAAAAoInAAAAAAACgicA=",
          "dtype": "f8"
         },
         "yaxis": "y"
        },
        {
         "hoverinfo": "text",
         "marker": {
          "color": "rgb(255,65,54)"
         },
         "mode": "lines",
         "type": "scatter",
         "x": {
          "bdata": "AAAAAAAAAADZEpVt8UnoP9kSlW3xSeg/AAAAAAAAAAA=",
          "dtype": "f8"
         },
         "xaxis": "x",
         "y": {
          "bdata": "AAAAAABoisAAAAAAAGiKwAAAAAAAuIrAAAAAAAC4isA=",
          "dtype": "f8"
         },
         "yaxis": "y"
        },
        {
         "hoverinfo": "text",
         "marker": {
          "color": "rgb(0,116,217)"
         },
         "mode": "lines",
         "type": "scatter",
         "x": {
          "bdata": "RbF8uKY97z/ls+2vR1jwP+Wz7a9HWPA/2RKVbfFJ6D8=",
          "dtype": "f8"
         },
         "xaxis": "x",
         "y": {
          "bdata": "AAAAAAAoicAAAAAAACiJwAAAAAAAkIrAAAAAAACQisA=",
          "dtype": "f8"
         },
         "yaxis": "y"
        },
        {
         "hoverinfo": "text",
         "marker": {
          "color": "rgb(0,116,217)"
         },
         "mode": "lines",
         "type": "scatter",
         "x": {
          "bdata": "wu/H0PWE8j8u/ITxHqPzPy78hPEeo/M/5bPtr0dY8D8=",
          "dtype": "f8"
         },
         "xaxis": "x",
         "y": {
          "bdata": "AAAAAKhvgMAAAAAAqG+AwAAAAAAA3InAAAAAAADcicA=",
          "dtype": "f8"
         },
         "yaxis": "y"
        },
        {
         "hoverinfo": "text",
         "marker": {
          "color": "rgb(0,116,217)"
         },
         "mode": "lines",
         "type": "scatter",
         "x": {
          "bdata": "e4fsfKOi6z8zRqYe8cHzPzNGph7xwfM/LvyE8R6j8z8=",
          "dtype": "f8"
         },
         "xaxis": "x",
         "y": {
          "bdata": "AAAAAAB4ecAAAAAAAHh5wAAAAADUJYXAAAAAANQlhcA=",
          "dtype": "f8"
         },
         "yaxis": "y"
        },
        {
         "hoverinfo": "text",
         "marker": {
          "color": "rgb(35,205,205)"
         },
         "mode": "lines",
         "type": "scatter",
         "x": {
          "bdata": "AAAAAAAAAADeUdH11/LgP95R0fXX8uA/AAAAAAAAAAA=",
          "dtype": "f8"
         },
         "xaxis": "x",
         "y": {
          "bdata": "AAAAAAAIi8AAAAAAAAiLwAAAAAAAWIvAAAAAAABYi8A=",
          "dtype": "f8"
         },
         "yaxis": "y"
        },
        {
         "hoverinfo": "text",
         "marker": {
          "color": "rgb(35,205,205)"
         },
         "mode": "lines",
         "type": "scatter",
         "x": {
          "bdata": "AAAAAAAAAADYaWQHaj/qP9hpZAdqP+o/AAAAAAAAAAA=",
          "dtype": "f8"
         },
         "xaxis": "x",
         "y": {
          "bdata": "AAAAAACoi8AAAAAAAKiLwAAAAAAA+IvAAAAAAAD4i8A=",
          "dtype": "f8"
         },
         "yaxis": "y"
        },
        {
         "hoverinfo": "text",
         "marker": {
          "color": "rgb(35,205,205)"
         },
         "mode": "lines",
         "type": "scatter",
         "x": {
          "bdata": "3lHR9dfy4D9iyLyijy/sP2LIvKKPL+w/2GlkB2o/6j8=",
          "dtype": "f8"
         },
         "xaxis": "x",
         "y": {
          "bdata": "AAAAAAAwi8AAAAAAADCLwAAAAAAA0IvAAAAAAADQi8A=",
          "dtype": "f8"
         },
         "yaxis": "y"
        },
        {
         "hoverinfo": "text",
         "marker": {
          "color": "rgb(0,116,217)"
         },
         "mode": "lines",
         "type": "scatter",
         "x": {
          "bdata": "M0amHvHB8z8330Mo1jz0PzffQyjWPPQ/Ysi8oo8v7D8=",
          "dtype": "f8"
         },
         "xaxis": "x",
         "y": {
          "bdata": "AAAAAOrwgMAAAAAA6vCAwAAAAAAAgIvAAAAAAACAi8A=",
          "dtype": "f8"
         },
         "yaxis": "y"
        },
        {
         "hoverinfo": "text",
         "marker": {
          "color": "rgb(61,153,112)"
         },
         "mode": "lines",
         "type": "scatter",
         "x": {
          "bdata": "AAAAAAAAAAAwDwNC8o3kPzAPA0LyjeQ/AAAAAAAAAAA=",
          "dtype": "f8"
         },
         "xaxis": "x",
         "y": {
          "bdata": "AAAAAACYjMAAAAAAAJiMwAAAAAAA6IzAAAAAAADojMA=",
          "dtype": "f8"
         },
         "yaxis": "y"
        },
        {
         "hoverinfo": "text",
         "marker": {
          "color": "rgb(61,153,112)"
         },
         "mode": "lines",
         "type": "scatter",
         "x": {
          "bdata": "MA8DQvKN5D9OU4fVgbznP05Th9WBvOc/AAAAAAAAAAA=",
          "dtype": "f8"
         },
         "xaxis": "x",
         "y": {
          "bdata": "AAAAAADAjMAAAAAAAMCMwAAAAAAAOI3AAAAAAAA4jcA=",
          "dtype": "f8"
         },
         "yaxis": "y"
        },
        {
         "hoverinfo": "text",
         "marker": {
          "color": "rgb(61,153,112)"
         },
         "mode": "lines",
         "type": "scatter",
         "x": {
          "bdata": "AAAAAAAAAADoNX0XKWrpP+g1fRcpauk/TlOH1YG85z8=",
          "dtype": "f8"
         },
         "xaxis": "x",
         "y": {
          "bdata": "AAAAAABIjMAAAAAAAEiMwAAAAAAA/IzAAAAAAAD8jMA=",
          "dtype": "f8"
         },
         "yaxis": "y"
        },
        {
         "hoverinfo": "text",
         "marker": {
          "color": "rgb(61,153,112)"
         },
         "mode": "lines",
         "type": "scatter",
         "x": {
          "bdata": "AAAAAAAAAADY04GC3szoP9jTgYLezOg/AAAAAAAAAAA=",
          "dtype": "f8"
         },
         "xaxis": "x",
         "y": {
          "bdata": "AAAAAACIjcAAAAAAAIiNwAAAAAAA2I3AAAAAAADYjcA=",
          "dtype": "f8"
         },
         "yaxis": "y"
        },
        {
         "hoverinfo": "text",
         "marker": {
          "color": "rgb(61,153,112)"
         },
         "mode": "lines",
         "type": "scatter",
         "x": {
          "bdata": "2NOBgt7M6D9WrjZ5q5jqP1auNnmrmOo/AAAAAAAAAAA=",
          "dtype": "f8"
         },
         "xaxis": "x",
         "y": {
          "bdata": "AAAAAACwjcAAAAAAALCNwAAAAAAAKI7AAAAAAAAojsA=",
          "dtype": "f8"
         },
         "yaxis": "y"
        },
        {
         "hoverinfo": "text",
         "marker": {
          "color": "rgb(61,153,112)"
         },
         "mode": "lines",
         "type": "scatter",
         "x": {
          "bdata": "6DV9Fylq6T83vbegKRHsPze9t6ApEew/Vq42eauY6j8=",
          "dtype": "f8"
         },
         "xaxis": "x",
         "y": {
          "bdata": "AAAAAACijMAAAAAAAKKMwAAAAAAA7I3AAAAAAADsjcA=",
          "dtype": "f8"
         },
         "yaxis": "y"
        },
        {
         "hoverinfo": "text",
         "marker": {
          "color": "rgb(255,65,54)"
         },
         "mode": "lines",
         "type": "scatter",
         "x": {
          "bdata": "AAAAAAAAAADMzVW29OznP8zNVbb07Oc/AAAAAAAAAAA=",
          "dtype": "f8"
         },
         "xaxis": "x",
         "y": {
          "bdata": "AAAAAADIjsAAAAAAAMiOwAAAAAAAGI/AAAAAAAAYj8A=",
          "dtype": "f8"
         },
         "yaxis": "y"
        },
        {
         "hoverinfo": "text",
         "marker": {
          "color": "rgb(255,65,54)"
         },
         "mode": "lines",
         "type": "scatter",
         "x": {
          "bdata": "AAAAAAAAAACve5Ti1x/rP697lOLXH+s/zM1VtvTs5z8=",
          "dtype": "f8"
         },
         "xaxis": "x",
         "y": {
          "bdata": "AAAAAAB4jsAAAAAAAHiOwAAAAAAA8I7AAAAAAADwjsA=",
          "dtype": "f8"
         },
         "yaxis": "y"
        },
        {
         "hoverinfo": "text",
         "marker": {
          "color": "rgb(255,65,54)"
         },
         "mode": "lines",
         "type": "scatter",
         "x": {
          "bdata": "AAAAAAAAAABWFpJAVZrqP1YWkkBVmuo/AAAAAAAAAAA=",
          "dtype": "f8"
         },
         "xaxis": "x",
         "y": {
          "bdata": "AAAAAABoj8AAAAAAAGiPwAAAAAAAuI/AAAAAAAC4j8A=",
          "dtype": "f8"
         },
         "yaxis": "y"
        },
        {
         "hoverinfo": "text",
         "marker": {
          "color": "rgb(255,65,54)"
         },
         "mode": "lines",
         "type": "scatter",
         "x": {
          "bdata": "r3uU4tcf6z+wiYpClQLvP7CJikKVAu8/VhaSQFWa6j8=",
          "dtype": "f8"
         },
         "xaxis": "x",
         "y": {
          "bdata": "AAAAAAC0jsAAAAAAALSOwAAAAAAAkI/AAAAAAACQj8A=",
          "dtype": "f8"
         },
         "yaxis": "y"
        },
        {
         "hoverinfo": "text",
         "marker": {
          "color": "rgb(0,116,217)"
         },
         "mode": "lines",
         "type": "scatter",
         "x": {
          "bdata": "N723oCkR7D9Q39IhnUPzP1Df0iGdQ/M/sImKQpUC7z8=",
          "dtype": "f8"
         },
         "xaxis": "x",
         "y": {
          "bdata": "AAAAAABHjcAAAAAAAEeNwAAAAAAAIo/AAAAAAAAij8A=",
          "dtype": "f8"
         },
         "yaxis": "y"
        },
        {
         "hoverinfo": "text",
         "marker": {
          "color": "rgb(0,116,217)"
         },
         "mode": "lines",
         "type": "scatter",
         "x": {
          "bdata": "N99DKNY89D8A5W1uetP7PwDlbW560/s/UN/SIZ1D8z8=",
          "dtype": "f8"
         },
         "xaxis": "x",
         "y": {
          "bdata": "AAAAAHU4hsAAAAAAdTiGwAAAAACANI7AAAAAAIA0jsA=",
          "dtype": "f8"
         },
         "yaxis": "y"
        },
        {
         "hoverinfo": "text",
         "marker": {
          "color": "rgb(0,116,217)"
         },
         "mode": "lines",
         "type": "scatter",
         "x": {
          "bdata": "VPd1Zs3R9j8Mr6/3QHb+Pwyvr/dAdv4/AOVtbnrT+z8=",
          "dtype": "f8"
         },
         "xaxis": "x",
         "y": {
          "bdata": "AAAAADjpZcAAAAAAOOllwAAAAIB6NorAAAAAgHo2isA=",
          "dtype": "f8"
         },
         "yaxis": "y"
        },
        {
         "hoverinfo": "text",
         "marker": {
          "color": "rgb(35,205,205)"
         },
         "mode": "lines",
         "type": "scatter",
         "x": {
          "bdata": "AAAAAAAAAABnVzcKjjDjP2dXNwqOMOM/AAAAAAAAAAA=",
          "dtype": "f8"
         },
         "xaxis": "x",
         "y": {
          "bdata": "AAAAAAAEkMAAAAAAAASQwAAAAAAALJDAAAAAAAAskMA=",
          "dtype": "f8"
         },
         "yaxis": "y"
        },
        {
         "hoverinfo": "text",
         "marker": {
          "color": "rgb(35,205,205)"
         },
         "mode": "lines",
         "type": "scatter",
         "x": {
          "bdata": "AAAAAAAAAABjqky02WLmP2OqTLTZYuY/AAAAAAAAAAA=",
          "dtype": "f8"
         },
         "xaxis": "x",
         "y": {
          "bdata": "AAAAAABUkMAAAAAAAFSQwAAAAAAAfJDAAAAAAAB8kMA=",
          "dtype": "f8"
         },
         "yaxis": "y"
        },
        {
         "hoverinfo": "text",
         "marker": {
          "color": "rgb(35,205,205)"
         },
         "mode": "lines",
         "type": "scatter",
         "x": {
          "bdata": "AAAAAAAAAACqbD9bUnDjP6psP1tScOM/AAAAAAAAAAA=",
          "dtype": "f8"
         },
         "xaxis": "x",
         "y": {
          "bdata": "AAAAAACkkMAAAAAAAKSQwAAAAAAAzJDAAAAAAADMkMA=",
          "dtype": "f8"
         },
         "yaxis": "y"
        },
        {
         "hoverinfo": "text",
         "marker": {
          "color": "rgb(35,205,205)"
         },
         "mode": "lines",
         "type": "scatter",
         "x": {
          "bdata": "Y6pMtNli5j9fGqqyfXjqP18aqrJ9eOo/qmw/W1Jw4z8=",
          "dtype": "f8"
         },
         "xaxis": "x",
         "y": {
          "bdata": "AAAAAABokMAAAAAAAGiQwAAAAAAAuJDAAAAAAAC4kMA=",
          "dtype": "f8"
         },
         "yaxis": "y"
        },
        {
         "hoverinfo": "text",
         "marker": {
          "color": "rgb(35,205,205)"
         },
         "mode": "lines",
         "type": "scatter",
         "x": {
          "bdata": "Z1c3Co4w4z9maE81+QbvP2ZoTzX5Bu8/Xxqqsn146j8=",
          "dtype": "f8"
         },
         "xaxis": "x",
         "y": {
          "bdata": "AAAAAAAYkMAAAAAAABiQwAAAAAAAkJDAAAAAAACQkMA=",
          "dtype": "f8"
         },
         "yaxis": "y"
        },
        {
         "hoverinfo": "text",
         "marker": {
          "color": "rgb(133,20,75)"
         },
         "mode": "lines",
         "type": "scatter",
         "x": {
          "bdata": "AAAAAAAAAAAhHqsj5uvoPyEeqyPm6+g/AAAAAAAAAAA=",
          "dtype": "f8"
         },
         "xaxis": "x",
         "y": {
          "bdata": "AAAAAAD0kMAAAAAAAPSQwAAAAAAAHJHAAAAAAAAckcA=",
          "dtype": "f8"
         },
         "yaxis": "y"
        },
        {
         "hoverinfo": "text",
         "marker": {
          "color": "rgb(133,20,75)"
         },
         "mode": "lines",
         "type": "scatter",
         "x": {
          "bdata": "AAAAAAAAAAD60VA+iuznP/rRUD6K7Oc/AAAAAAAAAAA=",
          "dtype": "f8"
         },
         "xaxis": "x",
         "y": {
          "bdata": "AAAAAABskcAAAAAAAGyRwAAAAAAAlJHAAAAAAACUkcA=",
          "dtype": "f8"
         },
         "yaxis": "y"
        },
        {
         "hoverinfo": "text",
         "marker": {
          "color": "rgb(133,20,75)"
         },
         "mode": "lines",
         "type": "scatter",
         "x": {
          "bdata": "AAAAAAAAAAAxvusTSWDpPzG+6xNJYOk/+tFQPors5z8=",
          "dtype": "f8"
         },
         "xaxis": "x",
         "y": {
          "bdata": "AAAAAABEkcAAAAAAAESRwAAAAAAAgJHAAAAAAACAkcA=",
          "dtype": "f8"
         },
         "yaxis": "y"
        },
        {
         "hoverinfo": "text",
         "marker": {
          "color": "rgb(133,20,75)"
         },
         "mode": "lines",
         "type": "scatter",
         "x": {
          "bdata": "IR6rI+br6D+8UsU5g9/qP7xSxTmD3+o/Mb7rE0lg6T8=",
          "dtype": "f8"
         },
         "xaxis": "x",
         "y": {
          "bdata": "AAAAAAAIkcAAAAAAAAiRwAAAAAAAYpHAAAAAAABikcA=",
          "dtype": "f8"
         },
         "yaxis": "y"
        },
        {
         "hoverinfo": "text",
         "marker": {
          "color": "rgb(255,220,0)"
         },
         "mode": "lines",
         "type": "scatter",
         "x": {
          "bdata": "AAAAAAAAAABuDwVfxpfoP24PBV/Gl+g/AAAAAAAAAAA=",
          "dtype": "f8"
         },
         "xaxis": "x",
         "y": {
          "bdata": "AAAAAAAMksAAAAAAAAySwAAAAAAANJLAAAAAAAA0ksA=",
          "dtype": "f8"
         },
         "yaxis": "y"
        },
        {
         "hoverinfo": "text",
         "marker": {
          "color": "rgb(255,220,0)"
         },
         "mode": "lines",
         "type": "scatter",
         "x": {
          "bdata": "AAAAAAAAAAAyzJBYrZPrPzLMkFitk+s/bg8FX8aX6D8=",
          "dtype": "f8"
         },
         "xaxis": "x",
         "y": {
          "bdata": "AAAAAADkkcAAAAAAAOSRwAAAAAAAIJLAAAAAAAAgksA=",
          "dtype": "f8"
         },
         "yaxis": "y"
        },
        {
         "hoverinfo": "text",
         "marker": {
          "color": "rgb(255,220,0)"
         },
         "mode": "lines",
         "type": "scatter",
         "x": {
          "bdata": "AAAAAAAAAABnd21oi7/oP2d3bWiLv+g/AAAAAAAAAAA=",
          "dtype": "f8"
         },
         "xaxis": "x",
         "y": {
          "bdata": "AAAAAABcksAAAAAAAFySwAAAAAAAhJLAAAAAAACEksA=",
          "dtype": "f8"
         },
         "yaxis": "y"
        },
        {
         "hoverinfo": "text",
         "marker": {
          "color": "rgb(255,220,0)"
         },
         "mode": "lines",
         "type": "scatter",
         "x": {
          "bdata": "MsyQWK2T6z9+OkBjIL3tP346QGMgve0/Z3dtaIu/6D8=",
          "dtype": "f8"
         },
         "xaxis": "x",
         "y": {
          "bdata": "AAAAAAACksAAAAAAAAKSwAAAAAAAcJLAAAAAAABwksA=",
          "dtype": "f8"
         },
         "yaxis": "y"
        },
        {
         "hoverinfo": "text",
         "marker": {
          "color": "rgb(255,220,0)"
         },
         "mode": "lines",
         "type": "scatter",
         "x": {
          "bdata": "AAAAAAAAAAAulazVuCDuPy6VrNW4IO4/fjpAYyC97T8=",
          "dtype": "f8"
         },
         "xaxis": "x",
         "y": {
          "bdata": "AAAAAAC8kcAAAAAAALyRwAAAAAAAOZLAAAAAAAA5ksA=",
          "dtype": "f8"
         },
         "yaxis": "y"
        },
        {
         "hoverinfo": "text",
         "marker": {
          "color": "rgb(255,220,0)"
         },
         "mode": "lines",
         "type": "scatter",
         "x": {
          "bdata": "AAAAAAAAAABzxVIwpb7rP3PFUjClvus/AAAAAAAAAAA=",
          "dtype": "f8"
         },
         "xaxis": "x",
         "y": {
          "bdata": "AAAAAACsksAAAAAAAKySwAAAAAAA1JLAAAAAAADUksA=",
          "dtype": "f8"
         },
         "yaxis": "y"
        },
        {
         "hoverinfo": "text",
         "marker": {
          "color": "rgb(255,220,0)"
         },
         "mode": "lines",
         "type": "scatter",
         "x": {
          "bdata": "LpWs1bgg7j+xrDLnakrvP7GsMudqSu8/c8VSMKW+6z8=",
          "dtype": "f8"
         },
         "xaxis": "x",
         "y": {
          "bdata": "AAAAAID6kcAAAAAAgPqRwAAAAAAAwJLAAAAAAADAksA=",
          "dtype": "f8"
         },
         "yaxis": "y"
        },
        {
         "hoverinfo": "text",
         "marker": {
          "color": "rgb(40,35,35)"
         },
         "mode": "lines",
         "type": "scatter",
         "x": {
          "bdata": "AAAAAAAAAAA5wvc5EPTjPznC9zkQ9OM/AAAAAAAAAAA=",
          "dtype": "f8"
         },
         "xaxis": "x",
         "y": {
          "bdata": "AAAAAABMk8AAAAAAAEyTwAAAAAAAdJPAAAAAAAB0k8A=",
          "dtype": "f8"
         },
         "yaxis": "y"
        },
        {
         "hoverinfo": "text",
         "marker": {
          "color": "rgb(40,35,35)"
         },
         "mode": "lines",
         "type": "scatter",
         "x": {
          "bdata": "OcL3ORD04z+XGk9C/m/pP5caT0L+b+k/AAAAAAAAAAA=",
          "dtype": "f8"
         },
         "xaxis": "x",
         "y": {
          "bdata": "AAAAAABgk8AAAAAAAGCTwAAAAAAAnJPAAAAAAACck8A=",
          "dtype": "f8"
         },
         "yaxis": "y"
        },
        {
         "hoverinfo": "text",
         "marker": {
          "color": "rgb(40,35,35)"
         },
         "mode": "lines",
         "type": "scatter",
         "x": {
          "bdata": "AAAAAAAAAAC1kojeg0XrP7WSiN6DRes/lxpPQv5v6T8=",
          "dtype": "f8"
         },
         "xaxis": "x",
         "y": {
          "bdata": "AAAAAAAkk8AAAAAAACSTwAAAAAAAfpPAAAAAAAB+k8A=",
          "dtype": "f8"
         },
         "yaxis": "y"
        },
        {
         "hoverinfo": "text",
         "marker": {
          "color": "rgb(40,35,35)"
         },
         "mode": "lines",
         "type": "scatter",
         "x": {
          "bdata": "AAAAAAAAAADFi13PUY/tP8WLXc9Rj+0/tZKI3oNF6z8=",
          "dtype": "f8"
         },
         "xaxis": "x",
         "y": {
          "bdata": "AAAAAAD8ksAAAAAAAPySwAAAAAAAUZPAAAAAAABRk8A=",
          "dtype": "f8"
         },
         "yaxis": "y"
        },
        {
         "hoverinfo": "text",
         "marker": {
          "color": "rgb(40,35,35)"
         },
         "mode": "lines",
         "type": "scatter",
         "x": {
          "bdata": "AAAAAAAAAACux07+yxLoP67HTv7LEug/AAAAAAAAAAA=",
          "dtype": "f8"
         },
         "xaxis": "x",
         "y": {
          "bdata": "AAAAAADEk8AAAAAAAMSTwAAAAAAA7JPAAAAAAADsk8A=",
          "dtype": "f8"
         },
         "yaxis": "y"
        },
        {
         "hoverinfo": "text",
         "marker": {
          "color": "rgb(40,35,35)"
         },
         "mode": "lines",
         "type": "scatter",
         "x": {
          "bdata": "rsdO/ssS6D+u1rzqTP3qP67WvOpM/eo/AAAAAAAAAAA=",
          "dtype": "f8"
         },
         "xaxis": "x",
         "y": {
          "bdata": "AAAAAADYk8AAAAAAANiTwAAAAAAAFJTAAAAAAAAUlMA=",
          "dtype": "f8"
         },
         "yaxis": "y"
        },
        {
         "hoverinfo": "text",
         "marker": {
          "color": "rgb(40,35,35)"
         },
         "mode": "lines",
         "type": "scatter",
         "x": {
          "bdata": "xYtdz1GP7T/OACJwsyfvP84AInCzJ+8/rta86kz96j8=",
          "dtype": "f8"
         },
         "xaxis": "x",
         "y": {
          "bdata": "AAAAAIAmk8AAAAAAgCaTwAAAAAAA9pPAAAAAAAD2k8A=",
          "dtype": "f8"
         },
         "yaxis": "y"
        },
        {
         "hoverinfo": "text",
         "marker": {
          "color": "rgb(40,35,35)"
         },
         "mode": "lines",
         "type": "scatter",
         "x": {
          "bdata": "AAAAAAAAAABqRpNAfEbmP2pGk0B8RuY/AAAAAAAAAAA=",
          "dtype": "f8"
         },
         "xaxis": "x",
         "y": {
          "bdata": "AAAAAABklMAAAAAAAGSUwAAAAAAAjJTAAAAAAACMlMA=",
          "dtype": "f8"
         },
         "yaxis": "y"
        },
        {
         "hoverinfo": "text",
         "marker": {
          "color": "rgb(40,35,35)"
         },
         "mode": "lines",
         "type": "scatter",
         "x": {
          "bdata": "AAAAAAAAAACZotgWsMHoP5mi2Bawweg/akaTQHxG5j8=",
          "dtype": "f8"
         },
         "xaxis": "x",
         "y": {
          "bdata": "AAAAAAA8lMAAAAAAADyUwAAAAAAAeJTAAAAAAAB4lMA=",
          "dtype": "f8"
         },
         "yaxis": "y"
        },
        {
         "hoverinfo": "text",
         "marker": {
          "color": "rgb(40,35,35)"
         },
         "mode": "lines",
         "type": "scatter",
         "x": {
          "bdata": "maLYFrDB6D8tgnPWQYrtPy2Cc9ZBiu0/AAAAAAAAAAA=",
          "dtype": "f8"
         },
         "xaxis": "x",
         "y": {
          "bdata": "AAAAAABalMAAAAAAAFqUwAAAAAAAtJTAAAAAAAC0lMA=",
          "dtype": "f8"
         },
         "yaxis": "y"
        },
        {
         "hoverinfo": "text",
         "marker": {
          "color": "rgb(40,35,35)"
         },
         "mode": "lines",
         "type": "scatter",
         "x": {
          "bdata": "zgAicLMn7z+0oVfdys7vP7ShV93Kzu8/LYJz1kGK7T8=",
          "dtype": "f8"
         },
         "xaxis": "x",
         "y": {
          "bdata": "AAAAAECOk8AAAAAAQI6TwAAAAAAAh5TAAAAAAACHlMA=",
          "dtype": "f8"
         },
         "yaxis": "y"
        },
        {
         "hoverinfo": "text",
         "marker": {
          "color": "rgb(0,116,217)"
         },
         "mode": "lines",
         "type": "scatter",
         "x": {
          "bdata": "sawy52pK7z/gqI1ADG/yP+CojUAMb/I/tKFX3crO7z8=",
          "dtype": "f8"
         },
         "xaxis": "x",
         "y": {
          "bdata": "AAAAAEBdksAAAAAAQF2SwAAAAACgCpTAAAAAAKAKlMA=",
          "dtype": "f8"
         },
         "yaxis": "y"
        },
        {
         "hoverinfo": "text",
         "marker": {
          "color": "rgb(0,116,217)"
         },
         "mode": "lines",
         "type": "scatter",
         "x": {
          "bdata": "vFLFOYPf6j/DdB2RwPnyP8N0HZHA+fI/4KiNQAxv8j8=",
          "dtype": "f8"
         },
         "xaxis": "x",
         "y": {
          "bdata": "AAAAAAA1kcAAAAAAADWRwAAAAADwM5PAAAAAAPAzk8A=",
          "dtype": "f8"
         },
         "yaxis": "y"
        },
        {
         "hoverinfo": "text",
         "marker": {
          "color": "rgb(61,153,112)"
         },
         "mode": "lines",
         "type": "scatter",
         "x": {
          "bdata": "AAAAAAAAAACIAjGvDwvsP4gCMa8PC+w/AAAAAAAAAAA=",
          "dtype": "f8"
         },
         "xaxis": "x",
         "y": {
          "bdata": "AAAAAADclMAAAAAAANyUwAAAAAAABJXAAAAAAAAElcA=",
          "dtype": "f8"
         },
         "yaxis": "y"
        },
        {
         "hoverinfo": "text",
         "marker": {
          "color": "rgb(61,153,112)"
         },
         "mode": "lines",
         "type": "scatter",
         "x": {
          "bdata": "AAAAAAAAAABWgnoUVK7rP1aCehRUrus/AAAAAAAAAAA=",
          "dtype": "f8"
         },
         "xaxis": "x",
         "y": {
          "bdata": "AAAAAAAslcAAAAAAACyVwAAAAAAAVJXAAAAAAABUlcA=",
          "dtype": "f8"
         },
         "yaxis": "y"
        },
        {
         "hoverinfo": "text",
         "marker": {
          "color": "rgb(61,153,112)"
         },
         "mode": "lines",
         "type": "scatter",
         "x": {
          "bdata": "iAIxrw8L7D+63ZWNWT3tP7rdlY1ZPe0/VoJ6FFSu6z8=",
          "dtype": "f8"
         },
         "xaxis": "x",
         "y": {
          "bdata": "AAAAAADwlMAAAAAAAPCUwAAAAAAAQJXAAAAAAABAlcA=",
          "dtype": "f8"
         },
         "yaxis": "y"
        },
        {
         "hoverinfo": "text",
         "marker": {
          "color": "rgb(255,65,54)"
         },
         "mode": "lines",
         "type": "scatter",
         "x": {
          "bdata": "AAAAAAAAAABsFVPcuZvkP2wVU9y5m+Q/AAAAAAAAAAA=",
          "dtype": "f8"
         },
         "xaxis": "x",
         "y": {
          "bdata": "AAAAAAB8lcAAAAAAAHyVwAAAAAAApJXAAAAAAACklcA=",
          "dtype": "f8"
         },
         "yaxis": "y"
        },
        {
         "hoverinfo": "text",
         "marker": {
          "color": "rgb(255,65,54)"
         },
         "mode": "lines",
         "type": "scatter",
         "x": {
          "bdata": "AAAAAAAAAACYjgH4COLlP5iOAfgI4uU/AAAAAAAAAAA=",
          "dtype": "f8"
         },
         "xaxis": "x",
         "y": {
          "bdata": "AAAAAADMlcAAAAAAAMyVwAAAAAAA9JXAAAAAAAD0lcA=",
          "dtype": "f8"
         },
         "yaxis": "y"
        },
        {
         "hoverinfo": "text",
         "marker": {
          "color": "rgb(255,65,54)"
         },
         "mode": "lines",
         "type": "scatter",
         "x": {
          "bdata": "bBVT3Lmb5D9VopJSuZvpP1WiklK5m+k/mI4B+Aji5T8=",
          "dtype": "f8"
         },
         "xaxis": "x",
         "y": {
          "bdata": "AAAAAACQlcAAAAAAAJCVwAAAAAAA4JXAAAAAAADglcA=",
          "dtype": "f8"
         },
         "yaxis": "y"
        },
        {
         "hoverinfo": "text",
         "marker": {
          "color": "rgb(35,205,205)"
         },
         "mode": "lines",
         "type": "scatter",
         "x": {
          "bdata": "AAAAAAAAAABh1FXREHHpP2HUVdEQcek/AAAAAAAAAAA=",
          "dtype": "f8"
         },
         "xaxis": "x",
         "y": {
          "bdata": "AAAAAAAclsAAAAAAAByWwAAAAAAARJbAAAAAAABElsA=",
          "dtype": "f8"
         },
         "yaxis": "y"
        },
        {
         "hoverinfo": "text",
         "marker": {
          "color": "rgb(35,205,205)"
         },
         "mode": "lines",
         "type": "scatter",
         "x": {
          "bdata": "YdRV0RBx6T9fGHvbSaTtP18Ye9tJpO0/AAAAAAAAAAA=",
          "dtype": "f8"
         },
         "xaxis": "x",
         "y": {
          "bdata": "AAAAAAAwlsAAAAAAADCWwAAAAAAAbJbAAAAAAABslsA=",
          "dtype": "f8"
         },
         "yaxis": "y"
        },
        {
         "hoverinfo": "text",
         "marker": {
          "color": "rgb(0,116,217)"
         },
         "mode": "lines",
         "type": "scatter",
         "x": {
          "bdata": "VaKSUrmb6T+WmVfi0zjwP5aZV+LTOPA/Xxh720mk7T8=",
          "dtype": "f8"
         },
         "xaxis": "x",
         "y": {
          "bdata": "AAAAAAC4lcAAAAAAALiVwAAAAAAATpbAAAAAAABOlsA=",
          "dtype": "f8"
         },
         "yaxis": "y"
        },
        {
         "hoverinfo": "text",
         "marker": {
          "color": "rgb(0,116,217)"
         },
         "mode": "lines",
         "type": "scatter",
         "x": {
          "bdata": "ut2VjVk97T/ZDtRhWS7xP9kO1GFZLvE/lplX4tM48D8=",
          "dtype": "f8"
         },
         "xaxis": "x",
         "y": {
          "bdata": "AAAAAAAYlcAAAAAAABiVwAAAAAAAA5bAAAAAAAADlsA=",
          "dtype": "f8"
         },
         "yaxis": "y"
        },
        {
         "hoverinfo": "text",
         "marker": {
          "color": "rgb(0,116,217)"
         },
         "mode": "lines",
         "type": "scatter",
         "x": {
          "bdata": "w3QdkcD58j/ds9X+1U31P92z1f7VTfU/2Q7UYVku8T8=",
          "dtype": "f8"
         },
         "xaxis": "x",
         "y": {
          "bdata": "AAAAAHg0ksAAAAAAeDSSwAAAAACAjZXAAAAAAICNlcA=",
          "dtype": "f8"
         },
         "yaxis": "y"
        },
        {
         "hoverinfo": "text",
         "marker": {
          "color": "rgb(0,116,217)"
         },
         "mode": "lines",
         "type": "scatter",
         "x": {
          "bdata": "ZmhPNfkG7z9Y252MYcf4P1jbnYxhx/g/3bPV/tVN9T8=",
          "dtype": "f8"
         },
         "xaxis": "x",
         "y": {
          "bdata": "AAAAAABUkMAAAAAAAFSQwAAAAAD84JPAAAAAAPzgk8A=",
          "dtype": "f8"
         },
         "yaxis": "y"
        },
        {
         "hoverinfo": "text",
         "marker": {
          "color": "rgb(61,153,112)"
         },
         "mode": "lines",
         "type": "scatter",
         "x": {
          "bdata": "AAAAAAAAAADcJV7K0TLXP9wlXsrRMtc/AAAAAAAAAAA=",
          "dtype": "f8"
         },
         "xaxis": "x",
         "y": {
          "bdata": "AAAAAAAMl8AAAAAAAAyXwAAAAAAANJfAAAAAAAA0l8A=",
          "dtype": "f8"
         },
         "yaxis": "y"
        },
        {
         "hoverinfo": "text",
         "marker": {
          "color": "rgb(61,153,112)"
         },
         "mode": "lines",
         "type": "scatter",
         "x": {
          "bdata": "AAAAAAAAAAAMJtkuhvzXPwwm2S6G/Nc/3CVeytEy1z8=",
          "dtype": "f8"
         },
         "xaxis": "x",
         "y": {
          "bdata": "AAAAAADklsAAAAAAAOSWwAAAAAAAIJfAAAAAAAAgl8A=",
          "dtype": "f8"
         },
         "yaxis": "y"
        },
        {
         "hoverinfo": "text",
         "marker": {
          "color": "rgb(61,153,112)"
         },
         "mode": "lines",
         "type": "scatter",
         "x": {
          "bdata": "DCbZLob81z+4mpFz/CjlP7iakXP8KOU/AAAAAAAAAAA=",
          "dtype": "f8"
         },
         "xaxis": "x",
         "y": {
          "bdata": "AAAAAAACl8AAAAAAAAKXwAAAAAAAXJfAAAAAAABcl8A=",
          "dtype": "f8"
         },
         "yaxis": "y"
        },
        {
         "hoverinfo": "text",
         "marker": {
          "color": "rgb(61,153,112)"
         },
         "mode": "lines",
         "type": "scatter",
         "x": {
          "bdata": "AAAAAAAAAAB5B0SCV93oP3kHRIJX3eg/uJqRc/wo5T8=",
          "dtype": "f8"
         },
         "xaxis": "x",
         "y": {
          "bdata": "AAAAAAC8lsAAAAAAALyWwAAAAAAAL5fAAAAAAAAvl8A=",
          "dtype": "f8"
         },
         "yaxis": "y"
        },
        {
         "hoverinfo": "text",
         "marker": {
          "color": "rgb(61,153,112)"
         },
         "mode": "lines",
         "type": "scatter",
         "x": {
          "bdata": "AAAAAAAAAAB7PA0w0m3rP3s8DTDSbes/eQdEglfd6D8=",
          "dtype": "f8"
         },
         "xaxis": "x",
         "y": {
          "bdata": "AAAAAACUlsAAAAAAAJSWwAAAAACA9ZbAAAAAAID1lsA=",
          "dtype": "f8"
         },
         "yaxis": "y"
        },
        {
         "hoverinfo": "text",
         "marker": {
          "color": "rgb(255,65,54)"
         },
         "mode": "lines",
         "type": "scatter",
         "x": {
          "bdata": "AAAAAAAAAADYVgIz5ePqP9hWAjPl4+o/AAAAAAAAAAA=",
          "dtype": "f8"
         },
         "xaxis": "x",
         "y": {
          "bdata": "AAAAAACsl8AAAAAAAKyXwAAAAAAA1JfAAAAAAADUl8A=",
          "dtype": "f8"
         },
         "yaxis": "y"
        },
        {
         "hoverinfo": "text",
         "marker": {
          "color": "rgb(255,65,54)"
         },
         "mode": "lines",
         "type": "scatter",
         "x": {
          "bdata": "AAAAAAAAAADRIRHnsD/tP9EhEeewP+0/2FYCM+Xj6j8=",
          "dtype": "f8"
         },
         "xaxis": "x",
         "y": {
          "bdata": "AAAAAACEl8AAAAAAAISXwAAAAAAAwJfAAAAAAADAl8A=",
          "dtype": "f8"
         },
         "yaxis": "y"
        },
        {
         "hoverinfo": "text",
         "marker": {
          "color": "rgb(35,205,205)"
         },
         "mode": "lines",
         "type": "scatter",
         "x": {
          "bdata": "AAAAAAAAAADS15h9y0DnP9LXmH3LQOc/AAAAAAAAAAA=",
          "dtype": "f8"
         },
         "xaxis": "x",
         "y": {
          "bdata": "AAAAAABMmMAAAAAAAEyYwAAAAAAAdJjAAAAAAAB0mMA=",
          "dtype": "f8"
         },
         "yaxis": "y"
        },
        {
         "hoverinfo": "text",
         "marker": {
          "color": "rgb(35,205,205)"
         },
         "mode": "lines",
         "type": "scatter",
         "x": {
          "bdata": "AAAAAAAAAACvpqUOf2roP6+mpQ5/aug/0teYfctA5z8=",
          "dtype": "f8"
         },
         "xaxis": "x",
         "y": {
          "bdata": "AAAAAAAkmMAAAAAAACSYwAAAAAAAYJjAAAAAAABgmMA=",
          "dtype": "f8"
         },
         "yaxis": "y"
        },
        {
         "hoverinfo": "text",
         "marker": {
          "color": "rgb(35,205,205)"
         },
         "mode": "lines",
         "type": "scatter",
         "x": {
          "bdata": "AAAAAAAAAAD3ZZ+pfhHqP/dln6l+Eeo/r6alDn9q6D8=",
          "dtype": "f8"
         },
         "xaxis": "x",
         "y": {
          "bdata": "AAAAAAD8l8AAAAAAAPyXwAAAAAAAQpjAAAAAAABCmMA=",
          "dtype": "f8"
         },
         "yaxis": "y"
        },
        {
         "hoverinfo": "text",
         "marker": {
          "color": "rgb(35,205,205)"
         },
         "mode": "lines",
         "type": "scatter",
         "x": {
          "bdata": "AAAAAAAAAABABjY+KHrnP0AGNj4oeuc/AAAAAAAAAAA=",
          "dtype": "f8"
         },
         "xaxis": "x",
         "y": {
          "bdata": "AAAAAACcmMAAAAAAAJyYwAAAAAAAxJjAAAAAAADEmMA=",
          "dtype": "f8"
         },
         "yaxis": "y"
        },
        {
         "hoverinfo": "text",
         "marker": {
          "color": "rgb(35,205,205)"
         },
         "mode": "lines",
         "type": "scatter",
         "x": {
          "bdata": "QAY2Pih65z+UuQQ4ChXqP5S5BDgKFeo/AAAAAAAAAAA=",
          "dtype": "f8"
         },
         "xaxis": "x",
         "y": {
          "bdata": "AAAAAACwmMAAAAAAALCYwAAAAAAA7JjAAAAAAADsmMA=",
          "dtype": "f8"
         },
         "yaxis": "y"
        },
        {
         "hoverinfo": "text",
         "marker": {
          "color": "rgb(35,205,205)"
         },
         "mode": "lines",
         "type": "scatter",
         "x": {
          "bdata": "92WfqX4R6j/AmedIYi7sP8CZ50hiLuw/lLkEOAoV6j8=",
          "dtype": "f8"
         },
         "xaxis": "x",
         "y": {
          "bdata": "AAAAAAAfmMAAAAAAAB+YwAAAAAAAzpjAAAAAAADOmMA=",
          "dtype": "f8"
         },
         "yaxis": "y"
        },
        {
         "hoverinfo": "text",
         "marker": {
          "color": "rgb(0,116,217)"
         },
         "mode": "lines",
         "type": "scatter",
         "x": {
          "bdata": "0SER57A/7T/LM291L47wP8szb3UvjvA/wJnnSGIu7D8=",
          "dtype": "f8"
         },
         "xaxis": "x",
         "y": {
          "bdata": "AAAAAACil8AAAAAAAKKXwAAAAACAdpjAAAAAAIB2mMA=",
          "dtype": "f8"
         },
         "yaxis": "y"
        },
        {
         "hoverinfo": "text",
         "marker": {
          "color": "rgb(133,20,75)"
         },
         "mode": "lines",
         "type": "scatter",
         "x": {
          "bdata": "AAAAAAAAAACaU9lLQafrP5pT2UtBp+s/AAAAAAAAAAA=",
          "dtype": "f8"
         },
         "xaxis": "x",
         "y": {
          "bdata": "AAAAAAAUmcAAAAAAABSZwAAAAAAAPJnAAAAAAAA8mcA=",
          "dtype": "f8"
         },
         "yaxis": "y"
        },
        {
         "hoverinfo": "text",
         "marker": {
          "color": "rgb(133,20,75)"
         },
         "mode": "lines",
         "type": "scatter",
         "x": {
          "bdata": "mlPZS0Gn6z96nxH0bXDuP3qfEfRtcO4/AAAAAAAAAAA=",
          "dtype": "f8"
         },
         "xaxis": "x",
         "y": {
          "bdata": "AAAAAAAomcAAAAAAACiZwAAAAAAAZJnAAAAAAABkmcA=",
          "dtype": "f8"
         },
         "yaxis": "y"
        },
        {
         "hoverinfo": "text",
         "marker": {
          "color": "rgb(133,20,75)"
         },
         "mode": "lines",
         "type": "scatter",
         "x": {
          "bdata": "AAAAAAAAAACEdyS8HsDrP4R3JLwewOs/AAAAAAAAAAA=",
          "dtype": "f8"
         },
         "xaxis": "x",
         "y": {
          "bdata": "AAAAAACMmcAAAAAAAIyZwAAAAAAAtJnAAAAAAAC0mcA=",
          "dtype": "f8"
         },
         "yaxis": "y"
        },
        {
         "hoverinfo": "text",
         "marker": {
          "color": "rgb(133,20,75)"
         },
         "mode": "lines",
         "type": "scatter",
         "x": {
          "bdata": "ep8R9G1w7j8Af/F3rFPvPwB/8XesU+8/hHckvB7A6z8=",
          "dtype": "f8"
         },
         "xaxis": "x",
         "y": {
          "bdata": "AAAAAABGmcAAAAAAAEaZwAAAAAAAoJnAAAAAAACgmcA=",
          "dtype": "f8"
         },
         "yaxis": "y"
        },
        {
         "hoverinfo": "text",
         "marker": {
          "color": "rgb(255,220,0)"
         },
         "mode": "lines",
         "type": "scatter",
         "x": {
          "bdata": "AAAAAAAAAAD6ESu3Lk/sP/oRK7cuT+w/AAAAAAAAAAA=",
          "dtype": "f8"
         },
         "xaxis": "x",
         "y": {
          "bdata": "AAAAAADcmcAAAAAAANyZwAAAAAAABJrAAAAAAAAEmsA=",
          "dtype": "f8"
         },
         "yaxis": "y"
        },
        {
         "hoverinfo": "text",
         "marker": {
          "color": "rgb(255,220,0)"
         },
         "mode": "lines",
         "type": "scatter",
         "x": {
          "bdata": "AAAAAAAAAABNmNgLPMnrP02Y2As8yes/AAAAAAAAAAA=",
          "dtype": "f8"
         },
         "xaxis": "x",
         "y": {
          "bdata": "AAAAAAAsmsAAAAAAACyawAAAAAAAVJrAAAAAAABUmsA=",
          "dtype": "f8"
         },
         "yaxis": "y"
        },
        {
         "hoverinfo": "text",
         "marker": {
          "color": "rgb(255,220,0)"
         },
         "mode": "lines",
         "type": "scatter",
         "x": {
          "bdata": "+hErty5P7D9WhbjCe4LuP1aFuMJ7gu4/TZjYCzzJ6z8=",
          "dtype": "f8"
         },
         "xaxis": "x",
         "y": {
          "bdata": "AAAAAADwmcAAAAAAAPCZwAAAAAAAQJrAAAAAAABAmsA=",
          "dtype": "f8"
         },
         "yaxis": "y"
        },
        {
         "hoverinfo": "text",
         "marker": {
          "color": "rgb(0,116,217)"
         },
         "mode": "lines",
         "type": "scatter",
         "x": {
          "bdata": "AH/xd6xT7z+b/lhZFnzwP5v+WFkWfPA/VoW4wnuC7j8=",
          "dtype": "f8"
         },
         "xaxis": "x",
         "y": {
          "bdata": "AAAAAABzmcAAAAAAAHOZwAAAAAAAGJrAAAAAAAAYmsA=",
          "dtype": "f8"
         },
         "yaxis": "y"
        },
        {
         "hoverinfo": "text",
         "marker": {
          "color": "rgb(40,35,35)"
         },
         "mode": "lines",
         "type": "scatter",
         "x": {
          "bdata": "AAAAAAAAAABTvcbnMpnhP1O9xucymeE/AAAAAAAAAAA=",
          "dtype": "f8"
         },
         "xaxis": "x",
         "y": {
          "bdata": "AAAAAAB8msAAAAAAAHyawAAAAAAApJrAAAAAAACkmsA=",
          "dtype": "f8"
         },
         "yaxis": "y"
        },
        {
         "hoverinfo": "text",
         "marker": {
          "color": "rgb(40,35,35)"
         },
         "mode": "lines",
         "type": "scatter",
         "x": {
          "bdata": "U73G5zKZ4T+mvq6T1BHqP6a+rpPUEeo/AAAAAAAAAAA=",
          "dtype": "f8"
         },
         "xaxis": "x",
         "y": {
          "bdata": "AAAAAACQmsAAAAAAAJCawAAAAAAAzJrAAAAAAADMmsA=",
          "dtype": "f8"
         },
         "yaxis": "y"
        },
        {
         "hoverinfo": "text",
         "marker": {
          "color": "rgb(0,116,217)"
         },
         "mode": "lines",
         "type": "scatter",
         "x": {
          "bdata": "m/5YWRZ88D/lugfPuRjyP+W6B8+5GPI/pr6uk9QR6j8=",
          "dtype": "f8"
         },
         "xaxis": "x",
         "y": {
          "bdata": "AAAAAIDFmcAAAAAAgMWZwAAAAAAArprAAAAAAACumsA=",
          "dtype": "f8"
         },
         "yaxis": "y"
        },
        {
         "hoverinfo": "text",
         "marker": {
          "color": "rgb(0,116,217)"
         },
         "mode": "lines",
         "type": "scatter",
         "x": {
          "bdata": "yzNvdS+O8D/cyHRZfXz0P9zIdFl9fPQ/5boHz7kY8j8=",
          "dtype": "f8"
         },
         "xaxis": "x",
         "y": {
          "bdata": "AAAAAEAMmMAAAAAAQAyYwAAAAADAOZrAAAAAAMA5msA=",
          "dtype": "f8"
         },
         "yaxis": "y"
        },
        {
         "hoverinfo": "text",
         "marker": {
          "color": "rgb(61,153,112)"
         },
         "mode": "lines",
         "type": "scatter",
         "x": {
          "bdata": "AAAAAAAAAACtorMyk9TpP62iszKT1Ok/AAAAAAAAAAA=",
          "dtype": "f8"
         },
         "xaxis": "x",
         "y": {
          "bdata": "AAAAAAD0msAAAAAAAPSawAAAAAAAHJvAAAAAAAAcm8A=",
          "dtype": "f8"
         },
         "yaxis": "y"
        },
        {
         "hoverinfo": "text",
         "marker": {
          "color": "rgb(61,153,112)"
         },
         "mode": "lines",
         "type": "scatter",
         "x": {
          "bdata": "AAAAAAAAAAACllH3697rPwKWUffr3us/AAAAAAAAAAA=",
          "dtype": "f8"
         },
         "xaxis": "x",
         "y": {
          "bdata": "AAAAAABEm8AAAAAAAESbwAAAAAAAbJvAAAAAAABsm8A=",
          "dtype": "f8"
         },
         "yaxis": "y"
        },
        {
         "hoverinfo": "text",
         "marker": {
          "color": "rgb(61,153,112)"
         },
         "mode": "lines",
         "type": "scatter",
         "x": {
          "bdata": "raKzMpPU6T9TAE+zzmPvP1MAT7POY+8/ApZR9+ve6z8=",
          "dtype": "f8"
         },
         "xaxis": "x",
         "y": {
          "bdata": "AAAAAAAIm8AAAAAAAAibwAAAAAAAWJvAAAAAAABYm8A=",
          "dtype": "f8"
         },
         "yaxis": "y"
        },
        {
         "hoverinfo": "text",
         "marker": {
          "color": "rgb(255,65,54)"
         },
         "mode": "lines",
         "type": "scatter",
         "x": {
          "bdata": "AAAAAAAAAADbWoteBkXlP9tai14GReU/AAAAAAAAAAA=",
          "dtype": "f8"
         },
         "xaxis": "x",
         "y": {
          "bdata": "AAAAAACUm8AAAAAAAJSbwAAAAAAAvJvAAAAAAAC8m8A=",
          "dtype": "f8"
         },
         "yaxis": "y"
        },
        {
         "hoverinfo": "text",
         "marker": {
          "color": "rgb(0,116,217)"
         },
         "mode": "lines",
         "type": "scatter",
         "x": {
          "bdata": "UwBPs85j7z+BNg6YjqHxP4E2DpiOofE/21qLXgZF5T8=",
          "dtype": "f8"
         },
         "xaxis": "x",
         "y": {
          "bdata": "AAAAAAAwm8AAAAAAADCbwAAAAAAAqJvAAAAAAACom8A=",
          "dtype": "f8"
         },
         "yaxis": "y"
        },
        {
         "hoverinfo": "text",
         "marker": {
          "color": "rgb(35,205,205)"
         },
         "mode": "lines",
         "type": "scatter",
         "x": {
          "bdata": "AAAAAAAAAACd7KqtlXPlP53sqq2Vc+U/AAAAAAAAAAA=",
          "dtype": "f8"
         },
         "xaxis": "x",
         "y": {
          "bdata": "AAAAAADkm8AAAAAAAOSbwAAAAAAADJzAAAAAAAAMnMA=",
          "dtype": "f8"
         },
         "yaxis": "y"
        },
        {
         "hoverinfo": "text",
         "marker": {
          "color": "rgb(35,205,205)"
         },
         "mode": "lines",
         "type": "scatter",
         "x": {
          "bdata": "AAAAAAAAAAAM7M6pTIXpPwzszqlMhek/AAAAAAAAAAA=",
          "dtype": "f8"
         },
         "xaxis": "x",
         "y": {
          "bdata": "AAAAAAA0nMAAAAAAADScwAAAAAAAXJzAAAAAAABcnMA=",
          "dtype": "f8"
         },
         "yaxis": "y"
        },
        {
         "hoverinfo": "text",
         "marker": {
          "color": "rgb(35,205,205)"
         },
         "mode": "lines",
         "type": "scatter",
         "x": {
          "bdata": "DOzOqUyF6T8lzzlCelHrPyXPOUJ6Ues/AAAAAAAAAAA=",
          "dtype": "f8"
         },
         "xaxis": "x",
         "y": {
          "bdata": "AAAAAABInMAAAAAAAEicwAAAAAAAhJzAAAAAAACEnMA=",
          "dtype": "f8"
         },
         "yaxis": "y"
        },
        {
         "hoverinfo": "text",
         "marker": {
          "color": "rgb(35,205,205)"
         },
         "mode": "lines",
         "type": "scatter",
         "x": {
          "bdata": "neyqrZVz5T+6p1gMI/3sP7qnWAwj/ew/Jc85QnpR6z8=",
          "dtype": "f8"
         },
         "xaxis": "x",
         "y": {
          "bdata": "AAAAAAD4m8AAAAAAAPibwAAAAAAAZpzAAAAAAABmnMA=",
          "dtype": "f8"
         },
         "yaxis": "y"
        },
        {
         "hoverinfo": "text",
         "marker": {
          "color": "rgb(0,116,217)"
         },
         "mode": "lines",
         "type": "scatter",
         "x": {
          "bdata": "gTYOmI6h8T+YLVoZV5byP5gtWhlXlvI/uqdYDCP97D8=",
          "dtype": "f8"
         },
         "xaxis": "x",
         "y": {
          "bdata": "AAAAAABsm8AAAAAAAGybwAAAAAAAL5zAAAAAAAAvnMA=",
          "dtype": "f8"
         },
         "yaxis": "y"
        },
        {
         "hoverinfo": "text",
         "marker": {
          "color": "rgb(61,153,112)"
         },
         "mode": "lines",
         "type": "scatter",
         "x": {
          "bdata": "AAAAAAAAAABKNcPcJczcP0o1w9wlzNw/AAAAAAAAAAA=",
          "dtype": "f8"
         },
         "xaxis": "x",
         "y": {
          "bdata": "AAAAAACsnMAAAAAAAKycwAAAAAAA1JzAAAAAAADUnMA=",
          "dtype": "f8"
         },
         "yaxis": "y"
        },
        {
         "hoverinfo": "text",
         "marker": {
          "color": "rgb(255,65,54)"
         },
         "mode": "lines",
         "type": "scatter",
         "x": {
          "bdata": "AAAAAAAAAADb3BJaooTiP9vcElqihOI/AAAAAAAAAAA=",
          "dtype": "f8"
         },
         "xaxis": "x",
         "y": {
          "bdata": "AAAAAAD8nMAAAAAAAPycwAAAAAAAJJ3AAAAAAAAkncA=",
          "dtype": "f8"
         },
         "yaxis": "y"
        },
        {
         "hoverinfo": "text",
         "marker": {
          "color": "rgb(35,205,205)"
         },
         "mode": "lines",
         "type": "scatter",
         "x": {
          "bdata": "AAAAAAAAAAAZ1lJmTv3kPxnWUmZO/eQ/AAAAAAAAAAA=",
          "dtype": "f8"
         },
         "xaxis": "x",
         "y": {
          "bdata": "AAAAAABMncAAAAAAAEydwAAAAAAAdJ3AAAAAAAB0ncA=",
          "dtype": "f8"
         },
         "yaxis": "y"
        },
        {
         "hoverinfo": "text",
         "marker": {
          "color": "rgb(0,116,217)"
         },
         "mode": "lines",
         "type": "scatter",
         "x": {
          "bdata": "29wSWqKE4j+3T0SwPbPwP7dPRLA9s/A/GdZSZk795D8=",
          "dtype": "f8"
         },
         "xaxis": "x",
         "y": {
          "bdata": "AAAAAAAQncAAAAAAABCdwAAAAAAAYJ3AAAAAAABgncA=",
          "dtype": "f8"
         },
         "yaxis": "y"
        },
        {
         "hoverinfo": "text",
         "marker": {
          "color": "rgb(0,116,217)"
         },
         "mode": "lines",
         "type": "scatter",
         "x": {
          "bdata": "SjXD3CXM3D+3Tbi7EMryP7dNuLsQyvI/t09EsD2z8D8=",
          "dtype": "f8"
         },
         "xaxis": "x",
         "y": {
          "bdata": "AAAAAADAnMAAAAAAAMCcwAAAAAAAOJ3AAAAAAAA4ncA=",
          "dtype": "f8"
         },
         "yaxis": "y"
        },
        {
         "hoverinfo": "text",
         "marker": {
          "color": "rgb(0,116,217)"
         },
         "mode": "lines",
         "type": "scatter",
         "x": {
          "bdata": "mC1aGVeW8j+BxuMhZWv1P4HG4yFla/U/t024uxDK8j8=",
          "dtype": "f8"
         },
         "xaxis": "x",
         "y": {
          "bdata": "AAAAAIDNm8AAAAAAgM2bwAAAAAAA/JzAAAAAAAD8nMA=",
          "dtype": "f8"
         },
         "yaxis": "y"
        },
        {
         "hoverinfo": "text",
         "marker": {
          "color": "rgb(133,20,75)"
         },
         "mode": "lines",
         "type": "scatter",
         "x": {
          "bdata": "AAAAAAAAAABUJvUOHqXrP1Qm9Q4epes/AAAAAAAAAAA=",
          "dtype": "f8"
         },
         "xaxis": "x",
         "y": {
          "bdata": "AAAAAACcncAAAAAAAJydwAAAAAAAxJ3AAAAAAADEncA=",
          "dtype": "f8"
         },
         "yaxis": "y"
        },
        {
         "hoverinfo": "text",
         "marker": {
          "color": "rgb(133,20,75)"
         },
         "mode": "lines",
         "type": "scatter",
         "x": {
          "bdata": "AAAAAAAAAAB5VfefDAnrP3lV958MCes/AAAAAAAAAAA=",
          "dtype": "f8"
         },
         "xaxis": "x",
         "y": {
          "bdata": "AAAAAADsncAAAAAAAOydwAAAAAAAFJ7AAAAAAAAUnsA=",
          "dtype": "f8"
         },
         "yaxis": "y"
        },
        {
         "hoverinfo": "text",
         "marker": {
          "color": "rgb(133,20,75)"
         },
         "mode": "lines",
         "type": "scatter",
         "x": {
          "bdata": "VCb1Dh6l6z8UBDmASrvuPxQEOYBKu+4/eVX3nwwJ6z8=",
          "dtype": "f8"
         },
         "xaxis": "x",
         "y": {
          "bdata": "AAAAAACwncAAAAAAALCdwAAAAAAAAJ7AAAAAAAAAnsA=",
          "dtype": "f8"
         },
         "yaxis": "y"
        },
        {
         "hoverinfo": "text",
         "marker": {
          "color": "rgb(133,20,75)"
         },
         "mode": "lines",
         "type": "scatter",
         "x": {
          "bdata": "AAAAAAAAAADt0TM+NOrrP+3RMz406us/AAAAAAAAAAA=",
          "dtype": "f8"
         },
         "xaxis": "x",
         "y": {
          "bdata": "AAAAAAA8nsAAAAAAADyewAAAAAAAZJ7AAAAAAABknsA=",
          "dtype": "f8"
         },
         "yaxis": "y"
        },
        {
         "hoverinfo": "text",
         "marker": {
          "color": "rgb(133,20,75)"
         },
         "mode": "lines",
         "type": "scatter",
         "x": {
          "bdata": "FAQ5gEq77j+RJ265SezvP5EnbrlJ7O8/7dEzPjTq6z8=",
          "dtype": "f8"
         },
         "xaxis": "x",
         "y": {
          "bdata": "AAAAAADYncAAAAAAANidwAAAAAAAUJ7AAAAAAABQnsA=",
          "dtype": "f8"
         },
         "yaxis": "y"
        },
        {
         "hoverinfo": "text",
         "marker": {
          "color": "rgb(255,220,0)"
         },
         "mode": "lines",
         "type": "scatter",
         "x": {
          "bdata": "AAAAAAAAAADnk/R0wzDuP+eT9HTDMO4/AAAAAAAAAAA=",
          "dtype": "f8"
         },
         "xaxis": "x",
         "y": {
          "bdata": "AAAAAACMnsAAAAAAAIyewAAAAAAAtJ7AAAAAAAC0nsA=",
          "dtype": "f8"
         },
         "yaxis": "y"
        },
        {
         "hoverinfo": "text",
         "marker": {
          "color": "rgb(40,35,35)"
         },
         "mode": "lines",
         "type": "scatter",
         "x": {
          "bdata": "AAAAAAAAAABLK8Z/3/zrP0srxn/f/Os/AAAAAAAAAAA=",
          "dtype": "f8"
         },
         "xaxis": "x",
         "y": {
          "bdata": "AAAAAAAEn8AAAAAAAASfwAAAAAAALJ/AAAAAAAAsn8A=",
          "dtype": "f8"
         },
         "yaxis": "y"
        },
        {
         "hoverinfo": "text",
         "marker": {
          "color": "rgb(40,35,35)"
         },
         "mode": "lines",
         "type": "scatter",
         "x": {
          "bdata": "SyvGf9/86z966N7bt9HsP3ro3tu30ew/AAAAAAAAAAA=",
          "dtype": "f8"
         },
         "xaxis": "x",
         "y": {
          "bdata": "AAAAAAAYn8AAAAAAABifwAAAAAAAVJ/AAAAAAABUn8A=",
          "dtype": "f8"
         },
         "yaxis": "y"
        },
        {
         "hoverinfo": "text",
         "marker": {
          "color": "rgb(40,35,35)"
         },
         "mode": "lines",
         "type": "scatter",
         "x": {
          "bdata": "AAAAAAAAAAAPMcyJANbuPw8xzIkA1u4/euje27fR7D8=",
          "dtype": "f8"
         },
         "xaxis": "x",
         "y": {
          "bdata": "AAAAAADcnsAAAAAAANyewAAAAAAANp/AAAAAAAA2n8A=",
          "dtype": "f8"
         },
         "yaxis": "y"
        },
        {
         "hoverinfo": "text",
         "marker": {
          "color": "rgb(40,35,35)"
         },
         "mode": "lines",
         "type": "scatter",
         "x": {
          "bdata": "AAAAAAAAAAC1l4OSZczsP7WXg5JlzOw/AAAAAAAAAAA=",
          "dtype": "f8"
         },
         "xaxis": "x",
         "y": {
          "bdata": "AAAAAACkn8AAAAAAAKSfwAAAAAAAzJ/AAAAAAADMn8A=",
          "dtype": "f8"
         },
         "yaxis": "y"
        },
        {
         "hoverinfo": "text",
         "marker": {
          "color": "rgb(40,35,35)"
         },
         "mode": "lines",
         "type": "scatter",
         "x": {
          "bdata": "AAAAAAAAAADgaj3hB2PtP+BqPeEHY+0/tZeDkmXM7D8=",
          "dtype": "f8"
         },
         "xaxis": "x",
         "y": {
          "bdata": "AAAAAAB8n8AAAAAAAHyfwAAAAAAAuJ/AAAAAAAC4n8A=",
          "dtype": "f8"
         },
         "yaxis": "y"
        },
        {
         "hoverinfo": "text",
         "marker": {
          "color": "rgb(40,35,35)"
         },
         "mode": "lines",
         "type": "scatter",
         "x": {
          "bdata": "DzHMiQDW7j9Npt8uqBrvP02m3y6oGu8/4Go94Qdj7T8=",
          "dtype": "f8"
         },
         "xaxis": "x",
         "y": {
          "bdata": "AAAAAAAJn8AAAAAAAAmfwAAAAAAAmp/AAAAAAACan8A=",
          "dtype": "f8"
         },
         "yaxis": "y"
        },
        {
         "hoverinfo": "text",
         "marker": {
          "color": "rgb(61,153,112)"
         },
         "mode": "lines",
         "type": "scatter",
         "x": {
          "bdata": "AAAAAAAAAAC7h+nT9WjsP7uH6dP1aOw/AAAAAAAAAAA=",
          "dtype": "f8"
         },
         "xaxis": "x",
         "y": {
          "bdata": "AAAAAAAOoMAAAAAAAA6gwAAAAAAAIqDAAAAAAAAioMA=",
          "dtype": "f8"
         },
         "yaxis": "y"
        },
        {
         "hoverinfo": "text",
         "marker": {
          "color": "rgb(61,153,112)"
         },
         "mode": "lines",
         "type": "scatter",
         "x": {
          "bdata": "u4fp0/Vo7D+Y8l4WXfDsP5jyXhZd8Ow/AAAAAAAAAAA=",
          "dtype": "f8"
         },
         "xaxis": "x",
         "y": {
          "bdata": "AAAAAAAYoMAAAAAAABigwAAAAAAANqDAAAAAAAA2oMA=",
          "dtype": "f8"
         },
         "yaxis": "y"
        },
        {
         "hoverinfo": "text",
         "marker": {
          "color": "rgb(61,153,112)"
         },
         "mode": "lines",
         "type": "scatter",
         "x": {
          "bdata": "AAAAAAAAAADzmoHHiXztP/OagceJfO0/mPJeFl3w7D8=",
          "dtype": "f8"
         },
         "xaxis": "x",
         "y": {
          "bdata": "AAAAAAD0n8AAAAAAAPSfwAAAAAAAJ6DAAAAAAAAnoMA=",
          "dtype": "f8"
         },
         "yaxis": "y"
        },
        {
         "hoverinfo": "text",
         "marker": {
          "color": "rgb(0,116,217)"
         },
         "mode": "lines",
         "type": "scatter",
         "x": {
          "bdata": "TabfLqga7z81BicXyjzwPzUGJxfKPPA/85qBx4l87T8=",
          "dtype": "f8"
         },
         "xaxis": "x",
         "y": {
          "bdata": "AAAAAIBRn8AAAAAAgFGfwAAAAACAEKDAAAAAAIAQoMA=",
          "dtype": "f8"
         },
         "yaxis": "y"
        },
        {
         "hoverinfo": "text",
         "marker": {
          "color": "rgb(255,65,54)"
         },
         "mode": "lines",
         "type": "scatter",
         "x": {
          "bdata": "AAAAAAAAAADwX7XvAifpP/Bfte8CJ+k/AAAAAAAAAAA=",
          "dtype": "f8"
         },
         "xaxis": "x",
         "y": {
          "bdata": "AAAAAABKoMAAAAAAAEqgwAAAAAAAXqDAAAAAAABeoMA=",
          "dtype": "f8"
         },
         "yaxis": "y"
        },
        {
         "hoverinfo": "text",
         "marker": {
          "color": "rgb(255,65,54)"
         },
         "mode": "lines",
         "type": "scatter",
         "x": {
          "bdata": "8F+17wIn6T+X1gPvhXftP5fWA++Fd+0/AAAAAAAAAAA=",
          "dtype": "f8"
         },
         "xaxis": "x",
         "y": {
          "bdata": "AAAAAABUoMAAAAAAAFSgwAAAAAAAcqDAAAAAAAByoMA=",
          "dtype": "f8"
         },
         "yaxis": "y"
        },
        {
         "hoverinfo": "text",
         "marker": {
          "color": "rgb(0,116,217)"
         },
         "mode": "lines",
         "type": "scatter",
         "x": {
          "bdata": "NQYnF8o88D/iyatgH6DwP+LJq2AfoPA/l9YD74V37T8=",
          "dtype": "f8"
         },
         "xaxis": "x",
         "y": {
          "bdata": "AAAAAEC5n8AAAAAAQLmfwAAAAAAAY6DAAAAAAABjoMA=",
          "dtype": "f8"
         },
         "yaxis": "y"
        },
        {
         "hoverinfo": "text",
         "marker": {
          "color": "rgb(0,116,217)"
         },
         "mode": "lines",
         "type": "scatter",
         "x": {
          "bdata": "55P0dMMw7j/b2FQPAs7wP9vYVA8CzvA/4smrYB+g8D8=",
          "dtype": "f8"
         },
         "xaxis": "x",
         "y": {
          "bdata": "AAAAAACgnsAAAAAAAKCewAAAAADQH6DAAAAAANAfoMA=",
          "dtype": "f8"
         },
         "yaxis": "y"
        },
        {
         "hoverinfo": "text",
         "marker": {
          "color": "rgb(35,205,205)"
         },
         "mode": "lines",
         "type": "scatter",
         "x": {
          "bdata": "AAAAAAAAAACRcHcx53XsP5FwdzHndew/AAAAAAAAAAA=",
          "dtype": "f8"
         },
         "xaxis": "x",
         "y": {
          "bdata": "AAAAAACGoMAAAAAAAIagwAAAAAAAmqDAAAAAAACaoMA=",
          "dtype": "f8"
         },
         "yaxis": "y"
        },
        {
         "hoverinfo": "text",
         "marker": {
          "color": "rgb(35,205,205)"
         },
         "mode": "lines",
         "type": "scatter",
         "x": {
          "bdata": "AAAAAAAAAACD3VeeZffqP4PdV55l9+o/AAAAAAAAAAA=",
          "dtype": "f8"
         },
         "xaxis": "x",
         "y": {
          "bdata": "AAAAAADCoMAAAAAAAMKgwAAAAAAA1qDAAAAAAADWoMA=",
          "dtype": "f8"
         },
         "yaxis": "y"
        },
        {
         "hoverinfo": "text",
         "marker": {
          "color": "rgb(35,205,205)"
         },
         "mode": "lines",
         "type": "scatter",
         "x": {
          "bdata": "AAAAAAAAAAAQHO55wUrtPxAc7nnBSu0/g91XnmX36j8=",
          "dtype": "f8"
         },
         "xaxis": "x",
         "y": {
          "bdata": "AAAAAACuoMAAAAAAAK6gwAAAAAAAzKDAAAAAAADMoMA=",
          "dtype": "f8"
         },
         "yaxis": "y"
        },
        {
         "hoverinfo": "text",
         "marker": {
          "color": "rgb(35,205,205)"
         },
         "mode": "lines",
         "type": "scatter",
         "x": {
          "bdata": "kXB3Med17D/NWKozs//vP81YqjOz/+8/EBzuecFK7T8=",
          "dtype": "f8"
         },
         "xaxis": "x",
         "y": {
          "bdata": "AAAAAACQoMAAAAAAAJCgwAAAAAAAvaDAAAAAAAC9oMA=",
          "dtype": "f8"
         },
         "yaxis": "y"
        },
        {
         "hoverinfo": "text",
         "marker": {
          "color": "rgb(0,116,217)"
         },
         "mode": "lines",
         "type": "scatter",
         "x": {
          "bdata": "29hUDwLO8D/prc29uwvyP+mtzb27C/I/zViqM7P/7z8=",
          "dtype": "f8"
         },
         "xaxis": "x",
         "y": {
          "bdata": "AAAAANBvn8AAAAAA0G+fwAAAAACApqDAAAAAAICmoMA=",
          "dtype": "f8"
         },
         "yaxis": "y"
        },
        {
         "hoverinfo": "text",
         "marker": {
          "color": "rgb(61,153,112)"
         },
         "mode": "lines",
         "type": "scatter",
         "x": {
          "bdata": "AAAAAAAAAADwuAh8nfrsP/C4CHyd+uw/AAAAAAAAAAA=",
          "dtype": "f8"
         },
         "xaxis": "x",
         "y": {
          "bdata": "AAAAAADqoMAAAAAAAOqgwAAAAAAA/qDAAAAAAAD+oMA=",
          "dtype": "f8"
         },
         "yaxis": "y"
        },
        {
         "hoverinfo": "text",
         "marker": {
          "color": "rgb(61,153,112)"
         },
         "mode": "lines",
         "type": "scatter",
         "x": {
          "bdata": "AAAAAAAAAAD4rrSvEpbtP/iutK8Slu0/AAAAAAAAAAA=",
          "dtype": "f8"
         },
         "xaxis": "x",
         "y": {
          "bdata": "AAAAAAASocAAAAAAABKhwAAAAAAAJqHAAAAAAAAmocA=",
          "dtype": "f8"
         },
         "yaxis": "y"
        },
        {
         "hoverinfo": "text",
         "marker": {
          "color": "rgb(61,153,112)"
         },
         "mode": "lines",
         "type": "scatter",
         "x": {
          "bdata": "8LgIfJ367D+osBHPI5fuP6iwEc8jl+4/+K60rxKW7T8=",
          "dtype": "f8"
         },
         "xaxis": "x",
         "y": {
          "bdata": "AAAAAAD0oMAAAAAAAPSgwAAAAAAAHKHAAAAAAAAcocA=",
          "dtype": "f8"
         },
         "yaxis": "y"
        },
        {
         "hoverinfo": "text",
         "marker": {
          "color": "rgb(255,65,54)"
         },
         "mode": "lines",
         "type": "scatter",
         "x": {
          "bdata": "AAAAAAAAAABMLRlvYJztP0wtGW9gnO0/AAAAAAAAAAA=",
          "dtype": "f8"
         },
         "xaxis": "x",
         "y": {
          "bdata": "AAAAAAA6ocAAAAAAADqhwAAAAAAATqHAAAAAAABOocA=",
          "dtype": "f8"
         },
         "yaxis": "y"
        },
        {
         "hoverinfo": "text",
         "marker": {
          "color": "rgb(255,65,54)"
         },
         "mode": "lines",
         "type": "scatter",
         "x": {
          "bdata": "TC0Zb2Cc7T//RiwIvsvuP/9GLAi+y+4/AAAAAAAAAAA=",
          "dtype": "f8"
         },
         "xaxis": "x",
         "y": {
          "bdata": "AAAAAABEocAAAAAAAEShwAAAAAAAYqHAAAAAAABiocA=",
          "dtype": "f8"
         },
         "yaxis": "y"
        },
        {
         "hoverinfo": "text",
         "marker": {
          "color": "rgb(255,65,54)"
         },
         "mode": "lines",
         "type": "scatter",
         "x": {
          "bdata": "AAAAAAAAAAC17VBmX1/sP7XtUGZfX+w/AAAAAAAAAAA=",
          "dtype": "f8"
         },
         "xaxis": "x",
         "y": {
          "bdata": "AAAAAAB2ocAAAAAAAHahwAAAAAAAiqHAAAAAAACKocA=",
          "dtype": "f8"
         },
         "yaxis": "y"
        },
        {
         "hoverinfo": "text",
         "marker": {
          "color": "rgb(255,65,54)"
         },
         "mode": "lines",
         "type": "scatter",
         "x": {
          "bdata": "/0YsCL7L7j92gsrcWtPvP3aCytxa0+8/te1QZl9f7D8=",
          "dtype": "f8"
         },
         "xaxis": "x",
         "y": {
          "bdata": "AAAAAABTocAAAAAAAFOhwAAAAAAAgKHAAAAAAACAocA=",
          "dtype": "f8"
         },
         "yaxis": "y"
        },
        {
         "hoverinfo": "text",
         "marker": {
          "color": "rgb(0,116,217)"
         },
         "mode": "lines",
         "type": "scatter",
         "x": {
          "bdata": "qLARzyOX7j829w01wqrwPzb3DTXCqvA/doLK3FrT7z8=",
          "dtype": "f8"
         },
         "xaxis": "x",
         "y": {
          "bdata": "AAAAAAAIocAAAAAAAAihwAAAAACAaaHAAAAAAIBpocA=",
          "dtype": "f8"
         },
         "yaxis": "y"
        },
        {
         "hoverinfo": "text",
         "marker": {
          "color": "rgb(0,116,217)"
         },
         "mode": "lines",
         "type": "scatter",
         "x": {
          "bdata": "6a3NvbsL8j9ndhJ/QVvyP2d2En9BW/I/NvcNNcKq8D8=",
          "dtype": "f8"
         },
         "xaxis": "x",
         "y": {
          "bdata": "AAAAADQvoMAAAAAANC+gwAAAAADAOKHAAAAAAMA4ocA=",
          "dtype": "f8"
         },
         "yaxis": "y"
        },
        {
         "hoverinfo": "text",
         "marker": {
          "color": "rgb(0,116,217)"
         },
         "mode": "lines",
         "type": "scatter",
         "x": {
          "bdata": "kSduuUns7z9X7m6f3z/zP1fubp/fP/M/Z3YSf0Fb8j8=",
          "dtype": "f8"
         },
         "xaxis": "x",
         "y": {
          "bdata": "AAAAAAAUnsAAAAAAABSewAAAAAD6s6DAAAAAAPqzoMA=",
          "dtype": "f8"
         },
         "yaxis": "y"
        },
        {
         "hoverinfo": "text",
         "marker": {
          "color": "rgb(35,205,205)"
         },
         "mode": "lines",
         "type": "scatter",
         "x": {
          "bdata": "AAAAAAAAAAD+Hp0RufjgP/4enRG5+OA/AAAAAAAAAAA=",
          "dtype": "f8"
         },
         "xaxis": "x",
         "y": {
          "bdata": "AAAAAACeocAAAAAAAJ6hwAAAAAAAsqHAAAAAAACyocA=",
          "dtype": "f8"
         },
         "yaxis": "y"
        },
        {
         "hoverinfo": "text",
         "marker": {
          "color": "rgb(133,20,75)"
         },
         "mode": "lines",
         "type": "scatter",
         "x": {
          "bdata": "AAAAAAAAAABvmnhw1OjnP2+aeHDU6Oc/AAAAAAAAAAA=",
          "dtype": "f8"
         },
         "xaxis": "x",
         "y": {
          "bdata": "AAAAAADGocAAAAAAAMahwAAAAAAA2qHAAAAAAADaocA=",
          "dtype": "f8"
         },
         "yaxis": "y"
        },
        {
         "hoverinfo": "text",
         "marker": {
          "color": "rgb(0,116,217)"
         },
         "mode": "lines",
         "type": "scatter",
         "x": {
          "bdata": "/h6dEbn44D84V7qDxS7wPzhXuoPFLvA/b5p4cNTo5z8=",
          "dtype": "f8"
         },
         "xaxis": "x",
         "y": {
          "bdata": "AAAAAACoocAAAAAAAKihwAAAAAAA0KHAAAAAAADQocA=",
          "dtype": "f8"
         },
         "yaxis": "y"
        },
        {
         "hoverinfo": "text",
         "marker": {
          "color": "rgb(0,116,217)"
         },
         "mode": "lines",
         "type": "scatter",
         "x": {
          "bdata": "V+5un98/8z8uRxvY7Fz1Py5HG9jsXPU/OFe6g8Uu8D8=",
          "dtype": "f8"
         },
         "xaxis": "x",
         "y": {
          "bdata": "AAAAAPq9n8AAAAAA+r2fwAAAAAAAvKHAAAAAAAC8ocA=",
          "dtype": "f8"
         },
         "yaxis": "y"
        },
        {
         "hoverinfo": "text",
         "marker": {
          "color": "rgb(0,116,217)"
         },
         "mode": "lines",
         "type": "scatter",
         "x": {
          "bdata": "gcbjIWVr9T+KY0N2l873P4pjQ3aXzvc/Lkcb2Oxc9T8=",
          "dtype": "f8"
         },
         "xaxis": "x",
         "y": {
          "bdata": "AAAAAMBknMAAAAAAwGScwAAAAIB+zaDAAAAAgH7NoMA=",
          "dtype": "f8"
         },
         "yaxis": "y"
        },
        {
         "hoverinfo": "text",
         "marker": {
          "color": "rgb(0,116,217)"
         },
         "mode": "lines",
         "type": "scatter",
         "x": {
          "bdata": "3Mh0WX189D9Ioyk1Hy76P0ijKTUfLvo/imNDdpfO9z8=",
          "dtype": "f8"
         },
         "xaxis": "x",
         "y": {
          "bdata": "AAAAAAAjmcAAAAAAACOZwAAAAIDe/57AAAAAgN7/nsA=",
          "dtype": "f8"
         },
         "yaxis": "y"
        },
        {
         "hoverinfo": "text",
         "marker": {
          "color": "rgb(0,116,217)"
         },
         "mode": "lines",
         "type": "scatter",
         "x": {
          "bdata": "ezwNMNJt6z8z5kuHyUr8PzPmS4fJSvw/SKMpNR8u+j8=",
          "dtype": "f8"
         },
         "xaxis": "x",
         "y": {
          "bdata": "AAAAAMDElsAAAAAAwMSWwAAAAEBvEZzAAAAAQG8RnMA=",
          "dtype": "f8"
         },
         "yaxis": "y"
        },
        {
         "hoverinfo": "text",
         "marker": {
          "color": "rgb(255,220,0)"
         },
         "mode": "lines",
         "type": "scatter",
         "x": {
          "bdata": "AAAAAAAAAAB69ZBUQpvnP3r1kFRCm+c/AAAAAAAAAAA=",
          "dtype": "f8"
         },
         "xaxis": "x",
         "y": {
          "bdata": "AAAAAAACosAAAAAAAAKiwAAAAAAAFqLAAAAAAAAWosA=",
          "dtype": "f8"
         },
         "yaxis": "y"
        },
        {
         "hoverinfo": "text",
         "marker": {
          "color": "rgb(255,220,0)"
         },
         "mode": "lines",
         "type": "scatter",
         "x": {
          "bdata": "AAAAAAAAAADpcQF9M5XqP+lxAX0zleo/evWQVEKb5z8=",
          "dtype": "f8"
         },
         "xaxis": "x",
         "y": {
          "bdata": "AAAAAADuocAAAAAAAO6hwAAAAAAADKLAAAAAAAAMosA=",
          "dtype": "f8"
         },
         "yaxis": "y"
        },
        {
         "hoverinfo": "text",
         "marker": {
          "color": "rgb(40,35,35)"
         },
         "mode": "lines",
         "type": "scatter",
         "x": {
          "bdata": "AAAAAAAAAAASOtxjwL7kPxI63GPAvuQ/AAAAAAAAAAA=",
          "dtype": "f8"
         },
         "xaxis": "x",
         "y": {
          "bdata": "AAAAAAA+osAAAAAAAD6iwAAAAAAAUqLAAAAAAABSosA=",
          "dtype": "f8"
         },
         "yaxis": "y"
        },
        {
         "hoverinfo": "text",
         "marker": {
          "color": "rgb(40,35,35)"
         },
         "mode": "lines",
         "type": "scatter",
         "x": {
          "bdata": "AAAAAAAAAAD3eiWWbkvrP/d6JZZuS+s/EjrcY8C+5D8=",
          "dtype": "f8"
         },
         "xaxis": "x",
         "y": {
          "bdata": "AAAAAAAqosAAAAAAACqiwAAAAAAASKLAAAAAAABIosA=",
          "dtype": "f8"
         },
         "yaxis": "y"
        },
        {
         "hoverinfo": "text",
         "marker": {
          "color": "rgb(40,35,35)"
         },
         "mode": "lines",
         "type": "scatter",
         "x": {
          "bdata": "AAAAAAAAAAAuIpNHQNDlPy4ik0dA0OU/AAAAAAAAAAA=",
          "dtype": "f8"
         },
         "xaxis": "x",
         "y": {
          "bdata": "AAAAAABmosAAAAAAAGaiwAAAAAAAeqLAAAAAAAB6osA=",
          "dtype": "f8"
         },
         "yaxis": "y"
        },
        {
         "hoverinfo": "text",
         "marker": {
          "color": "rgb(40,35,35)"
         },
         "mode": "lines",
         "type": "scatter",
         "x": {
          "bdata": "AAAAAAAAAAD82b9LoIHlP/zZv0uggeU/AAAAAAAAAAA=",
          "dtype": "f8"
         },
         "xaxis": "x",
         "y": {
          "bdata": "AAAAAACiosAAAAAAAKKiwAAAAAAAtqLAAAAAAAC2osA=",
          "dtype": "f8"
         },
         "yaxis": "y"
        },
        {
         "hoverinfo": "text",
         "marker": {
          "color": "rgb(40,35,35)"
         },
         "mode": "lines",
         "type": "scatter",
         "x": {
          "bdata": "AAAAAAAAAABtAJZPkLLoP20Alk+Qsug/AAAAAAAAAAA=",
          "dtype": "f8"
         },
         "xaxis": "x",
         "y": {
          "bdata": "AAAAAADKosAAAAAAAMqiwAAAAAAA3qLAAAAAAADeosA=",
          "dtype": "f8"
         },
         "yaxis": "y"
        },
        {
         "hoverinfo": "text",
         "marker": {
          "color": "rgb(40,35,35)"
         },
         "mode": "lines",
         "type": "scatter",
         "x": {
          "bdata": "/Nm/S6CB5T8/noExKwfqPz+egTErB+o/bQCWT5Cy6D8=",
          "dtype": "f8"
         },
         "xaxis": "x",
         "y": {
          "bdata": "AAAAAACsosAAAAAAAKyiwAAAAAAA1KLAAAAAAADUosA=",
          "dtype": "f8"
         },
         "yaxis": "y"
        },
        {
         "hoverinfo": "text",
         "marker": {
          "color": "rgb(40,35,35)"
         },
         "mode": "lines",
         "type": "scatter",
         "x": {
          "bdata": "AAAAAAAAAAC+qgmmwmzqP76qCabCbOo/P56BMSsH6j8=",
          "dtype": "f8"
         },
         "xaxis": "x",
         "y": {
          "bdata": "AAAAAACOosAAAAAAAI6iwAAAAAAAwKLAAAAAAADAosA=",
          "dtype": "f8"
         },
         "yaxis": "y"
        },
        {
         "hoverinfo": "text",
         "marker": {
          "color": "rgb(40,35,35)"
         },
         "mode": "lines",
         "type": "scatter",
         "x": {
          "bdata": "vqoJpsJs6j/yYcx9hI/rP/JhzH2Ej+s/AAAAAAAAAAA=",
          "dtype": "f8"
         },
         "xaxis": "x",
         "y": {
          "bdata": "AAAAAACnosAAAAAAAKeiwAAAAAAA8qLAAAAAAADyosA=",
          "dtype": "f8"
         },
         "yaxis": "y"
        },
        {
         "hoverinfo": "text",
         "marker": {
          "color": "rgb(40,35,35)"
         },
         "mode": "lines",
         "type": "scatter",
         "x": {
          "bdata": "LiKTR0DQ5T+d/MI9pFnsP538wj2kWew/8mHMfYSP6z8=",
          "dtype": "f8"
         },
         "xaxis": "x",
         "y": {
          "bdata": "AAAAAABwosAAAAAAAHCiwAAAAACAzKLAAAAAAIDMosA=",
          "dtype": "f8"
         },
         "yaxis": "y"
        },
        {
         "hoverinfo": "text",
         "marker": {
          "color": "rgb(40,35,35)"
         },
         "mode": "lines",
         "type": "scatter",
         "x": {
          "bdata": "93ollm5L6z85cEcjtU3vPzlwRyO1Te8/nfzCPaRZ7D8=",
          "dtype": "f8"
         },
         "xaxis": "x",
         "y": {
          "bdata": "AAAAAAA5osAAAAAAADmiwAAAAABAnqLAAAAAAECeosA=",
          "dtype": "f8"
         },
         "yaxis": "y"
        },
        {
         "hoverinfo": "text",
         "marker": {
          "color": "rgb(61,153,112)"
         },
         "mode": "lines",
         "type": "scatter",
         "x": {
          "bdata": "AAAAAAAAAAAwDK+Chw/oPzAMr4KHD+g/AAAAAAAAAAA=",
          "dtype": "f8"
         },
         "xaxis": "x",
         "y": {
          "bdata": "AAAAAAAuo8AAAAAAAC6jwAAAAAAAQqPAAAAAAABCo8A=",
          "dtype": "f8"
         },
         "yaxis": "y"
        },
        {
         "hoverinfo": "text",
         "marker": {
          "color": "rgb(61,153,112)"
         },
         "mode": "lines",
         "type": "scatter",
         "x": {
          "bdata": "AAAAAAAAAADfgFibQvXpP9+AWJtC9ek/MAyvgocP6D8=",
          "dtype": "f8"
         },
         "xaxis": "x",
         "y": {
          "bdata": "AAAAAAAao8AAAAAAABqjwAAAAAAAOKPAAAAAAAA4o8A=",
          "dtype": "f8"
         },
         "yaxis": "y"
        },
        {
         "hoverinfo": "text",
         "marker": {
          "color": "rgb(61,153,112)"
         },
         "mode": "lines",
         "type": "scatter",
         "x": {
          "bdata": "34BYm0L16T/wABjPfjbrP/AAGM9+Nus/AAAAAAAAAAA=",
          "dtype": "f8"
         },
         "xaxis": "x",
         "y": {
          "bdata": "AAAAAAApo8AAAAAAACmjwAAAAAAAVqPAAAAAAABWo8A=",
          "dtype": "f8"
         },
         "yaxis": "y"
        },
        {
         "hoverinfo": "text",
         "marker": {
          "color": "rgb(61,153,112)"
         },
         "mode": "lines",
         "type": "scatter",
         "x": {
          "bdata": "AAAAAAAAAADOLB/5i93sP84sH/mL3ew/8AAYz3426z8=",
          "dtype": "f8"
         },
         "xaxis": "x",
         "y": {
          "bdata": "AAAAAAAGo8AAAAAAAAajwAAAAACAP6PAAAAAAIA/o8A=",
          "dtype": "f8"
         },
         "yaxis": "y"
        },
        {
         "hoverinfo": "text",
         "marker": {
          "color": "rgb(255,65,54)"
         },
         "mode": "lines",
         "type": "scatter",
         "x": {
          "bdata": "AAAAAAAAAABcnK2GwFnrP1ycrYbAWes/AAAAAAAAAAA=",
          "dtype": "f8"
         },
         "xaxis": "x",
         "y": {
          "bdata": "AAAAAABqo8AAAAAAAGqjwAAAAAAAfqPAAAAAAAB+o8A=",
          "dtype": "f8"
         },
         "yaxis": "y"
        },
        {
         "hoverinfo": "text",
         "marker": {
          "color": "rgb(0,116,217)"
         },
         "mode": "lines",
         "type": "scatter",
         "x": {
          "bdata": "ziwf+Yvd7D+OZmAEYy/wP45mYARjL/A/XJythsBZ6z8=",
          "dtype": "f8"
         },
         "xaxis": "x",
         "y": {
          "bdata": "AAAAAMAio8AAAAAAwCKjwAAAAAAAdKPAAAAAAAB0o8A=",
          "dtype": "f8"
         },
         "yaxis": "y"
        },
        {
         "hoverinfo": "text",
         "marker": {
          "color": "rgb(0,116,217)"
         },
         "mode": "lines",
         "type": "scatter",
         "x": {
          "bdata": "OXBHI7VN7z9xA72rQYbxP3EDvatBhvE/jmZgBGMv8D8=",
          "dtype": "f8"
         },
         "xaxis": "x",
         "y": {
          "bdata": "AAAAAKBrosAAAAAAoGuiwAAAAABgS6PAAAAAAGBLo8A=",
          "dtype": "f8"
         },
         "yaxis": "y"
        },
        {
         "hoverinfo": "text",
         "marker": {
          "color": "rgb(0,116,217)"
         },
         "mode": "lines",
         "type": "scatter",
         "x": {
          "bdata": "6XEBfTOV6j/AoEpQGrHyP8CgSlAasfI/cQO9q0GG8T8=",
          "dtype": "f8"
         },
         "xaxis": "x",
         "y": {
          "bdata": "AAAAAAD9ocAAAAAAAP2hwAAAAACA26LAAAAAAIDbosA=",
          "dtype": "f8"
         },
         "yaxis": "y"
        },
        {
         "hoverinfo": "text",
         "marker": {
          "color": "rgb(35,205,205)"
         },
         "mode": "lines",
         "type": "scatter",
         "x": {
          "bdata": "AAAAAAAAAABs2Xm2h7fqP2zZebaHt+o/AAAAAAAAAAA=",
          "dtype": "f8"
         },
         "xaxis": "x",
         "y": {
          "bdata": "AAAAAACmo8AAAAAAAKajwAAAAAAAuqPAAAAAAAC6o8A=",
          "dtype": "f8"
         },
         "yaxis": "y"
        },
        {
         "hoverinfo": "text",
         "marker": {
          "color": "rgb(35,205,205)"
         },
         "mode": "lines",
         "type": "scatter",
         "x": {
          "bdata": "bNl5toe36j8Yg/1ik6jrPxiD/WKTqOs/AAAAAAAAAAA=",
          "dtype": "f8"
         },
         "xaxis": "x",
         "y": {
          "bdata": "AAAAAACwo8AAAAAAALCjwAAAAAAAzqPAAAAAAADOo8A=",
          "dtype": "f8"
         },
         "yaxis": "y"
        },
        {
         "hoverinfo": "text",
         "marker": {
          "color": "rgb(35,205,205)"
         },
         "mode": "lines",
         "type": "scatter",
         "x": {
          "bdata": "AAAAAAAAAABOYceiCt3sP05hx6IK3ew/GIP9YpOo6z8=",
          "dtype": "f8"
         },
         "xaxis": "x",
         "y": {
          "bdata": "AAAAAACSo8AAAAAAAJKjwAAAAAAAv6PAAAAAAAC/o8A=",
          "dtype": "f8"
         },
         "yaxis": "y"
        },
        {
         "hoverinfo": "text",
         "marker": {
          "color": "rgb(61,153,112)"
         },
         "mode": "lines",
         "type": "scatter",
         "x": {
          "bdata": "AAAAAAAAAAAO4b/o6/XrPw7hv+jr9es/AAAAAAAAAAA=",
          "dtype": "f8"
         },
         "xaxis": "x",
         "y": {
          "bdata": "AAAAAADio8AAAAAAAOKjwAAAAAAA9qPAAAAAAAD2o8A=",
          "dtype": "f8"
         },
         "yaxis": "y"
        },
        {
         "hoverinfo": "text",
         "marker": {
          "color": "rgb(61,153,112)"
         },
         "mode": "lines",
         "type": "scatter",
         "x": {
          "bdata": "AAAAAAAAAACWyjlaIEvlP5bKOVogS+U/AAAAAAAAAAA=",
          "dtype": "f8"
         },
         "xaxis": "x",
         "y": {
          "bdata": "AAAAAAAepMAAAAAAAB6kwAAAAAAAMqTAAAAAAAAypMA=",
          "dtype": "f8"
         },
         "yaxis": "y"
        },
        {
         "hoverinfo": "text",
         "marker": {
          "color": "rgb(61,153,112)"
         },
         "mode": "lines",
         "type": "scatter",
         "x": {
          "bdata": "AAAAAAAAAACEexuukw3sP4R7G66TDew/lso5WiBL5T8=",
          "dtype": "f8"
         },
         "xaxis": "x",
         "y": {
          "bdata": "AAAAAAAKpMAAAAAAAAqkwAAAAAAAKKTAAAAAAAAopMA=",
          "dtype": "f8"
         },
         "yaxis": "y"
        },
        {
         "hoverinfo": "text",
         "marker": {
          "color": "rgb(61,153,112)"
         },
         "mode": "lines",
         "type": "scatter",
         "x": {
          "bdata": "hHsbrpMN7D9PfXyZ96/sP099fJn3r+w/AAAAAAAAAAA=",
          "dtype": "f8"
         },
         "xaxis": "x",
         "y": {
          "bdata": "AAAAAAAZpMAAAAAAABmkwAAAAAAARqTAAAAAAABGpMA=",
          "dtype": "f8"
         },
         "yaxis": "y"
        },
        {
         "hoverinfo": "text",
         "marker": {
          "color": "rgb(61,153,112)"
         },
         "mode": "lines",
         "type": "scatter",
         "x": {
          "bdata": "DuG/6Ov16z+CDoS/aU3uP4IOhL9pTe4/T318mfev7D8=",
          "dtype": "f8"
         },
         "xaxis": "x",
         "y": {
          "bdata": "AAAAAADso8AAAAAAAOyjwAAAAACAL6TAAAAAAIAvpMA=",
          "dtype": "f8"
         },
         "yaxis": "y"
        },
        {
         "hoverinfo": "text",
         "marker": {
          "color": "rgb(61,153,112)"
         },
         "mode": "lines",
         "type": "scatter",
         "x": {
          "bdata": "gg6Ev2lN7j+HS127AoTvP4dLXbsChO8/AAAAAAAAAAA=",
          "dtype": "f8"
         },
         "xaxis": "x",
         "y": {
          "bdata": "AAAAAMANpMAAAAAAwA2kwAAAAAAAWqTAAAAAAABapMA=",
          "dtype": "f8"
         },
         "yaxis": "y"
        },
        {
         "hoverinfo": "text",
         "marker": {
          "color": "rgb(0,116,217)"
         },
         "mode": "lines",
         "type": "scatter",
         "x": {
          "bdata": "TmHHogrd7D9yDVg90MvwP3INWD3Qy/A/h0tduwKE7z8=",
          "dtype": "f8"
         },
         "xaxis": "x",
         "y": {
          "bdata": "AAAAAICoo8AAAAAAgKijwAAAAADgM6TAAAAAAOAzpMA=",
          "dtype": "f8"
         },
         "yaxis": "y"
        },
        {
         "hoverinfo": "text",
         "marker": {
          "color": "rgb(0,116,217)"
         },
         "mode": "lines",
         "type": "scatter",
         "x": {
          "bdata": "wKBKUBqx8j+IjRhqN0LzP4iNGGo3QvM/cg1YPdDL8D8=",
          "dtype": "f8"
         },
         "xaxis": "x",
         "y": {
          "bdata": "AAAAAEBsosAAAAAAQGyiwAAAAAAw7qPAAAAAADDuo8A=",
          "dtype": "f8"
         },
         "yaxis": "y"
        },
        {
         "hoverinfo": "text",
         "marker": {
          "color": "rgb(0,116,217)"
         },
         "mode": "lines",
         "type": "scatter",
         "x": {
          "bdata": "M+ZLh8lK/D9/LBu5tUP9P38sG7m1Q/0/iI0YajdC8z8=",
          "dtype": "f8"
         },
         "xaxis": "x",
         "y": {
          "bdata": "AAAAoBdrmcAAAACgF2uZwAAAAAA4LaPAAAAAADgto8A=",
          "dtype": "f8"
         },
         "yaxis": "y"
        },
        {
         "hoverinfo": "text",
         "marker": {
          "color": "rgb(0,116,217)"
         },
         "mode": "lines",
         "type": "scatter",
         "x": {
          "bdata": "WNudjGHH+D+tdnfbIAQBQK12d9sgBAFAfywbubVD/T8=",
          "dtype": "f8"
         },
         "xaxis": "x",
         "y": {
          "bdata": "AAAAAH4aksAAAAAAfhqSwAAAANDD4p/AAAAA0MPin8A=",
          "dtype": "f8"
         },
         "yaxis": "y"
        },
        {
         "hoverinfo": "text",
         "marker": {
          "color": "rgb(0,116,217)"
         },
         "mode": "lines",
         "type": "scatter",
         "x": {
          "bdata": "DK+v90B2/j+Yc4sAJEcHQJhziwAkRwdArXZ32yAEAUA=",
          "dtype": "f8"
         },
         "xaxis": "x",
         "y": {
          "bdata": "AAAAgMiwf8AAAACAyLB/wAAAAOig/pjAAAAA6KD+mMA=",
          "dtype": "f8"
         },
         "yaxis": "y"
        }
       ],
       "layout": {
        "autosize": false,
        "height": 4115,
        "hoverlabel": {
         "bgcolor": "white",
         "font": {
          "family": "Rockwell",
          "size": 16
         }
        },
        "hovermode": "closest",
        "plot_bgcolor": "#ECEFF1",
        "showlegend": false,
        "template": {
         "data": {
          "bar": [
           {
            "error_x": {
             "color": "#2a3f5f"
            },
            "error_y": {
             "color": "#2a3f5f"
            },
            "marker": {
             "line": {
              "color": "white",
              "width": 0.5
             },
             "pattern": {
              "fillmode": "overlay",
              "size": 10,
              "solidity": 0.2
             }
            },
            "type": "bar"
           }
          ],
          "barpolar": [
           {
            "marker": {
             "line": {
              "color": "white",
              "width": 0.5
             },
             "pattern": {
              "fillmode": "overlay",
              "size": 10,
              "solidity": 0.2
             }
            },
            "type": "barpolar"
           }
          ],
          "carpet": [
           {
            "aaxis": {
             "endlinecolor": "#2a3f5f",
             "gridcolor": "#C8D4E3",
             "linecolor": "#C8D4E3",
             "minorgridcolor": "#C8D4E3",
             "startlinecolor": "#2a3f5f"
            },
            "baxis": {
             "endlinecolor": "#2a3f5f",
             "gridcolor": "#C8D4E3",
             "linecolor": "#C8D4E3",
             "minorgridcolor": "#C8D4E3",
             "startlinecolor": "#2a3f5f"
            },
            "type": "carpet"
           }
          ],
          "choropleth": [
           {
            "colorbar": {
             "outlinewidth": 0,
             "ticks": ""
            },
            "type": "choropleth"
           }
          ],
          "contour": [
           {
            "colorbar": {
             "outlinewidth": 0,
             "ticks": ""
            },
            "colorscale": [
             [
              0,
              "#0d0887"
             ],
             [
              0.1111111111111111,
              "#46039f"
             ],
             [
              0.2222222222222222,
              "#7201a8"
             ],
             [
              0.3333333333333333,
              "#9c179e"
             ],
             [
              0.4444444444444444,
              "#bd3786"
             ],
             [
              0.5555555555555556,
              "#d8576b"
             ],
             [
              0.6666666666666666,
              "#ed7953"
             ],
             [
              0.7777777777777778,
              "#fb9f3a"
             ],
             [
              0.8888888888888888,
              "#fdca26"
             ],
             [
              1,
              "#f0f921"
             ]
            ],
            "type": "contour"
           }
          ],
          "contourcarpet": [
           {
            "colorbar": {
             "outlinewidth": 0,
             "ticks": ""
            },
            "type": "contourcarpet"
           }
          ],
          "heatmap": [
           {
            "colorbar": {
             "outlinewidth": 0,
             "ticks": ""
            },
            "colorscale": [
             [
              0,
              "#0d0887"
             ],
             [
              0.1111111111111111,
              "#46039f"
             ],
             [
              0.2222222222222222,
              "#7201a8"
             ],
             [
              0.3333333333333333,
              "#9c179e"
             ],
             [
              0.4444444444444444,
              "#bd3786"
             ],
             [
              0.5555555555555556,
              "#d8576b"
             ],
             [
              0.6666666666666666,
              "#ed7953"
             ],
             [
              0.7777777777777778,
              "#fb9f3a"
             ],
             [
              0.8888888888888888,
              "#fdca26"
             ],
             [
              1,
              "#f0f921"
             ]
            ],
            "type": "heatmap"
           }
          ],
          "histogram": [
           {
            "marker": {
             "pattern": {
              "fillmode": "overlay",
              "size": 10,
              "solidity": 0.2
             }
            },
            "type": "histogram"
           }
          ],
          "histogram2d": [
           {
            "colorbar": {
             "outlinewidth": 0,
             "ticks": ""
            },
            "colorscale": [
             [
              0,
              "#0d0887"
             ],
             [
              0.1111111111111111,
              "#46039f"
             ],
             [
              0.2222222222222222,
              "#7201a8"
             ],
             [
              0.3333333333333333,
              "#9c179e"
             ],
             [
              0.4444444444444444,
              "#bd3786"
             ],
             [
              0.5555555555555556,
              "#d8576b"
             ],
             [
              0.6666666666666666,
              "#ed7953"
             ],
             [
              0.7777777777777778,
              "#fb9f3a"
             ],
             [
              0.8888888888888888,
              "#fdca26"
             ],
             [
              1,
              "#f0f921"
             ]
            ],
            "type": "histogram2d"
           }
          ],
          "histogram2dcontour": [
           {
            "colorbar": {
             "outlinewidth": 0,
             "ticks": ""
            },
            "colorscale": [
             [
              0,
              "#0d0887"
             ],
             [
              0.1111111111111111,
              "#46039f"
             ],
             [
              0.2222222222222222,
              "#7201a8"
             ],
             [
              0.3333333333333333,
              "#9c179e"
             ],
             [
              0.4444444444444444,
              "#bd3786"
             ],
             [
              0.5555555555555556,
              "#d8576b"
             ],
             [
              0.6666666666666666,
              "#ed7953"
             ],
             [
              0.7777777777777778,
              "#fb9f3a"
             ],
             [
              0.8888888888888888,
              "#fdca26"
             ],
             [
              1,
              "#f0f921"
             ]
            ],
            "type": "histogram2dcontour"
           }
          ],
          "mesh3d": [
           {
            "colorbar": {
             "outlinewidth": 0,
             "ticks": ""
            },
            "type": "mesh3d"
           }
          ],
          "parcoords": [
           {
            "line": {
             "colorbar": {
              "outlinewidth": 0,
              "ticks": ""
             }
            },
            "type": "parcoords"
           }
          ],
          "pie": [
           {
            "automargin": true,
            "type": "pie"
           }
          ],
          "scatter": [
           {
            "fillpattern": {
             "fillmode": "overlay",
             "size": 10,
             "solidity": 0.2
            },
            "type": "scatter"
           }
          ],
          "scatter3d": [
           {
            "line": {
             "colorbar": {
              "outlinewidth": 0,
              "ticks": ""
             }
            },
            "marker": {
             "colorbar": {
              "outlinewidth": 0,
              "ticks": ""
             }
            },
            "type": "scatter3d"
           }
          ],
          "scattercarpet": [
           {
            "marker": {
             "colorbar": {
              "outlinewidth": 0,
              "ticks": ""
             }
            },
            "type": "scattercarpet"
           }
          ],
          "scattergeo": [
           {
            "marker": {
             "colorbar": {
              "outlinewidth": 0,
              "ticks": ""
             }
            },
            "type": "scattergeo"
           }
          ],
          "scattergl": [
           {
            "marker": {
             "colorbar": {
              "outlinewidth": 0,
              "ticks": ""
             }
            },
            "type": "scattergl"
           }
          ],
          "scattermap": [
           {
            "marker": {
             "colorbar": {
              "outlinewidth": 0,
              "ticks": ""
             }
            },
            "type": "scattermap"
           }
          ],
          "scattermapbox": [
           {
            "marker": {
             "colorbar": {
              "outlinewidth": 0,
              "ticks": ""
             }
            },
            "type": "scattermapbox"
           }
          ],
          "scatterpolar": [
           {
            "marker": {
             "colorbar": {
              "outlinewidth": 0,
              "ticks": ""
             }
            },
            "type": "scatterpolar"
           }
          ],
          "scatterpolargl": [
           {
            "marker": {
             "colorbar": {
              "outlinewidth": 0,
              "ticks": ""
             }
            },
            "type": "scatterpolargl"
           }
          ],
          "scatterternary": [
           {
            "marker": {
             "colorbar": {
              "outlinewidth": 0,
              "ticks": ""
             }
            },
            "type": "scatterternary"
           }
          ],
          "surface": [
           {
            "colorbar": {
             "outlinewidth": 0,
             "ticks": ""
            },
            "colorscale": [
             [
              0,
              "#0d0887"
             ],
             [
              0.1111111111111111,
              "#46039f"
             ],
             [
              0.2222222222222222,
              "#7201a8"
             ],
             [
              0.3333333333333333,
              "#9c179e"
             ],
             [
              0.4444444444444444,
              "#bd3786"
             ],
             [
              0.5555555555555556,
              "#d8576b"
             ],
             [
              0.6666666666666666,
              "#ed7953"
             ],
             [
              0.7777777777777778,
              "#fb9f3a"
             ],
             [
              0.8888888888888888,
              "#fdca26"
             ],
             [
              1,
              "#f0f921"
             ]
            ],
            "type": "surface"
           }
          ],
          "table": [
           {
            "cells": {
             "fill": {
              "color": "#EBF0F8"
             },
             "line": {
              "color": "white"
             }
            },
            "header": {
             "fill": {
              "color": "#C8D4E3"
             },
             "line": {
              "color": "white"
             }
            },
            "type": "table"
           }
          ]
         },
         "layout": {
          "annotationdefaults": {
           "arrowcolor": "#2a3f5f",
           "arrowhead": 0,
           "arrowwidth": 1
          },
          "autotypenumbers": "strict",
          "coloraxis": {
           "colorbar": {
            "outlinewidth": 0,
            "ticks": ""
           }
          },
          "colorscale": {
           "diverging": [
            [
             0,
             "#8e0152"
            ],
            [
             0.1,
             "#c51b7d"
            ],
            [
             0.2,
             "#de77ae"
            ],
            [
             0.3,
             "#f1b6da"
            ],
            [
             0.4,
             "#fde0ef"
            ],
            [
             0.5,
             "#f7f7f7"
            ],
            [
             0.6,
             "#e6f5d0"
            ],
            [
             0.7,
             "#b8e186"
            ],
            [
             0.8,
             "#7fbc41"
            ],
            [
             0.9,
             "#4d9221"
            ],
            [
             1,
             "#276419"
            ]
           ],
           "sequential": [
            [
             0,
             "#0d0887"
            ],
            [
             0.1111111111111111,
             "#46039f"
            ],
            [
             0.2222222222222222,
             "#7201a8"
            ],
            [
             0.3333333333333333,
             "#9c179e"
            ],
            [
             0.4444444444444444,
             "#bd3786"
            ],
            [
             0.5555555555555556,
             "#d8576b"
            ],
            [
             0.6666666666666666,
             "#ed7953"
            ],
            [
             0.7777777777777778,
             "#fb9f3a"
            ],
            [
             0.8888888888888888,
             "#fdca26"
            ],
            [
             1,
             "#f0f921"
            ]
           ],
           "sequentialminus": [
            [
             0,
             "#0d0887"
            ],
            [
             0.1111111111111111,
             "#46039f"
            ],
            [
             0.2222222222222222,
             "#7201a8"
            ],
            [
             0.3333333333333333,
             "#9c179e"
            ],
            [
             0.4444444444444444,
             "#bd3786"
            ],
            [
             0.5555555555555556,
             "#d8576b"
            ],
            [
             0.6666666666666666,
             "#ed7953"
            ],
            [
             0.7777777777777778,
             "#fb9f3a"
            ],
            [
             0.8888888888888888,
             "#fdca26"
            ],
            [
             1,
             "#f0f921"
            ]
           ]
          },
          "colorway": [
           "#636efa",
           "#EF553B",
           "#00cc96",
           "#ab63fa",
           "#FFA15A",
           "#19d3f3",
           "#FF6692",
           "#B6E880",
           "#FF97FF",
           "#FECB52"
          ],
          "font": {
           "color": "#2a3f5f"
          },
          "geo": {
           "bgcolor": "white",
           "lakecolor": "white",
           "landcolor": "white",
           "showlakes": true,
           "showland": true,
           "subunitcolor": "#C8D4E3"
          },
          "hoverlabel": {
           "align": "left"
          },
          "hovermode": "closest",
          "mapbox": {
           "style": "light"
          },
          "paper_bgcolor": "white",
          "plot_bgcolor": "white",
          "polar": {
           "angularaxis": {
            "gridcolor": "#EBF0F8",
            "linecolor": "#EBF0F8",
            "ticks": ""
           },
           "bgcolor": "white",
           "radialaxis": {
            "gridcolor": "#EBF0F8",
            "linecolor": "#EBF0F8",
            "ticks": ""
           }
          },
          "scene": {
           "xaxis": {
            "backgroundcolor": "white",
            "gridcolor": "#DFE8F3",
            "gridwidth": 2,
            "linecolor": "#EBF0F8",
            "showbackground": true,
            "ticks": "",
            "zerolinecolor": "#EBF0F8"
           },
           "yaxis": {
            "backgroundcolor": "white",
            "gridcolor": "#DFE8F3",
            "gridwidth": 2,
            "linecolor": "#EBF0F8",
            "showbackground": true,
            "ticks": "",
            "zerolinecolor": "#EBF0F8"
           },
           "zaxis": {
            "backgroundcolor": "white",
            "gridcolor": "#DFE8F3",
            "gridwidth": 2,
            "linecolor": "#EBF0F8",
            "showbackground": true,
            "ticks": "",
            "zerolinecolor": "#EBF0F8"
           }
          },
          "shapedefaults": {
           "line": {
            "color": "#2a3f5f"
           }
          },
          "ternary": {
           "aaxis": {
            "gridcolor": "#DFE8F3",
            "linecolor": "#A2B1C6",
            "ticks": ""
           },
           "baxis": {
            "gridcolor": "#DFE8F3",
            "linecolor": "#A2B1C6",
            "ticks": ""
           },
           "bgcolor": "white",
           "caxis": {
            "gridcolor": "#DFE8F3",
            "linecolor": "#A2B1C6",
            "ticks": ""
           }
          },
          "title": {
           "x": 0.05
          },
          "xaxis": {
           "automargin": true,
           "gridcolor": "#EBF0F8",
           "linecolor": "#EBF0F8",
           "ticks": "",
           "title": {
            "standoff": 15
           },
           "zerolinecolor": "#EBF0F8",
           "zerolinewidth": 2
          },
          "yaxis": {
           "automargin": true,
           "gridcolor": "#EBF0F8",
           "linecolor": "#EBF0F8",
           "ticks": "",
           "title": {
            "standoff": 15
           },
           "zerolinecolor": "#EBF0F8",
           "zerolinewidth": 2
          }
         }
        },
        "title": {
         "font": {
          "color": "Black",
          "size": 22
         },
         "text": "<b>Hierarchical Clustering</b>",
         "x": 0.5,
         "xanchor": "center",
         "yanchor": "top"
        },
        "width": 1000,
        "xaxis": {
         "mirror": "allticks",
         "rangemode": "tozero",
         "showgrid": false,
         "showline": true,
         "showticklabels": true,
         "ticks": "outside",
         "type": "linear",
         "zeroline": false
        },
        "yaxis": {
         "mirror": "allticks",
         "range": [
          -2610,
          0
         ],
         "rangemode": "tozero",
         "showgrid": false,
         "showline": true,
         "showticklabels": true,
         "tickmode": "array",
         "ticks": "outside",
         "ticktext": [
          "117_fabulous_pr_enjoy",
          "254_ever_accross_futuristic",
          "136_ever_bounciest_worn",
          "196_life_ever_wishes",
          "121_promos_best_ever",
          "42_ever_best_purchase",
          "227_loved_purchase_ever",
          "47_purchase_compliments_100",
          "170_apprécie_tho_pricey",
          "208_afford_fun_pricey",
          "223_price_51_gooooood",
          "15_black_price_collector",
          "23_value_hundred_purchase",
          "79_would_buy_tx",
          "67_pair_another_buy",
          "160_definitely_worth_respect",
          "124_sneakers_white_person",
          "214_formidable_cool_awesome",
          "44_nice_comoda_black",
          "33_fit_looks_comfortable",
          "175_sneaker_flexible_others",
          "181_smash_compliments_streets",
          "193_color_white_love",
          "1_color_colors_love",
          "165_stripes_colors_walking",
          "18_love_amazing_like",
          "131_love_sneakers_nana",
          "152_collecting_tune_love",
          "134_immmeanse_longs_preferred",
          "228_abysmal_dreadful_despised",
          "62_adidas_classic_jad",
          "6_adidas_sempre_prodotti",
          "97_adidas_star_okay",
          "140_adidas_sweatsuits_purch...",
          "112_adidas_secret_beats",
          "108_gift_purchase_boyfriend",
          "201_gift_loves_daughter",
          "218_loves_employee_gift",
          "173_wife_loves_moglie",
          "178_clouds_nuages_impression",
          "167_cloud_additional_clouds",
          "143_cloud_odd_energy",
          "233_fly_theres_flaws",
          "217_sen_takumi_5k",
          "123_10k_5k_distance",
          "240_racing_outsole_168cm",
          "222_ran_comfy_yet",
          "37_ran_miami_bouncy",
          "127_strong_previous_stride",
          "161_phantom_recurrence_mara...",
          "114_partner_felt_amazing",
          "249_second_2nd_casually",
          "255_concept_first_exhausted",
          "239_marathoners_raced_extend",
          "141_marathon_ml_ride",
          "116_starter_conversation_be...",
          "110_runner_bright_unparalle...",
          "179_superb_lond_weapon",
          "234_purpose_hardcore_adjusted",
          "122_motion_tokyo_max",
          "232_resolved_issue_cancelled",
          "242_miracle_version1_ankylo...",
          "209_carbons_carbon_flat",
          "111_v1_strung_prime",
          "148_height_stack_uneven",
          "180_terrex_trail_premières",
          "188_x2_takes_make",
          "132_plate_cushioning_custom...",
          "253_low_sl2_ultraboost",
          "204_rubber_alternatively_co...",
          "150_checks_cercando_pros",
          "225_tien_testés_safe",
          "186_insane_kinda_faster",
          "207_correre_outdoor_battuti",
          "88_functionality_certainly_...",
          "81_feet_ultraboost21_adistar3",
          "78_marshmallow_hurt_splints",
          "169_genou_bottoms_rubs",
          "210_bouncy_hustling_treadmi...",
          "252_husband_space_alot",
          "20_daily_stone_path",
          "30_comfy_hitt_light",
          "46_runtraining_üëé_running",
          "203_lightweight_pratica_imp...",
          "205_weight_stuck_string",
          "133_weight_ânorme_poids",
          "51_trainers_trainer_superla...",
          "164_trainer_colour_trainers",
          "241_round_rise_daily",
          "251_companion_training_ride",
          "113_cut_foot_size",
          "197_size_half_small",
          "8_size_12_half",
          "68_adidas_size_ordered",
          "220_comes_taglia_size",
          "31_taille_bigger_small",
          "244_eur_size_clean",
          "216_taille_outlook_pinched",
          "91_fuoriesca_stretta_centro",
          "109_38_habituellement_numero",
          "236_40_39_today",
          "126_left_troppo_foot",
          "159_gym_workout_treadmill",
          "54_gym_palestra_workout",
          "106_palestra_gym_articoli",
          "162_palestra_leggerezza_con...",
          "187_palestra_salle_activité",
          "35_salle_sport_commencer",
          "93_marcher_marche_sufficien...",
          "55_passeggiate_fotting_nicee",
          "24_turns_ville_dislocated",
          "52_camminata_camminare_fare",
          "34_confortables_walking_pas...",
          "247_giovani_dura_çπ",
          "212_rainy_season_giornaliero",
          "57_comoda_leggera_camminate",
          "13_allenamenti_modelo_allen...",
          "120_leggera_rapporto_qualit...",
          "80_consigliamo_comoda_bella",
          "72_reattiva_veloci_abbassiamo",
          "85_cara_vale_trovata",
          "219_00_comodo_walking",
          "138_walking_walk_ergonomiche",
          "5_suggestion_purchase_stairs",
          "0_running_prezzo_corsa",
          "22_surprinsingly_condizioni...",
          "176_passeggiate_qualità_rap...",
          "135_camminare_summer_cammin...",
          "190_estate_fresche_estiva",
          "157_leggere_comode_conforte...",
          "27_economiche_leggere_comode",
          "36_leggere_prodotto_buon",
          "258_sconto_costano_economica",
          "98_product_precise_superb",
          "171_firm_mushy_pillow",
          "163_consiglio_ottimo_acquisto",
          "103_consegna_tempi_spedizione",
          "84_compromesso_buon_rapport",
          "38_rapporto_qualità_rapport",
          "28_prezzo_buon_prodotto",
          "142_prodotto_prezzo_basso",
          "147_conveniente_bargain_ott...",
          "245_conveniente_prezzo_legg...",
          "130_troppe_pretese_prretese",
          "221_corsa_qualité_commentai...",
          "158_considering_produit_qua...",
          "231_rapport_qualité_besoins",
          "215_rapport_qualité_article",
          "174_rapport_qualité_prix",
          "83_rapport_qualité_prix",
          "259_souples_amorties_absorber",
          "43_légères_opinions_hang",
          "229_rimanendo_bold_terreni",
          "65_sport_salle_idéal",
          "66_agréablement_sens_chauss...",
          "49_agréable_légère_légères",
          "235_légères_basketts_faciles",
          "101_confortable_bonne_accro...",
          "21_confortable_confortables...",
          "70_pied_lignes_aérodynamique",
          "256_runnings_courrir_sûrement",
          "50_parfait_course_parfaite",
          "200_bed_memory_correct",
          "58_convenant_parfaitement_p...",
          "77_aiutarti_qualcuno_princi...",
          "41_electricity_hit_course",
          "146_bonnes_tres_maintiennent",
          "115_nordique_marche_automne",
          "125_qualitàunica_equilibrar...",
          "3_trail_montagne_randonnée",
          "2_trail_accroche_excellente",
          "202_accidenté_park_trail",
          "189_utilise_travail_perfetto",
          "4_work_day_giorno",
          "145_aussitôtt_régulièrement...",
          "246_toujours_fà_attendues",
          "194_contente_achat_soddisfa...",
          "199_winner_prior_happy",
          "53_correction_fois_acquistato",
          "48_deuxième_paire_achète",
          "151_terzo_compro_paio",
          "82_paio_versions_secondo",
          "64_üëè_paio_garda",
          "39_fille_daughter_figlia",
          "89_fille_fils_adore",
          "10_fils_figlio_loves",
          "206_figlio_fils_sûre",
          "166_scuola_ginnastica_figlio",
          "75_scuola_sport_educazione",
          "149_muglio_scuro_rifinita",
          "105_bella_purple_lavender",
          "230_combination_colors_color",
          "243_carenti_salon_beautifull",
          "99_couleur_orange_pink",
          "155_rose_femmes_pourquoi",
          "248_kalenji_uomo_grigie",
          "250_typically_buone_vieilli...",
          "182_savona_fourth_adopter",
          "25_decathlon_soddisfatta_adp3",
          "96_works_padding_breaker",
          "168_porto_comprato_realtà",
          "45_gd_ottime_selection",
          "154_designe_design_nice",
          "153_design_carino_photos",
          "69_fitting_cheaply_product",
          "59_chère_wise_chères",
          "198_carefull_numero_buon",
          "118_lento_perònon_corto",
          "172_pianta_larga_plantare",
          "60_scarpetta_po_stretta",
          "156_solves_retina_dita",
          "195_mark_give_women",
          "71_léger_agrippe_produit",
          "129_conseillé_produit_forte...",
          "61_attentes_répond_produit",
          "26_voir_manque_correspond",
          "191_tied_ankle_heavy",
          "95_version_plastic_1st",
          "184_200_hits_poor",
          "257_podiatrist_175lbs_alien",
          "128_qualitée_trouvèmieux_lo...",
          "183_insodisfacente_2m_déçu",
          "137_refund_package_service",
          "40_uncomfortable_waste_ball",
          "211_entr_stringe_supporto",
          "7_months_within_torn",
          "19_bad_damaged_within",
          "192_decathlon_worst_guarantee",
          "213_decathlon_products_anno...",
          "144_pioggia_scivolosa_scivo...",
          "16_pluie_bagnato_wet",
          "100_boue_humide_glissade",
          "74_revêtement_semaines_désa...",
          "32_semelle_glissante_usure",
          "90_semelle_semelles_pierres",
          "237_kd900_ks900_kd",
          "29_kiprun_kd900x_kd900",
          "224_plus_part_espéré",
          "63_xt7_xt8_paires",
          "12_trail_xt8_trails",
          "86_boue_secures_booty",
          "102_faites_peut_vrais",
          "56_route_compteur_fère",
          "177_moyen_38_800",
          "9_correre_sessions_training",
          "11_marathon_kept_records",
          "17_semaine_km_corse",
          "104_adepte_greta_puts",
          "185_cleaning_raison_distances",
          "238_premières_abords_mois",
          "87_laces_tiny_roomy",
          "94_contrefort_entrambe_laces",
          "14_nu_douleur_courant",
          "73_lacets_troppo_crea",
          "107_numerous_dogs_lacing",
          "76_pxs1_became_1k",
          "92_draft_lengthy_flashier",
          "119_déçu_ampoules_talon",
          "139_ampoules_ampoule_sortie",
          "260_protrusion_kg_acquistero",
          "226_grosse_bloccato_innovat..."
         ],
         "tickvals": [
          -5,
          -15,
          -25,
          -35,
          -45,
          -55,
          -65,
          -75,
          -85,
          -95,
          -105,
          -115,
          -125,
          -135,
          -145,
          -155,
          -165,
          -175,
          -185,
          -195,
          -205,
          -215,
          -225,
          -235,
          -245,
          -255,
          -265,
          -275,
          -285,
          -295,
          -305,
          -315,
          -325,
          -335,
          -345,
          -355,
          -365,
          -375,
          -385,
          -395,
          -405,
          -415,
          -425,
          -435,
          -445,
          -455,
          -465,
          -475,
          -485,
          -495,
          -505,
          -515,
          -525,
          -535,
          -545,
          -555,
          -565,
          -575,
          -585,
          -595,
          -605,
          -615,
          -625,
          -635,
          -645,
          -655,
          -665,
          -675,
          -685,
          -695,
          -705,
          -715,
          -725,
          -735,
          -745,
          -755,
          -765,
          -775,
          -785,
          -795,
          -805,
          -815,
          -825,
          -835,
          -845,
          -855,
          -865,
          -875,
          -885,
          -895,
          -905,
          -915,
          -925,
          -935,
          -945,
          -955,
          -965,
          -975,
          -985,
          -995,
          -1005,
          -1015,
          -1025,
          -1035,
          -1045,
          -1055,
          -1065,
          -1075,
          -1085,
          -1095,
          -1105,
          -1115,
          -1125,
          -1135,
          -1145,
          -1155,
          -1165,
          -1175,
          -1185,
          -1195,
          -1205,
          -1215,
          -1225,
          -1235,
          -1245,
          -1255,
          -1265,
          -1275,
          -1285,
          -1295,
          -1305,
          -1315,
          -1325,
          -1335,
          -1345,
          -1355,
          -1365,
          -1375,
          -1385,
          -1395,
          -1405,
          -1415,
          -1425,
          -1435,
          -1445,
          -1455,
          -1465,
          -1475,
          -1485,
          -1495,
          -1505,
          -1515,
          -1525,
          -1535,
          -1545,
          -1555,
          -1565,
          -1575,
          -1585,
          -1595,
          -1605,
          -1615,
          -1625,
          -1635,
          -1645,
          -1655,
          -1665,
          -1675,
          -1685,
          -1695,
          -1705,
          -1715,
          -1725,
          -1735,
          -1745,
          -1755,
          -1765,
          -1775,
          -1785,
          -1795,
          -1805,
          -1815,
          -1825,
          -1835,
          -1845,
          -1855,
          -1865,
          -1875,
          -1885,
          -1895,
          -1905,
          -1915,
          -1925,
          -1935,
          -1945,
          -1955,
          -1965,
          -1975,
          -1985,
          -1995,
          -2005,
          -2015,
          -2025,
          -2035,
          -2045,
          -2055,
          -2065,
          -2075,
          -2085,
          -2095,
          -2105,
          -2115,
          -2125,
          -2135,
          -2145,
          -2155,
          -2165,
          -2175,
          -2185,
          -2195,
          -2205,
          -2215,
          -2225,
          -2235,
          -2245,
          -2255,
          -2265,
          -2275,
          -2285,
          -2295,
          -2305,
          -2315,
          -2325,
          -2335,
          -2345,
          -2355,
          -2365,
          -2375,
          -2385,
          -2395,
          -2405,
          -2415,
          -2425,
          -2435,
          -2445,
          -2455,
          -2465,
          -2475,
          -2485,
          -2495,
          -2505,
          -2515,
          -2525,
          -2535,
          -2545,
          -2555,
          -2565,
          -2575,
          -2585,
          -2595,
          -2605
         ],
         "type": "linear",
         "zeroline": false
        }
       }
      }
     },
     "metadata": {},
     "output_type": "display_data"
    }
   ],
   "source": [
    "# Visualize the hierarchical topics\n",
    "topic_model_mpnet.hierarchical_topics(texts_mpnet)\n",
    "topic_model_mpnet.visualize_hierarchy()\n"
   ]
  },
  {
   "cell_type": "code",
   "execution_count": 48,
   "metadata": {},
   "outputs": [
    {
     "name": "stdout",
     "output_type": "stream",
     "text": [
      "------ Topic Quality Evaluation ------\n",
      "Number of topics found      : 261\n",
      "Silhouette score (UMAP space): 0.0382\n",
      "Percentage of noise (–1 topic): 33.68%\n",
      "\n",
      "Top words per topic:\n",
      "Topic -1: ['great', 'très', 'comfortable', 'good', 'super', 'size', 'running', 'feet', 'elles', 'run']\n",
      "Topic 0: ['running', 'prezzo', 'corsa', 'purchase', 'rapporto', 'donna', 'correre', 'qualità', 'price', 'jogging']\n",
      "Topic 1: ['color', 'colors', 'love', 'colore', 'design', 'looks', 'couleurs', 'colour', 'purchase', 'comfortable']\n",
      "Topic 2: ['trail', 'accroche', 'excellente', 'bonne', 'terrain', 'boueux', 'hiking', 'trekking', 'grip', 'forêt']\n",
      "Topic 3: ['trail', 'montagne', 'randonnée', 'utilisé', 'forêt', 'terrain', 'randonnées', 'chemins', 'trails', 'grip']\n",
      "Topic 4: ['work', 'day', 'giorno', 'giorni', 'everyday', 'utilise', 'jours', 'every', 'comoda', 'ore']\n",
      "Topic 5: ['suggestion', 'purchase', 'stairs', 'example', 'climbing', 'next', 'london', 'jogging', 'rapporto', 'year']\n",
      "Topic 6: ['adidas', 'sempre', 'prodotti', 'always', 'garanzia', 'brand', 'qualita', 'acquisto', 'scontato', 'saldo']\n",
      "Topic 7: ['months', 'within', 'torn', 'bad', 'poor', 'warranty', 'month', 'damaged', 'broken', 'quality']\n",
      "Topic 8: ['size', '12', 'half', 'taglia', 'boston', 'little', 'small', 'compared', 'narrow', 'smaller']\n",
      "Topic 9: ['correre', 'sessions', 'training', 'dor', 'longy', 'official', 'course', 'üèª', 'énergie', 'corsa']\n",
      "Topic 10: ['fils', 'figlio', 'loves', 'dad', 'enfant', 'adore', 'content', 'heureux', 'kid', 'ado']\n",
      "Topic 11: ['marathon', 'kept', 'records', 'pieds', 'run', '30', 'legs', 'first', 'coureur', 'km']\n",
      "Topic 12: ['trail', 'xt8', 'trails', 'evadict', 'accroche', 'üíø', 'seemingly', 'terrain', 'après', 'xt7']\n",
      "Topic 13: ['allenamenti', 'modelo', 'allenamento', 'palestra', 'consigliata', 'reattivitàbasata', 'el', 'ammortizzata', 'comoda', 'sport']\n",
      "Topic 14: ['nu', 'douleur', 'courant', 'pied', 'mal', 'male', 'dessus', 'piede', 'blessent', 'parfois']\n",
      "Topic 15: ['black', 'price', 'collector', 'gem', 'deal', 'friday', 'great', 'looking', 'definitely', 'sale']\n",
      "Topic 16: ['pluie', 'bagnato', 'wet', 'slippery', 'pieds', 'humide', 'trempés', 'pleut', 'adherence', 'scivolosa']\n",
      "Topic 17: ['semaine', 'km', 'corse', 'brevi', 'defenitely', 'débuter', '10', 'cheating', 'pratique', 'min']\n",
      "Topic 18: ['love', 'amazing', 'like', 'comfortable', 'loved', 'sneaker', 'technology', 'beautiful', 'response', 'fit']\n",
      "Topic 19: ['bad', 'damaged', 'within', 'worst', 'months', 'month', 'quality', 'mesh', 'poor', 'torn']\n",
      "Topic 20: ['daily', 'stone', 'path', 'brick', 'leggera', 'leggere', 'jog', 'walking', 'everything', 'feet']\n",
      "Topic 21: ['confortable', 'confortables', 'accroche', 'solides', 'amorti', 'très', 'elegant', 'satisfaite', 'simpatica', 'agréable']\n",
      "Topic 22: ['surprinsingly', 'condizioni', 'poppy', 'honest', 'traspirazione', 'gambe', 'ottimo', 'walking', 'rapporto', 'senti']\n",
      "Topic 23: ['value', 'hundred', 'purchase', 'percent', 'price', 'abit', 'worth', 'money', 'buy', 'style']\n",
      "Topic 24: ['turns', 'ville', 'dislocated', 'utilisées', 'marche', 'pavement', 'camminare', 'città', 'bonnes', 'camminata']\n",
      "Topic 25: ['decathlon', 'soddisfatta', 'adp3', 'acquistate', 'usare', 'palestra', 'satisfait', 'approfittate', 'baissé', 'lurveeeee']\n",
      "Topic 26: ['voir', 'manque', 'correspond', 'temps', 'attends', 'enfiler', 'moment', 'satisfaite', 'instant', 'dommage']\n",
      "Topic 27: ['economiche', 'leggere', 'comode', 'affordable', 'ekiden', 'minimalistes', 'molto', 'sterrata', 'bell', 'affordability']\n",
      "Topic 28: ['prezzo', 'buon', 'prodotto', 'valido', 'ottimo', 'benefit', 'rapporto', 'cost', 'qualità', 'qualita']\n",
      "Topic 29: ['kiprun', 'kd900x', 'kd900', 'depuis', 'ld', 'marques', 'ks', 'premier', 'marathon', 'cette']\n",
      "Topic 30: ['comfy', 'hitt', 'light', 'offertes', 'jogging', 'ground', 'gives', 'recommended', 'weight', 'morbide']\n",
      "Topic 31: ['taille', 'bigger', 'small', 'size', 'tailles', 'sizes', 'sizing', 'petit', 'peu', 'íillets']\n",
      "Topic 32: ['semelle', 'glissante', 'usure', 'sol', 'trop', 'rapide', 'longtemps', 'mois', 'après', 'agreable']\n",
      "Topic 33: ['fit', 'looks', 'comfortable', 'fits', 'perfectly', 'wor', 'looking', 'goes', 'true', 'stays']\n",
      "Topic 34: ['confortables', 'walking', 'passeggio', 'correre', 'passeggiate', 'running', 'versatili', 'camminare', 'morbide', 'quotidienne']\n",
      "Topic 35: ['salle', 'sport', 'commencer', 'article', 'palestra', 'confortable', 'renfo', 'lègère', 'exercer', 'activté']\n",
      "Topic 36: ['leggere', 'prodotto', 'buon', 'qualità', 'particolare', 'confortevole', 'bery', 'rapporto', 'prezzo', 'ottimo']\n",
      "Topic 37: ['ran', 'miami', 'bouncy', 'fast', 'favorite', 'flying', 'bough', 'loveeee', 'run', 'getting']\n",
      "Topic 38: ['rapporto', 'qualità', 'rapport', 'prezzo', 'qualité', 'prix', 'buon', 'taking', 'pb', 'ottimo']\n",
      "Topic 39: ['fille', 'daughter', 'figlia', 'ans', 'sport', 'désire', 'november', 'ballot', 'acheté', 'granddaughter']\n",
      "Topic 40: ['uncomfortable', 'waste', 'ball', 'worst', 'immediatamente', 'arco', '36', 'male', 'money', 'supporto']\n",
      "Topic 41: ['electricity', 'hit', 'course', 'streets', 'returns', 'makes', 'personal', 'putting', 'âtonnée', 'buonissime']\n",
      "Topic 42: ['ever', 'best', 'purchase', 'snugly', 'bony', 'molds', 'holds', 'perfectly', 'saw', 'fits']\n",
      "Topic 43: ['légères', 'opinions', 'hang', 'souples', 'confortables', 'wet', 'fashionable', 'amortissant', 'aérées', 'occasion']\n",
      "Topic 44: ['nice', 'comoda', 'black', 'underrated', 'profile', 'elegant', 'color', 'outfits', 'perfezione', 'colour']\n",
      "Topic 45: ['gd', 'ottime', 'selection', 'spettacolare', 'consigliatissime', 'aggressive', 'miste', 'dissestate', 'performs', 'conçues']\n",
      "Topic 46: ['runtraining', 'üëé', 'running', 'lightweight', 'ap3', 'squeaky', 'recommencer', 'workhorse', 'noise', 'fits']\n",
      "Topic 47: ['purchase', 'compliments', '100', 'buy', 'loved', 'string', 'love', 'recommend', 'look', 'comfortable']\n",
      "Topic 48: ['deuxième', 'paire', 'achète', 'secondo', '2eme', '2ème', 'paio', 'seconde', 'satisfait', 'returned']\n",
      "Topic 49: ['agréable', 'légère', 'légères', 'porter', 'agréables', 'zumba', 'léger', 'remplies', 'ammortizzate', 'durevole']\n",
      "Topic 50: ['parfait', 'course', 'parfaite', 'coureur', 'débutante', 'arrêts', 'courir', 'saint', 'reprise', 'type']\n",
      "Topic 51: ['trainers', 'trainer', 'superlatives', 'theses', 'looking', 'colour', 'price', 'simply', 'stands', 'really']\n",
      "Topic 52: ['camminata', 'camminare', 'fare', 'marche', 'surpoid', 'activé', 'capitale', 'asfaltata', 'filate', 'viaggi']\n",
      "Topic 53: ['correction', 'fois', 'acquistato', '2ème', 'wave', 'achète', 'deux', 'satisfaite', 'mizuno', 'secondo']\n",
      "Topic 54: ['gym', 'palestra', 'workout', 'perfect', 'rapporto', 'prezzo', 'qualità', 'nice', 'amortizzamento', 'forgot']\n",
      "Topic 55: ['passeggiate', 'fotting', 'nicee', 'marche', 'camminata', 'sers', 'promenades', 'outdoor', 'camminare', 'alcune']\n",
      "Topic 56: ['route', 'compteur', 'fère', 'pulse', 'km', 'sortie', 'chemin', 'moyen', 'gravier', 'dirais']\n",
      "Topic 57: ['comoda', 'leggera', 'camminate', 'camminare', 'lunghe', 'ottima', 'economica', 'agonistico', 'camminata', 'aiuta']\n",
      "Topic 58: ['convenant', 'parfaitement', 'perfette', 'needed', 'hitting', 'corsa', 'styling', 'accueillir', 'plush', 'fresh']\n",
      "Topic 59: ['chère', 'wise', 'chères', 'minimaliste', 'overall', 'thing', 'classy', 'good', 'price', 'élevé']\n",
      "Topic 60: ['scarpetta', 'po', 'stretta', 'pianta', 'larghezza', 'troppo', 'piacciono', 'larga', 'corta', 'vestibilità']\n",
      "Topic 61: ['attentes', 'répond', 'produit', 'correspond', 'conforme', 'bon', 'description', 'adéquation', 'annoncé', 'ete']\n",
      "Topic 62: ['adidas', 'classic', 'jad', 'besy', 'garanzia', 'response', 'consigliatissime', 'sneakers', 'rende', 'always']\n",
      "Topic 63: ['xt7', 'xt8', 'paires', 'modèle', 'boue', 'xt', 'accroche', 'toujours', 'neige', 'plus']\n",
      "Topic 64: ['üëè', 'paio', 'garda', 'desenzano', 'bicicletta', 'discrète', 'ieri', 'mini', 'recommandées', 'paia']\n",
      "Topic 65: ['sport', 'salle', 'idéal', 'courir', 'parfaites', 'raide', 'maxi', '1080', 'intensif', 'eps']\n",
      "Topic 66: ['agréablement', 'sens', 'chaussons', 'agréables', 'agréable', 'confortable', 'hyper', 'sérieusement', 'comme', 'tres']\n",
      "Topic 67: ['pair', 'another', 'buy', 'definitely', 'tonight', 'expected', 'blown', 'bought', 'reference', 'would']\n",
      "Topic 68: ['adidas', 'size', 'ordered', 'loud', 'squeak', 'order', 'policy', 'men', 'small', 'back']\n",
      "Topic 69: ['fitting', 'cheaply', 'product', 'supinazione', 'original', 'loose', 'gabarit', 'esperto', 'costaud', 'packing']\n",
      "Topic 70: ['pied', 'lignes', 'aérodynamique', 'cacaneéne', 'agréable', 'base', 'maintient', 'recup', 'espadrille', 'épine']\n",
      "Topic 71: ['léger', 'agrippe', 'produit', 'suola', 'caratterizzati', 'mean', 'bon', 'exellent', 'confort', 'magari']\n",
      "Topic 72: ['reattiva', 'veloci', 'abbassiamo', 'aumentiamo', 'stesso', 'ottima', 'lavori', 'ritmo', 'pianura', 'ammortizzata']\n",
      "Topic 73: ['lacets', 'troppo', 'crea', 'usent', 'languette', 'infortuni', 'curva', 'trop', 'double', 'diversa']\n",
      "Topic 74: ['revêtement', 'semaines', 'désagréable', 'mois', 'intérieur', 'months', 'magasin', 'utilisation', 'déchire', 'car']\n",
      "Topic 75: ['scuola', 'sport', 'educazione', 'fisica', 'école', 'base', 'sports', 'qualité', 'collège', 'competitors']\n",
      "Topic 76: ['pxs1', 'became', '1k', 'faulty', 'sembrato', 'felt', 'eyelets', 'rumore', 'fatto', 'annoyed']\n",
      "Topic 77: ['aiutarti', 'qualcuno', 'principianti', 'course', 'demarrer', 'training', 'principale', 'alternare', 'semi', 'premiere']\n",
      "Topic 78: ['marshmallow', 'hurt', 'splints', 'sponge', 'giornaliere', 'feet', 'pain', 'shin', 'sound', 'uncomfortable']\n",
      "Topic 79: ['would', 'buy', 'tx', 'purchase', 'yellow', 'great', 'happy', 'scheme', 'black', 'definitely']\n",
      "Topic 80: ['consigliamo', 'comoda', 'bella', 'judging', 'ottimi', 'win', 'materiali', 'looking', 'perfetta', 'looks']\n",
      "Topic 81: ['feet', 'ultraboost21', 'adistar3', 'launch', 'replacement', 'legs', 'pair', 'softer', 'bought', 'supported']\n",
      "Topic 82: ['paio', 'versions', 'secondo', 'weighed', 'order', 'first', 'surprising', 'latest', 'yes', 'primo']\n",
      "Topic 83: ['rapport', 'qualité', 'prix', 'tarif', 'bon', 'modéle', 'drôtme', 'officielles', 'valence', 'achéte']\n",
      "Topic 84: ['compromesso', 'buon', 'rapport', 'buona', 'prezzo', 'complesso', 'rapporto', 'dunque', 'saltata', 'difficoltànelle']\n",
      "Topic 85: ['cara', 'vale', 'trovata', 'spesa', 'reattivitàdi', 'bellissima', 'scettico', 'reattiva', 'acquistata', 'soddisfatto']\n",
      "Topic 86: ['boue', 'secures', 'booty', 'après', 'longue', 'loads', 'humide', 'packed', 'pouvoir', 'testé']\n",
      "Topic 87: ['laces', 'tiny', 'roomy', 'shoelaces', 'séduisante', 'ceiling', 'ternir', 'toes', 'need', 'papier']\n",
      "Topic 88: ['functionality', 'certainly', 'liked', 'complemented', 'bunion', 'mold', 'factor', 'complements', 'weave', 'cushioning']\n",
      "Topic 89: ['fille', 'fils', 'adore', 'collège', 'scolaire', 'ravie', 'quitte', 'sport', 'ans', 'adoré']\n",
      "Topic 90: ['semelle', 'semelles', 'pierres', 'quand', 'décolle', 'bout', 'extérieur', 'rocailleux', 'volcanique', 'mousse']\n",
      "Topic 91: ['fuoriesca', 'stretta', 'centro', 'centrale', 'taille', 'impressione', 'prendre', '39', 'interna', 'idéalement']\n",
      "Topic 92: ['draft', 'lengthy', 'flashier', 'write', 'popped', 'erased', 'saving', 'regrette', 'déçu', 'espadrilles']\n",
      "Topic 93: ['marcher', 'marche', 'sufficientemente', 'decina', 'walking', 'quotidienne', 'performanti', 'morning', 'tapis', 'veramente']\n",
      "Topic 94: ['contrefort', 'entrambe', 'laces', 'tear', 'sen', 'loosing', 'fallata', 'sinistra', 'languette', 'visibilmente']\n",
      "Topic 95: ['version', 'plastic', '1st', 'eyelets', 'versione', 'downsides', 'malleoli', 'except', 'occhielli', 'dug']\n",
      "Topic 96: ['works', 'padding', 'breaker', 'prevalent', 'flex', 'corner', 'gel', 'retail', 'touch', 'turning']\n",
      "Topic 97: ['adidas', 'star', 'okay', 'us', 'dave', 'colourways', 'supreme', 'seems', 'far', 'enhance']\n",
      "Topic 98: ['product', 'precise', 'superb', 'lasting', 'ver', 'level', 'smooth', 'designed', 'piaciuto', 'described']\n",
      "Topic 99: ['couleur', 'orange', 'pink', 'choix', 'vert', 'posted', '2018', 'couleurs', 'rose', 'less']\n",
      "Topic 100: ['boue', 'humide', 'glissade', 'patinage', 'parlons', 'artistique', 'seule', 'sec', 'assurée', 'flagrant']\n",
      "Topic 101: ['confortable', 'bonne', 'accroche', 'robustes', 'imperméable', 'pretese', 'agréables', 'troppe', 'imperméabilité', 'footwear']\n",
      "Topic 102: ['faites', 'peut', 'vrais', 'demandes', 'procèdes', 'roulement', 'recherchez', 'autres', 'aération', 'méchant']\n",
      "Topic 103: ['consegna', 'tempi', 'spedizione', 'prodotto', 'definition', 'puntuale', 'date', 'shipping', 'ottimo', 'meet']\n",
      "Topic 104: ['adepte', 'greta', 'puts', 'äôai', 'couru', 'mt2', 'prima', 'fun', 'déjanté', 'poste']\n",
      "Topic 105: ['bella', 'purple', 'lavender', 'amazingly', 'combo', 'beautiful', 'grigio', 'nero', 'joli', 'colori']\n",
      "Topic 106: ['palestra', 'gym', 'articoli', 'deuxieme', 'uso', 'amortissement', 'musculaire', 'entraînement', 'attivitàfisica', 'sers']\n",
      "Topic 107: ['numerous', 'dogs', 'lacing', 'piece', '10km', 'developed', 'team', 'plastic', 'sente', 'ortopedici']\n",
      "Topic 108: ['gift', 'purchase', 'boyfriend', 'pleased', 'sister', 'gave', 'fidanzato', 'pulito', 'nico', 'trovati']\n",
      "Topic 109: ['38', 'habituellement', 'numero', '39', '44', 'prendre', 'supplémentaire', 'pris', '42', 'petit']\n",
      "Topic 110: ['runner', 'bright', 'unparalleled', 'runners', 'currently', 'breezy', 'recommended', 'holiday', 'races', 'market']\n",
      "Topic 111: ['v1', 'strung', 'prime', 'different', 'stable', 'heavier', 'version', 'v2', 'tamed', 'lighter']\n",
      "Topic 112: ['adidas', 'secret', 'beats', 'kept', 'ultraboost', 'else', 'outlet', 'nothing', 'hiding', 'hola']\n",
      "Topic 113: ['cut', 'foot', 'size', 'tab', 'normal', 'still', 'joy', 'soo', 'abit', 'lil']\n",
      "Topic 114: ['partner', 'felt', 'amazing', 'foo', 'remind', 'shockingly', 'vraies', 'medial', 'years', 'sexy']\n",
      "Topic 115: ['nordique', 'marche', 'automne', 'animateur', 'pronatori', 'bonne', 'supers', 'bonnes', 'nordic', 'hivernale']\n",
      "Topic 116: ['starter', 'conversation', 'beating', 'records', 'tier', 'personal', 'im', 'transition', 'perfect', 'running']\n",
      "Topic 117: ['fabulous', 'pr', 'enjoy', 'marathon', 'best', '5k', 'fav', 'asked', 'say', 'half']\n",
      "Topic 118: ['lento', 'perònon', 'corto', 'inadeguate', 'cerco', 'malaysia', 'armi', 'pelo', 'dir', 'tight']\n",
      "Topic 119: ['déçu', 'ampoules', 'talon', 'pieds', 'fault', 'malheureusement', 'jamais', 'talons', 'rien', 'tr2']\n",
      "Topic 120: ['leggera', 'rapporto', 'qualitàprezzo', 'plate', 'comoda', 'structure', 'prezzo', 'major', 'responsiveness', 'personally']\n",
      "Topic 121: ['promos', 'best', 'ever', 'amazing', 'purchase', 'triple', 'repetitor', 'love', 'cant', 'wise']\n",
      "Topic 122: ['motion', 'tokyo', 'max', 'expectations', 'heel', 'cushioned', 'strap', 'elevated', 'overcame', 'push']\n",
      "Topic 123: ['10k', '5k', 'distance', 'racing', 'races', 'pace', 'short', 'paced', 'fast', 'nimble']\n",
      "Topic 124: ['sneakers', 'white', 'person', 'sketcher', 'pronate', 'roomier', 'cutest', '2016', 'sneaker', 'price']\n",
      "Topic 125: ['qualitàunica', 'equilibrare', 'formidabili', 'traumi', 'riescono', 'corsa', 'ottimme', 'ammortizazine', 'lenta', 'peso']\n",
      "Topic 126: ['left', 'troppo', 'foot', 'stretto', 'dimensioni', 'us', 'unfortunately', 'strette', 'size', 'smallest']\n",
      "Topic 127: ['strong', 'previous', 'stride', 'springy', 'far', 'years', 'frequency', 'nonexistent', 'established', 'arguably']\n",
      "Topic 128: ['qualitée', 'trouvèmieux', 'logos', 'articles', 'costoso', 'visit', 'prix', 'sachant', 'vedremo', 'pretendere']\n",
      "Topic 129: ['conseillé', 'produit', 'fortement', 'conseille', 'recommandé', 'ítem', 'jordanie', 'qualitàmolto', 'renseignée', 'recomended']\n",
      "Topic 130: ['troppe', 'pretese', 'prretese', 'hann', 'accettabili', 'ricercano', 'affordable', 'useful', 'prestazioni', 'pagato']\n",
      "Topic 131: ['love', 'sneakers', 'nana', 'black', 'true', 'perfect', '3rd', 'üíï', 'convenient', 'propell']\n",
      "Topic 132: ['plate', 'cushioning', 'customizable', 'nerve', 'pressing', 'subtract', 'varied', 'roller', 'flare', '15s']\n",
      "Topic 133: ['weight', 'ânorme', 'poids', 'oz', 'grassy', 'rocky', 'areas', 'pbs', 'pavement', 'roads']\n",
      "Topic 134: ['immmeanse', 'longs', 'preferred', 'rock', 'dazzling', 'alot', 'fave', 'liked', 'response', 'terrific']\n",
      "Topic 135: ['camminare', 'summer', 'camminate', 'lunghe', 'ordinaire', 'estate', 'uso', 'prodotto', 'buon', 'imbatable']\n",
      "Topic 136: ['ever', 'bounciest', 'worn', 'owned', 'em', 'work', 'best', 'stylish', 'comfortable', 'exercise']\n",
      "Topic 137: ['refund', 'package', 'service', 'terrible', 'lost', 'adidas', 'servizio', 'customer', 'ship', 'order']\n",
      "Topic 138: ['walking', 'walk', 'ergonomiche', 'relax', 'semplici', 'occhi', 'commuting', 'minimalistic', 'definite', 'eanche']\n",
      "Topic 139: ['ampoules', 'ampoule', 'sortie', 'achille', 'talons', 'talon', 'jamais', 'droit', 'tendon', 'niveau']\n",
      "Topic 140: ['adidas', 'sweatsuits', 'purchases', 'jeans', 'love', 'funzionali', 'pairs', 'lot', 'priced', 'one']\n",
      "Topic 141: ['marathon', 'ml', 'ride', 'aches', 'showed', 'garantisce', 'bounce', 'ama', 'cruiser', 'outer']\n",
      "Topic 142: ['prodotto', 'prezzo', 'basso', 'abordable', 'linea', 'buono', 'ottimo', 'buon', 'fattura', 'convenientissimo']\n",
      "Topic 143: ['cloud', 'odd', 'energy', 'slower', 'responsive', 'feels', 'courir', 'paced', 'return', 'comes']\n",
      "Topic 144: ['pioggia', 'scivolosa', 'scivolare', 'leau', 'bagnato', 'piove', 'eau', 'suola', 'acqua', 'discesa']\n",
      "Topic 145: ['aussitôtt', 'régulièrement', 'achète', 'achete', 'regalo', 'servent', 'rachète', 'risultate', 'anni', 'testées']\n",
      "Topic 146: ['bonnes', 'tres', 'maintiennent', 'bonne', 'ŕesistantes', 'treß', 'gras', 'parkour', 'terrain', 'notamment']\n",
      "Topic 147: ['conveniente', 'bargain', 'ottime', 'based', 'excellente', 'affordable', 'prese', 'urto', 'dlls', 'discout']\n",
      "Topic 148: ['height', 'stack', 'uneven', 'snug', 'stand', 'strung', 'high', 'averages', 'jsed', 'intoxicated']\n",
      "Topic 149: ['muglio', 'scuro', 'rifinita', 'cammina', 'polyvalente', 'blu', 'âtanchéité', 'opportunities', 'cosìbella', 'buonissima']\n",
      "Topic 150: ['checks', 'cercando', 'pros', 'heavy', 'piacevolmente', 'sinking', 'quicksand', 'switching', 'mixes', 'sorpreso']\n",
      "Topic 151: ['terzo', 'compro', 'paio', 'già', 'anni', 'üòò', 'rubato', 'continuino', 'articolo', '3e']\n",
      "Topic 152: ['collecting', 'tune', 'love', 'comfortables', 'paint', 'owned', 'version', 'favorite', 'one', 'terms']\n",
      "Topic 153: ['design', 'carino', 'photos', 'légèreté', 'language', 'agein', 'informale', 'colles', 'penalizza', '75kg']\n",
      "Topic 154: ['designe', 'design', 'nice', 'beautiful', 'beau', 'product', 'vista', 'belle', 'couteaux', 'utilisèsur']\n",
      "Topic 155: ['rose', 'femmes', 'pourquoi', 'saumon', 'femme', 'beige', 'anno', 'compliqué', 'fluo', 'quest']\n",
      "Topic 156: ['solves', 'retina', 'dita', 'tallone', 'responsive', 'po', 'giù', 'punta', 'muoversi', 'élastique']\n",
      "Topic 157: ['leggere', 'comode', 'confortevoli', 'meravigliose', 'giornata', 'palestra', 'molto', 'percepiscono', 'saltelli', 'davano']\n",
      "Topic 158: ['considering', 'produit', 'qualité', 'bon', 'arrivato', 'anyone', 'rapport', 'product', 'amicalement', 'jacqies']\n",
      "Topic 159: ['gym', 'workout', 'treadmill', 'training', 'color', 'sneakers', 'sturdy', 'fight', 'participate', 'bct']\n",
      "Topic 160: ['definitely', 'worth', 'respect', 'sneaker', 'including', 'salissent', 'jettent', 'sold', 'valent', 'apportent']\n",
      "Topic 161: ['phantom', 'recurrence', 'marathon', '11s', 'biginers', 'blister', 'training', 'durability', 'spring', 'boston']\n",
      "Topic 162: ['palestra', 'leggerezza', 'confortevoli', 'casual', 'acquistate', 'superl', 'ventina', 'utiles', 'eggere', 'praticitànell']\n",
      "Topic 163: ['consiglio', 'ottimo', 'acquisto', 'vivamente', 'üôñ', 'wowwwwww', 'comoditàil', 'fjdksicje', 'ottims', 'gud']\n",
      "Topic 164: ['trainer', 'colour', 'trainers', 'enjoyed', 'mixture', 'stress', 'colours', 'many', 'absolutely', 'daily']\n",
      "Topic 165: ['stripes', 'colors', 'walking', 'stripe', 'like', 'logo', 'three', 'clouds', 'color', 'adore']\n",
      "Topic 166: ['scuola', 'ginnastica', 'figlio', 'prese', 'ragazzi', 'pratiquer', 'prezzo', 'preso', 'ora', 'usa']\n",
      "Topic 167: ['cloud', 'additional', 'clouds', 'intrigued', 'lift', 'batteries', 'reborn', 'walking', 'farther', 'sounds']\n",
      "Topic 168: ['porto', 'comprato', 'realtà', 'changer', 'giorni', 'quasi', 'andare', 'vais', 'praticamente', 'surface']\n",
      "Topic 169: ['genou', 'bottoms', 'rubs', 'premi', 'improvements', 'äôavais', 'heal', 'äôune', 'hold', 'sure']\n",
      "Topic 170: ['apprécie', 'tho', 'pricey', 'money', 'running', 'qs', 'hamburg', 'caldamente', 'giudizi', 'trasparente']\n",
      "Topic 171: ['firm', 'mushy', 'pillow', 'stays', 'power', 'sliding', 'tread', 'dry', 'sole', 'supportive']\n",
      "Topic 172: ['pianta', 'larga', 'plantare', 'po', 'mm', 'absence', 'caso', 'limite', 'preferito', 'forse']\n",
      "Topic 173: ['wife', 'loves', 'moglie', 'bought', 'mom', 'believes', 'said', 'anziana', 'areate', 'ladies']\n",
      "Topic 174: ['rapport', 'qualité', 'prix', 'bon', 'eme', 'exellent', 'usage', 'maintenant', 'courante', 'reguliere']\n",
      "Topic 175: ['sneaker', 'flexible', 'others', 'outfits', 'gamme', 'recommend', 'fractures', 'salir', 'tropical', 'sopporta']\n",
      "Topic 176: ['passeggiate', 'qualità', 'rapporto', 'sostenute', 'prezzo', 'città', 'lunghe', 'qualitàprezzo', 'pensavo', 'adatto']\n",
      "Topic 177: ['moyen', '38', '800', 'passi', 'mise', '37', 'semaine', 'km', '60', 'journaliers']\n",
      "Topic 178: ['clouds', 'nuages', 'impression', 'walking', 'comfy', 'presque', 'cloud', 'feels', 'nuvole', 'adore']\n",
      "Topic 179: ['superb', 'lond', 'weapon', 'unrivalled', 'perfrect', 'nyc', 'best', 'absolute', 'tired', 'distance']\n",
      "Topic 180: ['terrex', 'trail', 'premières', 'often', 'downhills', 'plenty', 'knees', 'agravic', 'anyhow', 'milers']\n",
      "Topic 181: ['smash', 'compliments', 'streets', 'lovely', 'colors', 'ready', 'ones', 'amazing', 'recieve', 'confortablebe']\n",
      "Topic 182: ['savona', 'fourth', 'adopter', 'strung2', 'competitor', 'artistically', 'gen', 'consistently', 'words', 'grazie']\n",
      "Topic 183: ['insodisfacente', '2m', 'déçu', 'cs', 'poor', 'deludente', 'worst', 'satisfaction', 'delivery', 'adistar']\n",
      "Topic 184: ['200', 'hits', 'poor', 'unbearable', '300', 'uper', 'construction', 'bc', 'miles', 'ur']\n",
      "Topic 185: ['cleaning', 'raison', 'distances', 'longévité', 'mois', 'semaines', 'nuove', 'prends', 'semelles', '46']\n",
      "Topic 186: ['insane', 'kinda', 'faster', 'push', 'actually', 'best', 'extremely', 'extra', 'job', 'excels']\n",
      "Topic 187: ['palestra', 'salle', 'activité', 'buone', 'sport', 'satisfaction', 'principalement', 'confortables', 'uso', 'élégantes']\n",
      "Topic 188: ['x2', 'takes', 'make', 'wide', 'picked', 'foot', 'alterations', 'digress', 'bounces', 'asset']\n",
      "Topic 189: ['utilise', 'travail', 'perfetto', 'quotidien', 'offerte', 'niquel', 'soignante', 'quelqu', 'tous', 'jours']\n",
      "Topic 190: ['estate', 'fresche', 'estiva', 'estivo', 'stagione', 'periodo', 'temperature', 'estive', 'comodissime', 'nuvola']\n",
      "Topic 191: ['tied', 'ankle', 'heavy', 'sick', 'downside', 'five', 'loosely', 'leaving', 'aesthetically', 'unreal']\n",
      "Topic 192: ['decathlon', 'worst', 'guarantee', 'sweat', 'commande', 'strongly', 'smell', 'tear', 'expectations', 'product']\n",
      "Topic 193: ['color', 'white', 'love', 'comfortably', 'luxury', 'planta', 'fascitis', 'luv', 'liked', 'oh']\n",
      "Topic 194: ['contente', 'achat', 'soddisfatto', 'satisfaite', 'content', 'acquisto', 'replicato', 'couler', 'essendomi', 'impeccable']\n",
      "Topic 195: ['mark', 'give', 'women', 'supp', 'reglage', 'slender', 'pronator', 'boite', 'prob', 'stupefacente']\n",
      "Topic 196: ['life', 'ever', 'wishes', 'softness', 'owned', 'add', 'digs', 'sneaker', 'best', 'lasted']\n",
      "Topic 197: ['size', 'half', 'small', 'trainers', 'noticed', 'sizing', 'big', 'difference', 'radlce', 'dk']\n",
      "Topic 198: ['carefull', 'numero', 'buon', 'attendais', 'qualitàprezzo', 'mezzo', 'taglie', 'amélioration', 'buono', 'chères']\n",
      "Topic 199: ['winner', 'prior', 'happy', 'soddisfatto', 'achat', 'improved', 'satisfaite', 'contente', 'acquisto', 'sperimentata']\n",
      "Topic 200: ['bed', 'memory', 'correct', 'convenait', 'parfait', 'rebond', 'joli', 'definita', 'corns', 'silence']\n",
      "Topic 201: ['gift', 'loves', 'daughter', 'mom', 'mother', 'aunt', 'likes', 'mamma', 'maman', 'comodi']\n",
      "Topic 202: ['accidenté', 'park', 'trail', 'idéale', 'hiking', 'outdoor', 'courir', '2uscite', 'alpin', 'seynod']\n",
      "Topic 203: ['lightweight', 'pratica', 'impegnativo', 'beginners', 'res', 'posizionare', 'continuous', 'format', 'crafted', 'men']\n",
      "Topic 204: ['rubber', 'alternatively', 'conti', 'concaving', 'elites', 'center', 'aware', 'edges', 'rip', 'tread']\n",
      "Topic 205: ['weight', 'stuck', 'string', 'light', 'heavy', 'combination', 'prefer', 'deliveries', 'december', 'true']\n",
      "Topic 206: ['figlio', 'fils', 'sûre', 'valeur', 'ado', 'choisi', 'diverse', 'usa', 'trova', 'convient']\n",
      "Topic 207: ['correre', 'outdoor', 'battuti', 'trainnig', 'cramping', 'dimentichi', 'chilly', 'faster', 'ventilated', 'ragazza']\n",
      "Topic 208: ['afford', 'fun', 'pricey', 'hope', 'worth', 'fast', 'freind', 'definitly', 'lindo', 'fantastic']\n",
      "Topic 209: ['carbons', 'carbon', 'flat', 'sense', 'encourages', 'stellar', 'legs', 'boy', 'responsiveness', 'tend']\n",
      "Topic 210: ['bouncy', 'hustling', 'treadmills', 'roads', 'show', '10e', 'wallwore', 'makes', 'gym', 'recommend']\n",
      "Topic 211: ['entr', 'stringe', 'supporto', 'laterale', 'difficiles', 'troué', 'caviglie', 'support', 'calzatura', 'rigida']\n",
      "Topic 212: ['rainy', 'season', 'giornaliero', 'scarponcino', 'libero', 'quotidianità', 'morbida', 'comoda', 'height', 'fatta']\n",
      "Topic 213: ['decathlon', 'products', 'annotations', '349', 'research', '799', 'verybad', 'rm449', 'thier', 'success']\n",
      "Topic 214: ['formidable', 'cool', 'awesome', 'carried', 'battus', 'adidastiche', 'madagascar', 'sixième', 'stylish', 'paires']\n",
      "Topic 215: ['rapport', 'qualité', 'article', 'prix', 'bon', 'basquette', 'sourire', 'très', 'mises', 'estime']\n",
      "Topic 216: ['taille', 'outlook', 'pinched', 'peu', 'serre', 'petit', 'étroit', 'serré', 'grand', 'amortis']\n",
      "Topic 217: ['sen', 'takumi', '5k', '10', 'fast', 'version', 'amount', '10k', 'races', 'speed']\n",
      "Topic 218: ['loves', 'employee', 'gift', 'lucky', 'wife', 'hype', 'live', 'em', 'initially', 'told']\n",
      "Topic 219: ['00', 'comodo', 'walking', 'amichevoli', 'chercare', 'aspettano', 'ucraina', 'immediata', 'gente', 'lavorano']\n",
      "Topic 220: ['comes', 'taglia', 'size', 'upsize', '5uk', '10uk', '42', 'smaller', '46', 'iam']\n",
      "Topic 221: ['corsa', 'qualité', 'commentaires', 'rapport', 'qualitàprezzo', 'dispone', 'unita', 'notare', 'tours', 'forniscono']\n",
      "Topic 222: ['ran', 'comfy', 'yet', '8k', 'nursing', 'outing', 'crosssl', 'couch', 'material', 'newbie']\n",
      "Topic 223: ['price', '51', 'gooooood', 'adiclub', 'hesitation', 'satisfied', 'cute', 'comfortable', 'deal', 'good']\n",
      "Topic 224: ['plus', 'part', 'espéré', 'promis', 'rebondissant', 'attends', 'reste', 'cosi', 'backpacking', 'tapent']\n",
      "Topic 225: ['tien', 'testés', 'safe', 'débutant', 'tant', 'aucune', 'stride', 'faster', 'utiliser', 'runner']\n",
      "Topic 226: ['grosse', 'bloccato', 'innovativo', 'prossimitàdel', 'difficoltoso', 'ingresso', 'laccio', 'passa', 'ampoule', 'elastico']\n",
      "Topic 227: ['loved', 'purchase', 'ever', 'best', 'outstanding', 'litle', 'english', 'money', 'value', 'girlfriend']\n",
      "Topic 228: ['abysmal', 'dreadful', 'despised', 'awesome', 'seen', 'üá', 'adore', 'lot', 'love', 'along']\n",
      "Topic 229: ['rimanendo', 'bold', 'terreni', 'terra', 'légères', 'offrono', 'quotidianamente', 'üëå', 'res', 'sostegno']\n",
      "Topic 230: ['combination', 'colors', 'color', 'stunning', 'impressive', 'price', 'accattivanti', 'arnab', 'sach', 'panja']\n",
      "Topic 231: ['rapport', 'qualité', 'besoins', 'prix', 'port', 'bon', 'convient', 'serata', 'tr', 'qualitàadidas']\n",
      "Topic 232: ['resolved', 'issue', 'cancelled', 'stitching', 'rolls', 'pleased', 'naturally', 'solid', 'heel', 'however']\n",
      "Topic 233: ['fly', 'theres', 'flaws', 'prs', 'tempo', 'peak', 'legit', 'sessions', 'technology', 'responsive']\n",
      "Topic 234: ['purpose', 'hardcore', 'adjusted', 'marathon', 'category', 'post', 'meant', 'propulsion', 'rock', 'honestly']\n",
      "Topic 235: ['légères', 'basketts', 'faciles', 'confortables', 'confortable', 'pathologie', 'moltonnee', 'auj', 'tr', 'coton']\n",
      "Topic 236: ['40', '39', 'today', '43', 'ordinato', 'gotta', 'bummer', 'troppo', 'came', 'hug']\n",
      "Topic 237: ['kd900', 'ks900', 'kd', 'modèle', '900x', 'kd900x', 'peu', 'relance', 'plus', 'modifications']\n",
      "Topic 238: ['premières', 'abords', 'mois', 'premier', 'impressions', 'état', 'confirmer', 'satisfaisant', 'differenza', 'essai']\n",
      "Topic 239: ['marathoners', 'raced', 'extend', 'atleast', 'doubt', 'ultra', 'road', 'third', 'smooth', 'race']\n",
      "Topic 240: ['racing', 'outsole', '168cm', '72kg', 'looses', 'targeted', 'road', 'training', '900km', 'speed']\n",
      "Topic 241: ['round', 'rise', 'daily', 'fence', 'trainer', 'labeled', 'threshold', 'block', 'used', 'trainers']\n",
      "Topic 242: ['miracle', 'version1', 'ankylosing', 'attacks', 'inflammation', 'spondylitis', 'spine', 'causes', 'losing', 'runs']\n",
      "Topic 243: ['carenti', 'salon', 'beautifull', 'good', 'option', 'thanks', 'complémentaires', 'decent', 'honnête', 'marine']\n",
      "Topic 244: ['eur', 'size', 'clean', 'slightly', 'small', 'ni', 'proportioned', 'thse', 'flexible', 'half']\n",
      "Topic 245: ['conveniente', 'prezzo', 'leggera', 'prinvcipale', 'loght', 'comoda', '1599', 'fattore', 'rs', 'bassissimo']\n",
      "Topic 246: ['toujours', 'fà', 'attendues', 'années', 'satisfait', 'modèle', '4ème', 'deja', 'autant', 'deuxieme']\n",
      "Topic 247: ['giovani', 'dura', 'çπ', 'vas', '5000', 'puòrisultare', 'adattta', 'abitua', 'aisan', 'stanca']\n",
      "Topic 248: ['kalenji', 'uomo', 'grigie', 'ekiden', '100', 'ka', 'aria', 'grey', 'grigio', 'jogflow']\n",
      "Topic 249: ['second', '2nd', 'casually', 'pair', 'ultimate', 'colorway', 'else', 'worn', 'anything', 'favourite']\n",
      "Topic 250: ['typically', 'buone', 'vieillissantes', 'pesca', 'raccolta', 'restare', 'asparagi', 'salve', 'iniziavano', 'toste']\n",
      "Topic 251: ['companion', 'training', 'ride', 'achieve', 'trainer', 'workouts', 'faster', 'putting', 'helped', 'plush']\n",
      "Topic 252: ['husband', 'space', 'alot', 'colorway', 'bouncy', 'pretty', 'color', 'loves', 'easy', 'daily']\n",
      "Topic 253: ['low', 'sl2', 'ultraboost', 'regular', 'despite', 'stack', 'hooked', 'stable', 'slide', 'stayed']\n",
      "Topic 254: ['ever', 'accross', 'futuristic', 'fastest', 'best', 'enjoy', 'probably', 'marathon', 'crammy', 'ran']\n",
      "Topic 255: ['concept', 'first', 'exhausted', 'primes', 'announced', 'laps', 'reality', 'released', 'skeptical', 'excited']\n",
      "Topic 256: ['runnings', 'courrir', 'sûrement', 'parfaite', 'ras', 'greasy', 'moves', '1000m', 'speedsters', 'willingness']\n",
      "Topic 257: ['podiatrist', '175lbs', 'alien', 'lol', '20s', 'scambio', 'scarso', 'exchange', 'tech', 'sore']\n",
      "Topic 258: ['sconto', 'costano', 'economica', 'usare', 'economiche', 'dovere', 'chiedi', 'uniti', 'italia', 'smartphone']\n",
      "Topic 259: ['souples', 'amorties', 'absorber', 'permettant', 'dynamiques', 'semelles', 'splay', 'calés', 'sottoposto', 'conseillées']\n",
      "Topic 260: ['protrusion', 'kg', 'acquistero', 'fortuna', 'bruciata', '1m84', 'fradice', 'ritrovato', '115km', 'acquazzone']\n"
     ]
    }
   ],
   "source": [
    "# ----- Topic Quality Evaluation -----\n",
    "\n",
    "# Compute silhouette score in UMAP space (optional, if not already computed)\n",
    "umap_embeddings = topic_model_mpnet.umap_model.transform(embeddings_mpnet)\n",
    "if len(set(topics_mpnet)) > 1:\n",
    "    sil_score = silhouette_score(umap_embeddings, topics_mpnet)\n",
    "else:\n",
    "    sil_score = np.nan\n",
    "\n",
    "# Calculate noise percentage (topic -1)\n",
    "noise_pct = np.mean(np.array(topics_mpnet) == -1)\n",
    "\n",
    "# Print evaluation summary\n",
    "print(\"------ Topic Quality Evaluation ------\")\n",
    "print(f\"Number of topics found      : {len(set(topics_mpnet)) - (1 if -1 in topics_mpnet else 0)}\")\n",
    "print(f\"Silhouette score (UMAP space): {sil_score:.4f}\")\n",
    "print(f\"Percentage of noise (–1 topic): {noise_pct*100:.2f}%\\n\")\n",
    "\n",
    "# Print top words per topic (e.g. top 10)\n",
    "print(\"Top words per topic:\")\n",
    "for topic_num in sorted(topic_model_mpnet.get_topics().keys()):\n",
    "    if topic_num is not None:\n",
    "        top_words = [word for word, _ in topic_model_mpnet.get_topic(topic_num)[:10]]\n",
    "        print(f\"Topic {topic_num}: {top_words}\")\n"
   ]
  },
  {
   "cell_type": "code",
   "execution_count": null,
   "metadata": {},
   "outputs": [
    {
     "ename": "SyntaxError",
     "evalue": "invalid syntax (3236676662.py, line 1)",
     "output_type": "error",
     "traceback": [
      "\u001b[0;36m  Cell \u001b[0;32mIn[38], line 1\u001b[0;36m\u001b[0m\n\u001b[0;31m    stop before hyperparameters tuning\u001b[0m\n\u001b[0m         ^\u001b[0m\n\u001b[0;31mSyntaxError\u001b[0m\u001b[0;31m:\u001b[0m invalid syntax\n"
     ]
    }
   ],
   "source": [
    "stop before hyperparameters tuning"
   ]
  },
  {
   "cell_type": "markdown",
   "metadata": {},
   "source": [
    "<a class=\"anchor\" id=\"13\">\n",
    "\n",
    "# 13. Hyperparameters Fine-Tuning\n",
    "    \n",
    "</a>"
   ]
  },
  {
   "cell_type": "markdown",
   "metadata": {},
   "source": [
    "## MiniLM-L12-v2"
   ]
  },
  {
   "cell_type": "code",
   "execution_count": null,
   "metadata": {},
   "outputs": [
    {
     "data": {
      "application/vnd.jupyter.widget-view+json": {
       "model_id": "b0d001fc974c479e8191c54494d13a0d",
       "version_major": 2,
       "version_minor": 0
      },
      "text/plain": [
       "Batches:   0%|          | 0/110 [00:00<?, ?it/s]"
      ]
     },
     "metadata": {},
     "output_type": "display_data"
    },
    {
     "name": "stdout",
     "output_type": "stream",
     "text": [
      "Testing: {'min_cluster_size': 15, 'min_samples': 3, 'n_neighbors': 10, 'n_components': 5, 'umap_metric': 'cosine'}\n",
      "Testing: {'min_cluster_size': 15, 'min_samples': 3, 'n_neighbors': 10, 'n_components': 5, 'umap_metric': 'manhattan'}\n",
      "Testing: {'min_cluster_size': 15, 'min_samples': 3, 'n_neighbors': 10, 'n_components': 8, 'umap_metric': 'cosine'}\n",
      "Testing: {'min_cluster_size': 15, 'min_samples': 3, 'n_neighbors': 10, 'n_components': 8, 'umap_metric': 'manhattan'}\n",
      "Testing: {'min_cluster_size': 15, 'min_samples': 3, 'n_neighbors': 15, 'n_components': 5, 'umap_metric': 'cosine'}\n",
      "Testing: {'min_cluster_size': 15, 'min_samples': 3, 'n_neighbors': 15, 'n_components': 5, 'umap_metric': 'manhattan'}\n",
      "Testing: {'min_cluster_size': 15, 'min_samples': 3, 'n_neighbors': 15, 'n_components': 8, 'umap_metric': 'cosine'}\n",
      "Testing: {'min_cluster_size': 15, 'min_samples': 3, 'n_neighbors': 15, 'n_components': 8, 'umap_metric': 'manhattan'}\n",
      "Testing: {'min_cluster_size': 15, 'min_samples': 5, 'n_neighbors': 10, 'n_components': 5, 'umap_metric': 'cosine'}\n",
      "Testing: {'min_cluster_size': 15, 'min_samples': 5, 'n_neighbors': 10, 'n_components': 5, 'umap_metric': 'manhattan'}\n",
      "Testing: {'min_cluster_size': 15, 'min_samples': 5, 'n_neighbors': 10, 'n_components': 8, 'umap_metric': 'cosine'}\n",
      "Testing: {'min_cluster_size': 15, 'min_samples': 5, 'n_neighbors': 10, 'n_components': 8, 'umap_metric': 'manhattan'}\n",
      "Testing: {'min_cluster_size': 15, 'min_samples': 5, 'n_neighbors': 15, 'n_components': 5, 'umap_metric': 'cosine'}\n",
      "Testing: {'min_cluster_size': 15, 'min_samples': 5, 'n_neighbors': 15, 'n_components': 5, 'umap_metric': 'manhattan'}\n",
      "Testing: {'min_cluster_size': 15, 'min_samples': 5, 'n_neighbors': 15, 'n_components': 8, 'umap_metric': 'cosine'}\n",
      "Testing: {'min_cluster_size': 15, 'min_samples': 5, 'n_neighbors': 15, 'n_components': 8, 'umap_metric': 'manhattan'}\n",
      "Testing: {'min_cluster_size': 25, 'min_samples': 3, 'n_neighbors': 10, 'n_components': 5, 'umap_metric': 'cosine'}\n",
      "Testing: {'min_cluster_size': 25, 'min_samples': 3, 'n_neighbors': 10, 'n_components': 5, 'umap_metric': 'manhattan'}\n",
      "Testing: {'min_cluster_size': 25, 'min_samples': 3, 'n_neighbors': 10, 'n_components': 8, 'umap_metric': 'cosine'}\n",
      "Testing: {'min_cluster_size': 25, 'min_samples': 3, 'n_neighbors': 10, 'n_components': 8, 'umap_metric': 'manhattan'}\n",
      "Testing: {'min_cluster_size': 25, 'min_samples': 3, 'n_neighbors': 15, 'n_components': 5, 'umap_metric': 'cosine'}\n",
      "Testing: {'min_cluster_size': 25, 'min_samples': 3, 'n_neighbors': 15, 'n_components': 5, 'umap_metric': 'manhattan'}\n",
      "Testing: {'min_cluster_size': 25, 'min_samples': 3, 'n_neighbors': 15, 'n_components': 8, 'umap_metric': 'cosine'}\n",
      "Testing: {'min_cluster_size': 25, 'min_samples': 3, 'n_neighbors': 15, 'n_components': 8, 'umap_metric': 'manhattan'}\n",
      "Testing: {'min_cluster_size': 25, 'min_samples': 5, 'n_neighbors': 10, 'n_components': 5, 'umap_metric': 'cosine'}\n",
      "Testing: {'min_cluster_size': 25, 'min_samples': 5, 'n_neighbors': 10, 'n_components': 5, 'umap_metric': 'manhattan'}\n",
      "Testing: {'min_cluster_size': 25, 'min_samples': 5, 'n_neighbors': 10, 'n_components': 8, 'umap_metric': 'cosine'}\n",
      "Testing: {'min_cluster_size': 25, 'min_samples': 5, 'n_neighbors': 10, 'n_components': 8, 'umap_metric': 'manhattan'}\n",
      "Testing: {'min_cluster_size': 25, 'min_samples': 5, 'n_neighbors': 15, 'n_components': 5, 'umap_metric': 'cosine'}\n",
      "Testing: {'min_cluster_size': 25, 'min_samples': 5, 'n_neighbors': 15, 'n_components': 5, 'umap_metric': 'manhattan'}\n",
      "Testing: {'min_cluster_size': 25, 'min_samples': 5, 'n_neighbors': 15, 'n_components': 8, 'umap_metric': 'cosine'}\n",
      "Testing: {'min_cluster_size': 25, 'min_samples': 5, 'n_neighbors': 15, 'n_components': 8, 'umap_metric': 'manhattan'}\n",
      "Testing: {'min_cluster_size': 35, 'min_samples': 3, 'n_neighbors': 10, 'n_components': 5, 'umap_metric': 'cosine'}\n",
      "Testing: {'min_cluster_size': 35, 'min_samples': 3, 'n_neighbors': 10, 'n_components': 5, 'umap_metric': 'manhattan'}\n",
      "Testing: {'min_cluster_size': 35, 'min_samples': 3, 'n_neighbors': 10, 'n_components': 8, 'umap_metric': 'cosine'}\n",
      "Testing: {'min_cluster_size': 35, 'min_samples': 3, 'n_neighbors': 10, 'n_components': 8, 'umap_metric': 'manhattan'}\n",
      "Testing: {'min_cluster_size': 35, 'min_samples': 3, 'n_neighbors': 15, 'n_components': 5, 'umap_metric': 'cosine'}\n",
      "Testing: {'min_cluster_size': 35, 'min_samples': 3, 'n_neighbors': 15, 'n_components': 5, 'umap_metric': 'manhattan'}\n",
      "Testing: {'min_cluster_size': 35, 'min_samples': 3, 'n_neighbors': 15, 'n_components': 8, 'umap_metric': 'cosine'}\n",
      "Testing: {'min_cluster_size': 35, 'min_samples': 3, 'n_neighbors': 15, 'n_components': 8, 'umap_metric': 'manhattan'}\n",
      "Testing: {'min_cluster_size': 35, 'min_samples': 5, 'n_neighbors': 10, 'n_components': 5, 'umap_metric': 'cosine'}\n",
      "Testing: {'min_cluster_size': 35, 'min_samples': 5, 'n_neighbors': 10, 'n_components': 5, 'umap_metric': 'manhattan'}\n",
      "Testing: {'min_cluster_size': 35, 'min_samples': 5, 'n_neighbors': 10, 'n_components': 8, 'umap_metric': 'cosine'}\n",
      "Testing: {'min_cluster_size': 35, 'min_samples': 5, 'n_neighbors': 10, 'n_components': 8, 'umap_metric': 'manhattan'}\n",
      "Testing: {'min_cluster_size': 35, 'min_samples': 5, 'n_neighbors': 15, 'n_components': 5, 'umap_metric': 'cosine'}\n",
      "Testing: {'min_cluster_size': 35, 'min_samples': 5, 'n_neighbors': 15, 'n_components': 5, 'umap_metric': 'manhattan'}\n",
      "Testing: {'min_cluster_size': 35, 'min_samples': 5, 'n_neighbors': 15, 'n_components': 8, 'umap_metric': 'cosine'}\n",
      "Testing: {'min_cluster_size': 35, 'min_samples': 5, 'n_neighbors': 15, 'n_components': 8, 'umap_metric': 'manhattan'}\n"
     ]
    }
   ],
   "source": [
    "# Sample from the dataset\n",
    "subset_df = df_miniLM.sample(3500, random_state=42)\n",
    "texts_subset = subset_df[\"Clean_Review\"].tolist()\n",
    "\n",
    "# Embedding model\n",
    "model = SentenceTransformer(\"sentence-transformers/paraphrase-multilingual-MiniLM-L12-v2\")\n",
    "embeddings_subset = model.encode(texts_subset, show_progress_bar=True, batch_size=32)\n",
    "\n",
    "# Stopwords\n",
    "stop_words_multilingual = list(set(\n",
    "    stopwords.words('english') +\n",
    "    stopwords.words('french') +\n",
    "    stopwords.words('italian')\n",
    "))\n",
    "vectorizer = CountVectorizer(stop_words=stop_words_multilingual)\n",
    "\n",
    "# Parameters Grid\n",
    "param_grid = [\n",
    "    {\"min_cluster_size\": mcs, \"min_samples\": ms, \"n_neighbors\": nn, \"n_components\": nc, \"umap_metric\": um}\n",
    "    for mcs in [15, 25, 35]\n",
    "    for ms in [3, 5]\n",
    "    for nn in [10, 15]\n",
    "    for nc in [5, 8]\n",
    "    for um in [\"cosine\", \"manhattan\"]\n",
    "]\n",
    "\n",
    "results = []\n",
    "\n",
    "for params in param_grid:\n",
    "    print(f\"Testing: {params}\")\n",
    "    \n",
    "    umap_model = UMAP(\n",
    "        n_neighbors=params[\"n_neighbors\"],\n",
    "        n_components=params[\"n_components\"],\n",
    "        min_dist=0.1,\n",
    "        metric=params[\"umap_metric\"]\n",
    "    )\n",
    "    \n",
    "    hdbscan_model = HDBSCAN(\n",
    "        min_cluster_size=params[\"min_cluster_size\"],\n",
    "        min_samples=params[\"min_samples\"],\n",
    "        metric=\"euclidean\",\n",
    "        prediction_data=True\n",
    "    )\n",
    "    \n",
    "    topic_model = BERTopic(\n",
    "        embedding_model=model,\n",
    "        umap_model=umap_model,\n",
    "        hdbscan_model=hdbscan_model,\n",
    "        vectorizer_model=vectorizer,\n",
    "        calculate_probabilities=False,\n",
    "        language=\"multilingual\",\n",
    "        verbose=False\n",
    "    )\n",
    "    \n",
    "    topics, _ = topic_model.fit_transform(texts_subset, embeddings_subset)\n",
    "    n_topics = len(set(topics)) - (1 if -1 in topics else 0)\n",
    "\n",
    "    # Calculate silhouette score on reduced UMAP embeddings\n",
    "    umap_embeddings = topic_model.umap_model.transform(embeddings_subset)\n",
    "    try:\n",
    "        if len(set(topics)) > 1:\n",
    "            sil_score = silhouette_score(umap_embeddings, topics)\n",
    "        else:\n",
    "            sil_score = np.nan\n",
    "    except:\n",
    "        sil_score = np.nan\n",
    "\n",
    "    # Percentage of unassigned points (noise)\n",
    "    noise_pct = np.mean(np.array(topics) == -1)\n",
    "\n",
    "    results.append({\n",
    "        \"min_cluster_size\": params[\"min_cluster_size\"],\n",
    "        \"min_samples\": params[\"min_samples\"],\n",
    "        \"n_neighbors\": params[\"n_neighbors\"],\n",
    "        \"n_components\": params[\"n_components\"],\n",
    "        \"umap_metric\": params[\"umap_metric\"],\n",
    "        \"hdbscan_metric\": \"euclidean\",\n",
    "        \"num_topics\": n_topics,\n",
    "        \"silhouette_score\": sil_score,\n",
    "        \"noise_pct\": noise_pct\n",
    "    })\n",
    "\n",
    "# Convert into a  DataFrame\n",
    "results_df = pd.DataFrame(results)"
   ]
  },
  {
   "cell_type": "code",
   "execution_count": null,
   "metadata": {},
   "outputs": [
    {
     "data": {
      "text/html": [
       "<div>\n",
       "<style scoped>\n",
       "    .dataframe tbody tr th:only-of-type {\n",
       "        vertical-align: middle;\n",
       "    }\n",
       "\n",
       "    .dataframe tbody tr th {\n",
       "        vertical-align: top;\n",
       "    }\n",
       "\n",
       "    .dataframe thead th {\n",
       "        text-align: right;\n",
       "    }\n",
       "</style>\n",
       "<table border=\"1\" class=\"dataframe\">\n",
       "  <thead>\n",
       "    <tr style=\"text-align: right;\">\n",
       "      <th></th>\n",
       "      <th>min_cluster_size</th>\n",
       "      <th>min_samples</th>\n",
       "      <th>n_neighbors</th>\n",
       "      <th>n_components</th>\n",
       "      <th>umap_metric</th>\n",
       "      <th>hdbscan_metric</th>\n",
       "      <th>num_topics</th>\n",
       "      <th>silhouette_score</th>\n",
       "      <th>noise_pct</th>\n",
       "    </tr>\n",
       "  </thead>\n",
       "  <tbody>\n",
       "    <tr>\n",
       "      <th>0</th>\n",
       "      <td>15</td>\n",
       "      <td>3</td>\n",
       "      <td>10</td>\n",
       "      <td>5</td>\n",
       "      <td>cosine</td>\n",
       "      <td>euclidean</td>\n",
       "      <td>51</td>\n",
       "      <td>-0.078824</td>\n",
       "      <td>0.432000</td>\n",
       "    </tr>\n",
       "    <tr>\n",
       "      <th>1</th>\n",
       "      <td>15</td>\n",
       "      <td>3</td>\n",
       "      <td>10</td>\n",
       "      <td>5</td>\n",
       "      <td>manhattan</td>\n",
       "      <td>euclidean</td>\n",
       "      <td>51</td>\n",
       "      <td>-0.163074</td>\n",
       "      <td>0.460857</td>\n",
       "    </tr>\n",
       "    <tr>\n",
       "      <th>4</th>\n",
       "      <td>15</td>\n",
       "      <td>3</td>\n",
       "      <td>15</td>\n",
       "      <td>5</td>\n",
       "      <td>cosine</td>\n",
       "      <td>euclidean</td>\n",
       "      <td>48</td>\n",
       "      <td>-0.084620</td>\n",
       "      <td>0.426000</td>\n",
       "    </tr>\n",
       "    <tr>\n",
       "      <th>6</th>\n",
       "      <td>15</td>\n",
       "      <td>3</td>\n",
       "      <td>15</td>\n",
       "      <td>8</td>\n",
       "      <td>cosine</td>\n",
       "      <td>euclidean</td>\n",
       "      <td>45</td>\n",
       "      <td>-0.082694</td>\n",
       "      <td>0.420571</td>\n",
       "    </tr>\n",
       "    <tr>\n",
       "      <th>10</th>\n",
       "      <td>15</td>\n",
       "      <td>5</td>\n",
       "      <td>10</td>\n",
       "      <td>8</td>\n",
       "      <td>cosine</td>\n",
       "      <td>euclidean</td>\n",
       "      <td>42</td>\n",
       "      <td>-0.098383</td>\n",
       "      <td>0.440286</td>\n",
       "    </tr>\n",
       "    <tr>\n",
       "      <th>2</th>\n",
       "      <td>15</td>\n",
       "      <td>3</td>\n",
       "      <td>10</td>\n",
       "      <td>8</td>\n",
       "      <td>cosine</td>\n",
       "      <td>euclidean</td>\n",
       "      <td>41</td>\n",
       "      <td>-0.015781</td>\n",
       "      <td>0.323429</td>\n",
       "    </tr>\n",
       "    <tr>\n",
       "      <th>7</th>\n",
       "      <td>15</td>\n",
       "      <td>3</td>\n",
       "      <td>15</td>\n",
       "      <td>8</td>\n",
       "      <td>manhattan</td>\n",
       "      <td>euclidean</td>\n",
       "      <td>41</td>\n",
       "      <td>-0.103703</td>\n",
       "      <td>0.411714</td>\n",
       "    </tr>\n",
       "    <tr>\n",
       "      <th>5</th>\n",
       "      <td>15</td>\n",
       "      <td>3</td>\n",
       "      <td>15</td>\n",
       "      <td>5</td>\n",
       "      <td>manhattan</td>\n",
       "      <td>euclidean</td>\n",
       "      <td>37</td>\n",
       "      <td>-0.077588</td>\n",
       "      <td>0.392000</td>\n",
       "    </tr>\n",
       "    <tr>\n",
       "      <th>12</th>\n",
       "      <td>15</td>\n",
       "      <td>5</td>\n",
       "      <td>15</td>\n",
       "      <td>5</td>\n",
       "      <td>cosine</td>\n",
       "      <td>euclidean</td>\n",
       "      <td>34</td>\n",
       "      <td>-0.037369</td>\n",
       "      <td>0.406571</td>\n",
       "    </tr>\n",
       "    <tr>\n",
       "      <th>14</th>\n",
       "      <td>15</td>\n",
       "      <td>5</td>\n",
       "      <td>15</td>\n",
       "      <td>8</td>\n",
       "      <td>cosine</td>\n",
       "      <td>euclidean</td>\n",
       "      <td>34</td>\n",
       "      <td>-0.106703</td>\n",
       "      <td>0.416000</td>\n",
       "    </tr>\n",
       "    <tr>\n",
       "      <th>8</th>\n",
       "      <td>15</td>\n",
       "      <td>5</td>\n",
       "      <td>10</td>\n",
       "      <td>5</td>\n",
       "      <td>cosine</td>\n",
       "      <td>euclidean</td>\n",
       "      <td>28</td>\n",
       "      <td>-0.037452</td>\n",
       "      <td>0.342857</td>\n",
       "    </tr>\n",
       "    <tr>\n",
       "      <th>15</th>\n",
       "      <td>15</td>\n",
       "      <td>5</td>\n",
       "      <td>15</td>\n",
       "      <td>8</td>\n",
       "      <td>manhattan</td>\n",
       "      <td>euclidean</td>\n",
       "      <td>28</td>\n",
       "      <td>-0.073769</td>\n",
       "      <td>0.395429</td>\n",
       "    </tr>\n",
       "    <tr>\n",
       "      <th>22</th>\n",
       "      <td>25</td>\n",
       "      <td>3</td>\n",
       "      <td>15</td>\n",
       "      <td>8</td>\n",
       "      <td>cosine</td>\n",
       "      <td>euclidean</td>\n",
       "      <td>25</td>\n",
       "      <td>-0.039867</td>\n",
       "      <td>0.372857</td>\n",
       "    </tr>\n",
       "    <tr>\n",
       "      <th>20</th>\n",
       "      <td>25</td>\n",
       "      <td>3</td>\n",
       "      <td>15</td>\n",
       "      <td>5</td>\n",
       "      <td>cosine</td>\n",
       "      <td>euclidean</td>\n",
       "      <td>23</td>\n",
       "      <td>0.004543</td>\n",
       "      <td>0.342000</td>\n",
       "    </tr>\n",
       "    <tr>\n",
       "      <th>16</th>\n",
       "      <td>25</td>\n",
       "      <td>3</td>\n",
       "      <td>10</td>\n",
       "      <td>5</td>\n",
       "      <td>cosine</td>\n",
       "      <td>euclidean</td>\n",
       "      <td>22</td>\n",
       "      <td>-0.002285</td>\n",
       "      <td>0.346857</td>\n",
       "    </tr>\n",
       "  </tbody>\n",
       "</table>\n",
       "</div>"
      ],
      "text/plain": [
       "    min_cluster_size  min_samples  n_neighbors  n_components umap_metric  \\\n",
       "0                 15            3           10             5      cosine   \n",
       "1                 15            3           10             5   manhattan   \n",
       "4                 15            3           15             5      cosine   \n",
       "6                 15            3           15             8      cosine   \n",
       "10                15            5           10             8      cosine   \n",
       "2                 15            3           10             8      cosine   \n",
       "7                 15            3           15             8   manhattan   \n",
       "5                 15            3           15             5   manhattan   \n",
       "12                15            5           15             5      cosine   \n",
       "14                15            5           15             8      cosine   \n",
       "8                 15            5           10             5      cosine   \n",
       "15                15            5           15             8   manhattan   \n",
       "22                25            3           15             8      cosine   \n",
       "20                25            3           15             5      cosine   \n",
       "16                25            3           10             5      cosine   \n",
       "\n",
       "   hdbscan_metric  num_topics  silhouette_score  noise_pct  \n",
       "0       euclidean          51         -0.078824   0.432000  \n",
       "1       euclidean          51         -0.163074   0.460857  \n",
       "4       euclidean          48         -0.084620   0.426000  \n",
       "6       euclidean          45         -0.082694   0.420571  \n",
       "10      euclidean          42         -0.098383   0.440286  \n",
       "2       euclidean          41         -0.015781   0.323429  \n",
       "7       euclidean          41         -0.103703   0.411714  \n",
       "5       euclidean          37         -0.077588   0.392000  \n",
       "12      euclidean          34         -0.037369   0.406571  \n",
       "14      euclidean          34         -0.106703   0.416000  \n",
       "8       euclidean          28         -0.037452   0.342857  \n",
       "15      euclidean          28         -0.073769   0.395429  \n",
       "22      euclidean          25         -0.039867   0.372857  \n",
       "20      euclidean          23          0.004543   0.342000  \n",
       "16      euclidean          22         -0.002285   0.346857  "
      ]
     },
     "execution_count": 41,
     "metadata": {},
     "output_type": "execute_result"
    }
   ],
   "source": [
    "results_df.sort_values(by=[\"num_topics\", \"silhouette_score\"], ascending=[False, False]).head(15)\n"
   ]
  },
  {
   "cell_type": "markdown",
   "metadata": {},
   "source": [
    "The best combination seems to be the index 8 (row 7) as it has a good balance between number of topics (31) and semantic quality (silhouette > 0.05); moreover, the percentage of noise is low and it is not too oversegmented like top 2 (48-46 topics, lots of noise). Others hood combination could be the index 6 and 56.\n"
   ]
  },
  {
   "cell_type": "code",
   "execution_count": null,
   "metadata": {},
   "outputs": [
    {
     "data": {
      "image/png": "[encoded data removed]",
      "text/plain": [
       "<Figure size 1200x600 with 1 Axes>"
      ]
     },
     "metadata": {},
     "output_type": "display_data"
    }
   ],
   "source": [
    "plt.figure(figsize=(12, 6))\n",
    "sns.scatterplot(\n",
    "    data=results_df,\n",
    "    x=\"silhouette_score\",\n",
    "    y=\"noise_pct\",\n",
    "    size=\"num_topics\",\n",
    "    hue=\"min_cluster_size\",\n",
    "    palette=\"viridis\",\n",
    "    sizes=(20, 200),\n",
    "    legend=\"brief\"\n",
    ")\n",
    "\n",
    "plt.title(\"BERTopic Tuning - Tradeoff: Silhouette vs Noise\")\n",
    "plt.xlabel(\"Silhouette Score (higher is better)\")\n",
    "plt.ylabel(\"Noise Percentage (lower is better)\")\n",
    "plt.grid(True)\n",
    "plt.legend(title=\"min_cluster_size\", bbox_to_anchor=(1.05, 1), loc='upper left')\n",
    "plt.tight_layout()\n",
    "plt.show()\n"
   ]
  }
 ],
 "metadata": {
  "kernelspec": {
   "display_name": "thesis_env",
   "language": "python",
   "name": "python3"
  },
  "language_info": {
   "codemirror_mode": {
    "name": "ipython",
    "version": 3
   },
   "file_extension": ".py",
   "mimetype": "text/x-python",
   "name": "python",
   "nbconvert_exporter": "python",
   "pygments_lexer": "ipython3",
   "version": "3.11.11"
  }
 },
 "nbformat": 4,
 "nbformat_minor": 2
}
